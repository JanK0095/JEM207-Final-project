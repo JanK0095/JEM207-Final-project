{
 "cells": [
  {
   "cell_type": "markdown",
   "metadata": {},
   "source": [
    "Import the necessary modules"
   ]
  },
  {
   "cell_type": "code",
   "execution_count": 1,
   "metadata": {},
   "outputs": [],
   "source": [
    "from tools.DatasetCompiler import DatasetCompiler   #Scrapes all available information for each restaurant from the given links and compiles \n",
    "                                                    #it into a pandas DataFrame. Alternatively, reads an already existing data set\n",
    "from tools.DataInterpreter import DataInterpreter   #Interprets and plots the data in a data set"
   ]
  },
  {
   "cell_type": "markdown",
   "metadata": {},
   "source": [
    "In the following cell please specify whether you want to utilize the existing data set (existing=True) or if you want to generate a new dataset from scratch (existing=False). The generating process involves web scraping and might take a while."
   ]
  },
  {
   "cell_type": "code",
   "execution_count": 2,
   "metadata": {},
   "outputs": [],
   "source": [
    "existing=True #\n",
    "\n",
    "if existing==True:\n",
    "    dataset_compiler=DatasetCompiler(existing=existing)\n",
    "    data_interpreter=DataInterpreter(dataset_compiler.dataset)\n",
    "elif existing==False: \n",
    "    from tools.MappingDictionaryGetter import MappingDictionaryGetter   #generates the dist_dict.json file which is the mapping dictionary for\n",
    "                                                                        #Prague districts. This file is needed in Restaurant.py for generating\n",
    "                                                                        #a district based on an address\n",
    "    from tools.LinkGetter import LinkGetter #Scrapes links to pages of individual restaurants in Prague from zlatestranky.cz\n",
    "    link_getter=LinkGetter()\n",
    "    dataset_compiler=DatasetCompiler(link_getter.links)\n",
    "    data_interpreter=DataInterpreter(dataset_compiler.dataset)\n",
    "else:\n",
    "    raise ValueError('Invalid input. Please specify existing as True or False')"
   ]
  },
  {
   "cell_type": "markdown",
   "metadata": {},
   "source": [
    "---"
   ]
  },
  {
   "cell_type": "markdown",
   "metadata": {},
   "source": [
    "# Data interpretation and visualization"
   ]
  },
  {
   "cell_type": "markdown",
   "metadata": {},
   "source": [
    "To get a glimpse of our data set, specify any number of rows you wish to view. Positive integers show rows from the top of the data set while negative show rows from the bottom."
   ]
  },
  {
   "cell_type": "code",
   "execution_count": 3,
   "metadata": {},
   "outputs": [
    {
     "data": {
      "text/html": [
       "<div>\n",
       "<style scoped>\n",
       "    .dataframe tbody tr th:only-of-type {\n",
       "        vertical-align: middle;\n",
       "    }\n",
       "\n",
       "    .dataframe tbody tr th {\n",
       "        vertical-align: top;\n",
       "    }\n",
       "\n",
       "    .dataframe thead th {\n",
       "        text-align: right;\n",
       "    }\n",
       "</style>\n",
       "<table border=\"1\" class=\"dataframe\">\n",
       "  <thead>\n",
       "    <tr style=\"text-align: right;\">\n",
       "      <th></th>\n",
       "      <th>name</th>\n",
       "      <th>address</th>\n",
       "      <th>district</th>\n",
       "      <th>ratings</th>\n",
       "      <th>review_count</th>\n",
       "      <th>opening_hours</th>\n",
       "      <th>opening_hours_span</th>\n",
       "      <th>email_address</th>\n",
       "      <th>phones</th>\n",
       "      <th>web_page</th>\n",
       "      <th>payment_methods</th>\n",
       "      <th>products</th>\n",
       "      <th>services</th>\n",
       "      <th>marks</th>\n",
       "      <th>coordinates</th>\n",
       "    </tr>\n",
       "  </thead>\n",
       "  <tbody>\n",
       "    <tr>\n",
       "      <th>0</th>\n",
       "      <td>Repre restaurant</td>\n",
       "      <td>Nekázanka 4/857, 110 00 Praha 1-Nové Město</td>\n",
       "      <td>Praha 1</td>\n",
       "      <td>0.0</td>\n",
       "      <td>0</td>\n",
       "      <td>{'Po': '10:30 - 23', 'Út': '10:30 - 23', 'St':...</td>\n",
       "      <td>{'Po': 12.5, 'Út': 12.5, 'St': 12.5, 'Čt': 12....</td>\n",
       "      <td>rezervace@repre-restaurant.cz</td>\n",
       "      <td>{'Restaurace Praha 1': '+420 222 211 451'}</td>\n",
       "      <td>http://www.repre-restaurant.cz</td>\n",
       "      <td>[faktura, hotově, VISA, MASTERCARD, CHEQUEDEJE...</td>\n",
       "      <td>[taneční parket]</td>\n",
       "      <td>[česká kuchyně, mezinárodní kuchyně, nekuřácký...</td>\n",
       "      <td>[salónek, klimatizace, bezbariérový přístup]</td>\n",
       "      <td>{'latitude': 50.08553, 'longitude': 14.42718}</td>\n",
       "    </tr>\n",
       "  </tbody>\n",
       "</table>\n",
       "</div>"
      ],
      "text/plain": [
       "               name                                     address district  \\\n",
       "0  Repre restaurant  Nekázanka 4/857, 110 00 Praha 1-Nové Město  Praha 1   \n",
       "\n",
       "   ratings  review_count                                      opening_hours  \\\n",
       "0      0.0             0  {'Po': '10:30 - 23', 'Út': '10:30 - 23', 'St':...   \n",
       "\n",
       "                                  opening_hours_span  \\\n",
       "0  {'Po': 12.5, 'Út': 12.5, 'St': 12.5, 'Čt': 12....   \n",
       "\n",
       "                   email_address                                      phones  \\\n",
       "0  rezervace@repre-restaurant.cz  {'Restaurace Praha 1': '+420 222 211 451'}   \n",
       "\n",
       "                         web_page  \\\n",
       "0  http://www.repre-restaurant.cz   \n",
       "\n",
       "                                     payment_methods          products  \\\n",
       "0  [faktura, hotově, VISA, MASTERCARD, CHEQUEDEJE...  [taneční parket]   \n",
       "\n",
       "                                            services  \\\n",
       "0  [česká kuchyně, mezinárodní kuchyně, nekuřácký...   \n",
       "\n",
       "                                          marks  \\\n",
       "0  [salónek, klimatizace, bezbariérový přístup]   \n",
       "\n",
       "                                     coordinates  \n",
       "0  {'latitude': 50.08553, 'longitude': 14.42718}  "
      ]
     },
     "execution_count": 3,
     "metadata": {},
     "output_type": "execute_result"
    }
   ],
   "source": [
    "no_of_rows=1\n",
    "data_interpreter.showRows(no_of_rows=no_of_rows)"
   ]
  }
 ],
 "metadata": {
  "interpreter": {
   "hash": "1f2e975888e86c326e42558cd0245e721b17a19f2abd9ef3d2679d2ce5d88c35"
  },
  "kernelspec": {
   "display_name": "Python 3.9.7 64-bit ('my_env': conda)",
   "language": "python",
   "name": "python3"
  },
  "language_info": {
   "codemirror_mode": {
    "name": "ipython",
    "version": 3
   },
   "file_extension": ".py",
   "mimetype": "text/x-python",
   "name": "python",
   "nbconvert_exporter": "python",
   "pygments_lexer": "ipython3",
   "version": "3.9.7"
  },
  "orig_nbformat": 4
 },
 "nbformat": 4,
 "nbformat_minor": 2
}
