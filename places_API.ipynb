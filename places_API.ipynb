{
 "cells": [
  {
   "cell_type": "code",
   "execution_count": 4,
   "metadata": {},
   "outputs": [],
   "source": [
    "import requests\n",
    "import json\n",
    "import pickle"
   ]
  },
  {
   "cell_type": "code",
   "execution_count": 2,
   "metadata": {},
   "outputs": [
    {
     "data": {
      "text/plain": [
       "200"
      ]
     },
     "execution_count": 2,
     "metadata": {},
     "output_type": "execute_result"
    }
   ],
   "source": [
    "#First request, API key removed for safety purposes\n",
    "request=requests.get(\"https://maps.googleapis.com/maps/api/place/textsearch/json?query=restaurants%20in%20Prague&key=MY-API-KEY\")\n",
    "request.status_code"
   ]
  },
  {
   "cell_type": "code",
   "execution_count": 31,
   "metadata": {},
   "outputs": [],
   "source": [
    "#Converting the variable into a dictionary\n",
    "data_dict=json.loads(request.text)"
   ]
  },
  {
   "cell_type": "code",
   "execution_count": null,
   "metadata": {},
   "outputs": [],
   "source": [
    "#Inspecting the data\n",
    "data_dict['results']\n",
    "print(len(data_dict['results'])) #Only 20 restaurants => need to send additional requests for subsequent pages"
   ]
  },
  {
   "cell_type": "code",
   "execution_count": 43,
   "metadata": {},
   "outputs": [],
   "source": [
    "#Preparing variables for additional requests\n",
    "next_page_token=json.loads(request.text)['next_page_token']\n",
    "restaurants=[]\n",
    "restaurants.extend(json.loads(request.text)['results'])"
   ]
  },
  {
   "cell_type": "code",
   "execution_count": null,
   "metadata": {},
   "outputs": [],
   "source": [
    "#Sending additional requests\n",
    "i=0\n",
    "while next_page_token:\n",
    "    new_request=requests.get(\"https://maps.googleapis.com/maps/api/place/textsearch/json?query=restaurants%20in%20Prague&key=MY-API-KEY&pageToken={next_page_token}\")\n",
    "    if new_request.status_code==200:\n",
    "        restaurants.extend(json.loads(new_request.text)['results'])\n",
    "        next_page_token=json.loads(new_request.text)['next_page_token']\n",
    "        i += 1\n",
    "    else:\n",
    "        print(i)\n",
    "        print(new_request.status_code)\n",
    "        break\n",
    "#Note: the loop was broken since I have reached the free quota\n",
    "#Note 2: API key removed for safety purposes"
   ]
  },
  {
   "cell_type": "code",
   "execution_count": 75,
   "metadata": {},
   "outputs": [],
   "source": [
    "#Filtering the data\n",
    "#Empty list\n",
    "restaurants_filtered=[]\n",
    "#Keys\n",
    "keys_new_dict=['name','address','opening_hours','place_id','price_level','rating','no_of_reviews','location']\n",
    "keys_old_dict=['name','formatted_address','opening_hours','place_id','price_level','rating','user_ratings_total','geometry']\n",
    "#Looping through restaurants to filter the data\n",
    "for restaurant in restaurants:\n",
    "    dict={}\n",
    "    for key_new, key_old in zip(keys_new_dict, keys_old_dict):\n",
    "        if key_new=='location': #Location is a dict within adict\n",
    "            try:\n",
    "                dict[key_new]=restaurant[key_old][key_new]\n",
    "            except KeyError:\n",
    "                dict[key_new]=None\n",
    "        else: #Rest of the keys\n",
    "            try:\n",
    "                dict[key_new]=restaurant[key_old]\n",
    "            except KeyError:\n",
    "                dict[key_new]=None\n",
    "    restaurants_filtered.append(dict)"
   ]
  },
  {
   "cell_type": "code",
   "execution_count": 78,
   "metadata": {},
   "outputs": [],
   "source": [
    "#Saving the list for future use\n",
    "with open('restaurants_google_maps_places_API.pkl', 'wb') as data_file:\n",
    "    pickle.dump(restaurants_filtered, data_file)"
   ]
  },
  {
   "cell_type": "code",
   "execution_count": null,
   "metadata": {},
   "outputs": [],
   "source": [
    "#Code to read the file\n",
    "with open('restaurants_google_maps_places_API.pkl.pkl', 'wb') as data_file:\n",
    "    pickle.dump(restaurants_filtered, data_file)"
   ]
  }
 ],
 "metadata": {
  "interpreter": {
   "hash": "1f2e975888e86c326e42558cd0245e721b17a19f2abd9ef3d2679d2ce5d88c35"
  },
  "kernelspec": {
   "display_name": "Python 3.9.7 64-bit ('my_env': conda)",
   "language": "python",
   "name": "python3"
  },
  "language_info": {
   "codemirror_mode": {
    "name": "ipython",
    "version": 3
   },
   "file_extension": ".py",
   "mimetype": "text/x-python",
   "name": "python",
   "nbconvert_exporter": "python",
   "pygments_lexer": "ipython3",
   "version": "3.9.7"
  },
  "orig_nbformat": 4
 },
 "nbformat": 4,
 "nbformat_minor": 2
}
