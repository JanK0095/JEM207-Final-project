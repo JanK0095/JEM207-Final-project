{
 "cells": [
  {
   "cell_type": "code",
   "execution_count": 4,
   "metadata": {},
   "outputs": [],
   "source": [
    "import requests\n",
    "import json"
   ]
  },
  {
   "cell_type": "code",
   "execution_count": 2,
   "metadata": {},
   "outputs": [
    {
     "data": {
      "text/plain": [
       "200"
      ]
     },
     "execution_count": 2,
     "metadata": {},
     "output_type": "execute_result"
    }
   ],
   "source": [
    "#Request succesfully sent, API key removed for safety purposes\n",
    "request=requests.get(\"https://maps.googleapis.com/maps/api/place/textsearch/json?query=restaurants%20in%20Prague&key=MY-API-KEY\")\n",
    "request.status_code"
   ]
  },
  {
   "cell_type": "code",
   "execution_count": 16,
   "metadata": {},
   "outputs": [],
   "source": [
    "#Converting the response to json format\n",
    "data_google_api=json.dumps(request.text)"
   ]
  },
  {
   "cell_type": "code",
   "execution_count": 20,
   "metadata": {},
   "outputs": [],
   "source": [
    "#Writing a json file for further usage\n",
    "with open('google_maps_places_API_text_search_data.json', 'w') as outfile:\n",
    "    outfile.write(data_google_api)"
   ]
  },
  {
   "cell_type": "code",
   "execution_count": 28,
   "metadata": {},
   "outputs": [],
   "source": [
    "#Trying to open the file (successfully)\n",
    "with open('google_maps_places_API_text_search_data.json') as json_file:\n",
    "    data = json.load(json_file)"
   ]
  },
  {
   "cell_type": "code",
   "execution_count": 31,
   "metadata": {},
   "outputs": [],
   "source": [
    "#Converting the variable into a dictionary\n",
    "data_dict=json.loads(data)"
   ]
  },
  {
   "cell_type": "code",
   "execution_count": 36,
   "metadata": {},
   "outputs": [
    {
     "name": "stdout",
     "output_type": "stream",
     "text": [
      "Restaurant Zvonice\n",
      "La Finestra in Cucina\n",
      "PAPRIKA - Mediterranean Kitchen & Bar\n",
      "Bastion Prague Restaurant\n",
      "V Zátiší\n",
      "Black Bettie's Grill\n",
      "Restaurant Matylda\n",
      "Aromi\n",
      "Mangal Restaurant\n",
      "Bad Jeff's Barbeque\n",
      "Gran Fierro\n",
      "U modré kachničky II\n",
      "Le Grill Restaurant\n",
      "Restaurant BLUE WAGON\n",
      "Muc Dong - Vietnamese Restaurant Prague\n",
      "Pastař\n",
      "Old Prague Restaurant\n",
      "The Bistro\n",
      "POCHA Original Korean Restaurant\n",
      "Maitrea restaurace\n",
      "20\n"
     ]
    }
   ],
   "source": [
    "#Inspecting the data\n",
    "data_dict['results']\n",
    "for i in data_dict['results']:\n",
    "    print(i['name'])\n",
    "print(len(data_dict['results'])) #Only 20 restaurants :("
   ]
  }
 ],
 "metadata": {
  "interpreter": {
   "hash": "1f2e975888e86c326e42558cd0245e721b17a19f2abd9ef3d2679d2ce5d88c35"
  },
  "kernelspec": {
   "display_name": "Python 3.9.7 64-bit ('my_env': conda)",
   "language": "python",
   "name": "python3"
  },
  "language_info": {
   "codemirror_mode": {
    "name": "ipython",
    "version": 3
   },
   "file_extension": ".py",
   "mimetype": "text/x-python",
   "name": "python",
   "nbconvert_exporter": "python",
   "pygments_lexer": "ipython3",
   "version": "3.9.7"
  },
  "orig_nbformat": 4
 },
 "nbformat": 4,
 "nbformat_minor": 2
}
