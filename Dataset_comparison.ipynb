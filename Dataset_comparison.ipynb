{
 "cells": [
  {
   "cell_type": "code",
   "execution_count": 1,
   "metadata": {},
   "outputs": [],
   "source": [
    "import pandas as pd\n",
    "import ast"
   ]
  },
  {
   "cell_type": "code",
   "execution_count": 6,
   "metadata": {},
   "outputs": [],
   "source": [
    "df_ZS=pd.read_csv('data/restaurants_zlatestranky.csv')\n",
    "df_API=pd.read_csv('data/restaurants_Places_API.csv')"
   ]
  },
  {
   "cell_type": "code",
   "execution_count": 7,
   "metadata": {},
   "outputs": [],
   "source": [
    "#adding empty column to df_ZS\n",
    "empty_list = []\n",
    "for i in df_ZS.index:\n",
    "    empty_list.append(None)\n",
    "df_ZS[\"exact_match\"] = empty_list"
   ]
  },
  {
   "cell_type": "code",
   "execution_count": 47,
   "metadata": {},
   "outputs": [],
   "source": [
    "#comparison loop\n",
    "for i in df_ZS.index:\n",
    "    if df_ZS[\"name\"][i] == \"Céleste\":  #assigns None in case of this outiler\n",
    "        celeste_exception = None\n",
    "        df_ZS.exact_match.iat[i] = celeste_exception\n",
    "\n",
    "    elif pd.isna(df_API[\"name\"][i]):   #assigns None is case of no resaurant found by Google API\n",
    "        df_ZS.exact_match.iat[i] = None\n",
    "        \n",
    "    else:                              #assigns true in case of match and False in case of no match\n",
    "        zs_phones_dict = ast.literal_eval(df_ZS[\"phones\"][i])\n",
    "        \n",
    "        zs_phones_list = []\n",
    "        for n in zs_phones_dict:\n",
    "            net_number = zs_phones_dict[n][5:]\n",
    "            zs_phones_list.append(net_number)\n",
    "\n",
    "        if df_API[\"formatted_phone_number\"][i] in zs_phones_list:\n",
    "            df_ZS.exact_match.iat[i] = True\n",
    "        else:\n",
    "            df_ZS.exact_match.iat[i] = False\n",
    "            \n"
   ]
  },
  {
   "cell_type": "code",
   "execution_count": 49,
   "metadata": {},
   "outputs": [
    {
     "data": {
      "text/plain": [
       "count     1101\n",
       "unique       2\n",
       "top       True\n",
       "freq       799\n",
       "Name: exact_match, dtype: object"
      ]
     },
     "execution_count": 49,
     "metadata": {},
     "output_type": "execute_result"
    }
   ],
   "source": [
    "df_ZS.exact_match.describe()"
   ]
  },
  {
   "cell_type": "code",
   "execution_count": 51,
   "metadata": {},
   "outputs": [
    {
     "data": {
      "text/html": [
       "<div>\n",
       "<style scoped>\n",
       "    .dataframe tbody tr th:only-of-type {\n",
       "        vertical-align: middle;\n",
       "    }\n",
       "\n",
       "    .dataframe tbody tr th {\n",
       "        vertical-align: top;\n",
       "    }\n",
       "\n",
       "    .dataframe thead th {\n",
       "        text-align: right;\n",
       "    }\n",
       "</style>\n",
       "<table border=\"1\" class=\"dataframe\">\n",
       "  <thead>\n",
       "    <tr style=\"text-align: right;\">\n",
       "      <th></th>\n",
       "      <th>Unnamed: 0</th>\n",
       "      <th>ratings</th>\n",
       "      <th>review_count</th>\n",
       "    </tr>\n",
       "  </thead>\n",
       "  <tbody>\n",
       "    <tr>\n",
       "      <th>count</th>\n",
       "      <td>2192.000000</td>\n",
       "      <td>2192.000000</td>\n",
       "      <td>2192.000000</td>\n",
       "    </tr>\n",
       "    <tr>\n",
       "      <th>mean</th>\n",
       "      <td>1095.500000</td>\n",
       "      <td>6.801551</td>\n",
       "      <td>0.128650</td>\n",
       "    </tr>\n",
       "    <tr>\n",
       "      <th>std</th>\n",
       "      <td>632.920216</td>\n",
       "      <td>23.540934</td>\n",
       "      <td>0.535257</td>\n",
       "    </tr>\n",
       "    <tr>\n",
       "      <th>min</th>\n",
       "      <td>0.000000</td>\n",
       "      <td>0.000000</td>\n",
       "      <td>0.000000</td>\n",
       "    </tr>\n",
       "    <tr>\n",
       "      <th>25%</th>\n",
       "      <td>547.750000</td>\n",
       "      <td>0.000000</td>\n",
       "      <td>0.000000</td>\n",
       "    </tr>\n",
       "    <tr>\n",
       "      <th>50%</th>\n",
       "      <td>1095.500000</td>\n",
       "      <td>0.000000</td>\n",
       "      <td>0.000000</td>\n",
       "    </tr>\n",
       "    <tr>\n",
       "      <th>75%</th>\n",
       "      <td>1643.250000</td>\n",
       "      <td>0.000000</td>\n",
       "      <td>0.000000</td>\n",
       "    </tr>\n",
       "    <tr>\n",
       "      <th>max</th>\n",
       "      <td>2191.000000</td>\n",
       "      <td>100.000000</td>\n",
       "      <td>8.000000</td>\n",
       "    </tr>\n",
       "  </tbody>\n",
       "</table>\n",
       "</div>"
      ],
      "text/plain": [
       "        Unnamed: 0      ratings  review_count\n",
       "count  2192.000000  2192.000000   2192.000000\n",
       "mean   1095.500000     6.801551      0.128650\n",
       "std     632.920216    23.540934      0.535257\n",
       "min       0.000000     0.000000      0.000000\n",
       "25%     547.750000     0.000000      0.000000\n",
       "50%    1095.500000     0.000000      0.000000\n",
       "75%    1643.250000     0.000000      0.000000\n",
       "max    2191.000000   100.000000      8.000000"
      ]
     },
     "execution_count": 51,
     "metadata": {},
     "output_type": "execute_result"
    }
   ],
   "source": [
    "df_ZS.describe()"
   ]
  }
 ],
 "metadata": {
  "interpreter": {
   "hash": "b465c251e2036ce91bc6732509c27ee78fef442a2fd8f4940ebc94d4618f4168"
  },
  "kernelspec": {
   "display_name": "Python 3.9.7 64-bit ('base': conda)",
   "language": "python",
   "name": "python3"
  },
  "language_info": {
   "codemirror_mode": {
    "name": "ipython",
    "version": 3
   },
   "file_extension": ".py",
   "mimetype": "text/x-python",
   "name": "python",
   "nbconvert_exporter": "python",
   "pygments_lexer": "ipython3",
   "version": "3.9.7"
  },
  "orig_nbformat": 4
 },
 "nbformat": 4,
 "nbformat_minor": 2
}
