{
 "cells": [
  {
   "cell_type": "code",
   "execution_count": 1,
   "metadata": {},
   "outputs": [],
   "source": [
    "import requests\n",
    "from bs4 import BeautifulSoup\n",
    "import re #regular expressions"
   ]
  },
  {
   "cell_type": "code",
   "execution_count": 2,
   "metadata": {},
   "outputs": [
    {
     "name": "stdout",
     "output_type": "stream",
     "text": [
      "200\n"
     ]
    }
   ],
   "source": [
    "#Sending the request\n",
    "request=requests.get('https://www.zlatestranky.cz/firmy/rubrika/Restaurace/kraj/Hlavn%C3%AD%20m%C4%9Bsto%20Praha')\n",
    "print(request.status_code)"
   ]
  },
  {
   "cell_type": "code",
   "execution_count": 14,
   "metadata": {},
   "outputs": [
    {
     "name": "stdout",
     "output_type": "stream",
     "text": [
      "['Repre restaurant', 'Restaurace Nad Ledem', 'SRI LANKAN CURRY HOUSE', 'Restaurace HOOTERS Vodičkova', '1. MEXICKÁ RESTAURACE', 'A.H.W. a.s.', 'Abri s.r.o.', 'ABSOLUT s.r.o.', 'ADAMOVÁ IVA', 'Adeta Service, s.r.o.']\n"
     ]
    }
   ],
   "source": [
    "#Making a soup\n",
    "soup=BeautifulSoup(request.content) #why use .content instead of .text?\n",
    "#Extracting restaurant titles\n",
    "titles_soup=soup.find_all('h3')\n",
    "titles=[]\n",
    "for i in titles_soup:\n",
    "    titles.append(i.find('a').text)\n",
    "\n",
    "print(titles[:10])"
   ]
  },
  {
   "cell_type": "code",
   "execution_count": 8,
   "metadata": {},
   "outputs": [
    {
     "data": {
      "text/plain": [
       "['https://www.zlatestranky.cz/profil/H270008',\n",
       " 'https://www.zlatestranky.cz/profil/H2052564',\n",
       " 'https://www.zlatestranky.cz/profil/H2028609',\n",
       " 'https://www.zlatestranky.cz/profil/H2056923',\n",
       " 'https://www.zlatestranky.cz/profil/H952175',\n",
       " 'https://www.zlatestranky.cz/profil/T1488202',\n",
       " 'https://www.zlatestranky.cz/profil/H731735',\n",
       " 'https://www.zlatestranky.cz/profil/T678796',\n",
       " 'https://www.zlatestranky.cz/profil/H217233',\n",
       " 'https://www.zlatestranky.cz/profil/H1909419']"
      ]
     },
     "execution_count": 8,
     "metadata": {},
     "output_type": "execute_result"
    }
   ],
   "source": [
    "#Extracting the link for each restaurant\n",
    "links=[]\n",
    "for i in titles_soup:\n",
    "    links.append(f'https://www.zlatestranky.cz{i.find(\"a\")[\"href\"]}')\n",
    "\n",
    "print(links[:10])"
   ]
  },
  {
   "cell_type": "code",
   "execution_count": 69,
   "metadata": {},
   "outputs": [],
   "source": [
    "#Request for a single restaurant page\n",
    "\n",
    "#H270008 #original one\n",
    "#H1778453 #this rest. has more than one tel. number\n",
    "#H1391009 #has no link, opening hours, email\n",
    "request_profil=requests.get('https://www.zlatestranky.cz/profil/H1778453')"
   ]
  },
  {
   "cell_type": "code",
   "execution_count": 70,
   "metadata": {},
   "outputs": [
    {
     "name": "stdout",
     "output_type": "stream",
     "text": [
      "U hráze 27/125, 100 00 Praha 10-Strašniceokres Hlavní město Praha, Hlavní město Praha\n"
     ]
    },
    {
     "data": {
      "text/plain": [
       "'Praha 10'"
      ]
     },
     "execution_count": 70,
     "metadata": {},
     "output_type": "execute_result"
    }
   ],
   "source": [
    "#Extracting the district \n",
    "profil_soup=BeautifulSoup(request_profil.content)\n",
    "address=profil_soup.find('address').find('span').text\n",
    "print(address)\n",
    "re.search('Praha [0-9]{1,2}',address).group(0)"
   ]
  },
  {
   "cell_type": "code",
   "execution_count": 61,
   "metadata": {},
   "outputs": [
    {
     "data": {
      "text/plain": [
       "'0'"
      ]
     },
     "execution_count": 61,
     "metadata": {},
     "output_type": "execute_result"
    }
   ],
   "source": [
    "#Extracting the ratings\n",
    "profil_soup.find('span',{'itemprop':'ratingValue'}).text"
   ]
  },
  {
   "cell_type": "code",
   "execution_count": 62,
   "metadata": {},
   "outputs": [
    {
     "data": {
      "text/plain": [
       "'0'"
      ]
     },
     "execution_count": 62,
     "metadata": {},
     "output_type": "execute_result"
    }
   ],
   "source": [
    "#Extracting the number of reviews\n",
    "profil_soup.find('span',{'itemprop':'reviewCount'}).text"
   ]
  },
  {
   "cell_type": "code",
   "execution_count": 71,
   "metadata": {},
   "outputs": [
    {
     "name": "stdout",
     "output_type": "stream",
     "text": [
      "['Po', '10 - 23', 'Út', '10 - 23', 'St', '10 - 23', 'Čt', '10 - 23', 'Pá', '10 - 23', 'So', '10:30 - 23', 'Ne', '10:30 - 23']\n",
      "{'Po': '10 - 23', 'Út': '10 - 23', 'St': '10 - 23', 'Čt': '10 - 23', 'Pá': '10 - 23', 'So': '10:30 - 23', 'Ne': '10:30 - 23'}\n"
     ]
    }
   ],
   "source": [
    "### Extracting the opening hours ###\n",
    "opening_hours_table=profil_soup.find('table',{'class':'table table-condensed'}).find_all('td') \n",
    "opening_hours_table_text=[] #empty list\n",
    "#extract only day and hours\n",
    "for i in opening_hours_table:\n",
    "    if re.match('Dnes|\\n',i.text):\n",
    "        pass\n",
    "    else:\n",
    "        opening_hours_table_text.append(i.text)\n",
    "print(opening_hours_table_text)\n",
    "#creating a dictionary (key=day,value=opening hours)\n",
    "opening_hours_dict={}\n",
    "for i in range(0,len(opening_hours_table_text),2):\n",
    "    opening_hours_dict[opening_hours_table_text[i]]=opening_hours_table_text[i+1]\n",
    "print(opening_hours_dict)\n"
   ]
  },
  {
   "cell_type": "code",
   "execution_count": 48,
   "metadata": {},
   "outputs": [
    {
     "name": "stdout",
     "output_type": "stream",
     "text": [
      "{'Po': 13.0, 'Út': 13.0, 'St': 13.0, 'Čt': 13.0, 'Pá': 13.0, 'So': 12.5, 'Ne': 12.5}\n"
     ]
    }
   ],
   "source": [
    "### Calculating the opening time span for each day ###\n",
    "#Writing a function to convert the time span into a number\n",
    "def time_span_to_number(time_span):\n",
    "    hours=[time_span.split()[i] for i in [0,2]] #splitting by space and disregarding \"-\"\n",
    "    start_end=[] #empty list for converted starting and ending values\n",
    "    for i in hours:\n",
    "        if re.search(':',i): #if the string is not a whole hour, convert it\n",
    "            splits=i.split(':')\n",
    "            start_end.append(float(splits[0])+float(splits[1])/60)\n",
    "        else:\n",
    "            start_end.append(float(i))\n",
    "    return round(start_end[1] - start_end[0],2)\n",
    "\n",
    "time_span_dict={key:time_span_to_number(value) for (key,value) in opening_hours_dict.items()}\n",
    "print(time_span_dict)"
   ]
  },
  {
   "cell_type": "code",
   "execution_count": null,
   "metadata": {},
   "outputs": [],
   "source": [
    "#requests for all pages !!! NOT TESTED YET !!!\n",
    "request_list=[]\n",
    "i=1\n",
    "while request.status_code == 200:\n",
    "    request=requests.get(f'https://www.zlatestranky.cz/firmy/rubrika/Restaurace/kraj/Hlavn%C3%AD%20m%C4%9Bsto%20Praha/{i}')\n",
    "    if request.status_code == 200:\n",
    "        request_list.append(request.content)\n",
    "        i += 1\n",
    "    else:\n",
    "        print(f'Successfuly requested {i-1} pages')\n",
    "        "
   ]
  },
  {
   "cell_type": "code",
   "execution_count": 49,
   "metadata": {},
   "outputs": [
    {
     "name": "stdout",
     "output_type": "stream",
     "text": [
      "+420 775 755 061\n",
      "['+420 775 755 061', '+420 777 104 374']\n"
     ]
    }
   ],
   "source": [
    "#Extracting the phone number\n",
    "\n",
    "print(profil_soup.find('td', {'itemprop':'telephone'}).text) #finds only the first telephone\n",
    "\n",
    "#Finding of all tel. numbers\n",
    "all_telephones = profil_soup.find_all('td', {'itemprop':'telephone'})\n",
    "telephone_numbers = [] #empty list, that will contain telephone numbers to restaurant\n",
    "#alternatively, coul be a dict containing {key=name of number, vale=tel. number} -> to be done later\n",
    "\n",
    "for i in all_telephones:\n",
    "    telephone_numbers.append(i.text)\n",
    "\n",
    "print(telephone_numbers)"
   ]
  },
  {
   "cell_type": "code",
   "execution_count": 72,
   "metadata": {},
   "outputs": [
    {
     "name": "stdout",
     "output_type": "stream",
     "text": [
      "restaurace@ubroucku.com\n"
     ]
    }
   ],
   "source": [
    "#Extracting email adress\n",
    "print(profil_soup.find('a', {'data-ta':'EmailClick'}).text)\n",
    "\n",
    "#similiarly as in the case of telephones, could be email_dict={'name of email':'email'}\n",
    "#but it looks like there usually is only one email, so perhaps redundant"
   ]
  },
  {
   "cell_type": "code",
   "execution_count": 73,
   "metadata": {},
   "outputs": [
    {
     "name": "stdout",
     "output_type": "stream",
     "text": [
      "http://www.ubroucku.com\n"
     ]
    }
   ],
   "source": [
    "#Extracting link for the restaurant's web page\n",
    "#print(profil_soup.find('a', {'data-ta':'LinkClick'})['href']) #simply printing the link\n",
    "\n",
    "if profil_soup.find('a', {'data-ta':'LinkClick'}) == None: #condition, that is useful when the restaurant has no web\n",
    "    print(None)\n",
    "else:\n",
    "    print(profil_soup.find('a', {'data-ta':'LinkClick'})['href'])\n"
   ]
  }
 ],
 "metadata": {
  "interpreter": {
   "hash": "7b4b4feff2f24a0f0a34464dbe537a36fda679851528fb8735cb41fa49dffb2d"
  },
  "kernelspec": {
   "display_name": "Python 3.9.7 64-bit ('base': conda)",
   "language": "python",
   "name": "python3"
  },
  "language_info": {
   "codemirror_mode": {
    "name": "ipython",
    "version": 3
   },
   "file_extension": ".py",
   "mimetype": "text/x-python",
   "name": "python",
   "nbconvert_exporter": "python",
   "pygments_lexer": "ipython3",
   "version": "3.8.8"
  },
  "orig_nbformat": 4
 },
 "nbformat": 4,
 "nbformat_minor": 2
}
