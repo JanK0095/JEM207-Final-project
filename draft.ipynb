{
 "cells": [
  {
   "cell_type": "code",
   "execution_count": 7,
   "metadata": {},
   "outputs": [],
   "source": [
    "import requests\n",
    "from bs4 import BeautifulSoup\n",
    "import re #regular expressions"
   ]
  },
  {
   "cell_type": "code",
   "execution_count": 3,
   "metadata": {},
   "outputs": [
    {
     "name": "stdout",
     "output_type": "stream",
     "text": [
      "200\n",
      "<Response [200]>\n"
     ]
    }
   ],
   "source": [
    "#Sending the request\n",
    "request=requests.get('https://www.zlatestranky.cz/firmy/rubrika/Restaurace/kraj/Hlavn%C3%AD%20m%C4%9Bsto%20Praha')\n",
    "print(request.status_code)"
   ]
  },
  {
   "cell_type": "code",
   "execution_count": 5,
   "metadata": {},
   "outputs": [
    {
     "name": "stdout",
     "output_type": "stream",
     "text": [
      "['Repre restaurant', 'Restaurace Nad Ledem', 'SRI LANKAN CURRY HOUSE', 'Restaurace HOOTERS Vodičkova', '1. MEXICKÁ RESTAURACE', 'A.H.W. a.s.', 'Abri s.r.o.', 'ABSOLUT s.r.o.', 'ADAMOVÁ IVA', 'Adeta Service, s.r.o.', 'Adiscon Kampa s.r.o.', 'ADMIRÁL - RESTAURACE', 'Aftermath, s.r.o.', 'AGIOS s.r.o.', 'AGUATERRA s.r.o.', 'AIKYO FOODS CZECH', 'Air Pizza, s.r.o.', 'Aishel, s.r.o.', 'Al Karim', 'Al-Mare Těšnov s. r. o.', 'ALBIO', 'ALDEN', 'ALDENTE TRATTORIA ITALIANA', 'Aleš Tománek', 'Alforno Focacceria Italiana - FINE FOOD CZ, s. r. o.', 'ALLEGRO', 'ALMA restaurace ALMA', 'ALMIRA MV, s.r.o.', 'ALOHA - MUSIC CLUB & COCKTAIL BAR PRAHA', 'Alois Filip', 'Alpská restaurace', 'Alriso, s.r.o.', 'Ambiente - The Living Restaurant', 'Ambiente restaurace', 'AMBROISIE CAFFÉ RESTAURANT', 'AMBROZIE', 'Amfora restaurant', 'AMI RESTAURANT s.r.o.', 'Amigos - restaurace s mexickou a českou kuchyní', 'AMOS RESTAURANT', 'AN QI INTERNATIONAL TRADING spol. s r.o.', 'Ananta vegetarian restaurant', 'ANDĚL APARTMENTS', 'ANDĚL CITY', 'Andělská mrcha s.r.o.', 'Andre Saab', 'ANGEL restaurant', 'Anna Bradáčová', 'Anno Domini 1471', 'Antal', 'Antique Shopping, s.r.o.', 'ANTONÍN STARÝ - Firma Starý', 'AP TRUST a.s.', 'AP TRUST a.s.', 'Apetit samoobslužná restaurace a pivnice', 'APPROX.CZ s.r.o.', 'AQUA-SUN spol. s r.o.', 'ARENA RESTAURACE', 'Argument Restaurant', 'Archa - Czech, s.r.o.', 'Archibald, spol. s r.o.', 'Aroha, s.r.o.', 'Aromi', 'Aromi - Enoteca Con Cucina', 'Art Nouveau Palace Hotel', 'ART&FOOD Had', 'Artisan Investments, s.r.o.', 'Asia House - Čínská a japonská kuchyně', 'Asian Temple - VIP GASTRO s.r.o.', 'ASK s.r.o.', 'ASMERA RESTAURANT', 'ASTON Café Restaurant', 'Astoria Restaurant', 'ATHABASCA s.r.o.', 'ATLANTA', 'Atmosphere', 'ATTIC HOTEL***', 'ATTIC PK spol. s r.o.', 'AU GOURMAND', 'Augustine Restaurant', 'Aureole Group, s.r.o. - Fusion Restaurant & Lounge', 'AWE PRAHA s.r.o.', 'B.T.M. PROJEKT s.r.o.', 'B&t food services  s.r.o.', 'B+M NEPOMUK s.r.o.', 'Bacco F&B s.r.o.', 'BACCHUS GROUP, s.r.o.', 'Balbínova poetická hospůdka', 'Balbínova poetická spol. s r.o.', 'Balbínova poetická spol. s r.o.', 'BALBÍNOVA POETICKÁ spol. s r.o.', 'BALTHASAR, s.r.o.', 'Bánh Mì Makers', 'BANYAN - čajovna Praha Vinohrady', 'BANYAN - čajovna Praha Vinohrady', 'Bar - restaurant Starý pán', 'Bar & Restaurant Calvera', 'Baráčnická rychta', 'BARBAR - RESTAURACE s.r.o.', 'Barbara VERNARČÍKOVÁ']\n"
     ]
    }
   ],
   "source": [
    "#Making a soup\n",
    "soup=BeautifulSoup(request.content)\n",
    "#Extracting restaurant titles\n",
    "titles_soup=soup.find_all('h3')\n",
    "titles=[]\n",
    "for i in titles_soup:\n",
    "    titles.append(i.find('a').text)"
   ]
  },
  {
   "cell_type": "code",
   "execution_count": 9,
   "metadata": {},
   "outputs": [
    {
     "name": "stdout",
     "output_type": "stream",
     "text": [
      "['https://www.zlatestranky.cz/profil/H270008', 'https://www.zlatestranky.cz/profil/H2052564', 'https://www.zlatestranky.cz/profil/H2028609', 'https://www.zlatestranky.cz/profil/H2056923', 'https://www.zlatestranky.cz/profil/H952175', 'https://www.zlatestranky.cz/profil/T1488202', 'https://www.zlatestranky.cz/profil/H731735', 'https://www.zlatestranky.cz/profil/T678796', 'https://www.zlatestranky.cz/profil/H217233', 'https://www.zlatestranky.cz/profil/H1909419', 'https://www.zlatestranky.cz/profil/H1477102', 'https://www.zlatestranky.cz/profil/T745675', 'https://www.zlatestranky.cz/profil/T2784508', 'https://www.zlatestranky.cz/profil/H1365763', 'https://www.zlatestranky.cz/profil/H1205046', 'https://www.zlatestranky.cz/profil/H826759', 'https://www.zlatestranky.cz/profil/H1587208', 'https://www.zlatestranky.cz/profil/H1908905', 'https://www.zlatestranky.cz/profil/H2052606', 'https://www.zlatestranky.cz/profil/H2054309', 'https://www.zlatestranky.cz/profil/H168141', 'https://www.zlatestranky.cz/profil/H771750', 'https://www.zlatestranky.cz/profil/H638903', 'https://www.zlatestranky.cz/profil/H1368972', 'https://www.zlatestranky.cz/profil/H2052616', 'https://www.zlatestranky.cz/profil/H1110070', 'https://www.zlatestranky.cz/profil/H565097', 'https://www.zlatestranky.cz/profil/H1391009', 'https://www.zlatestranky.cz/profil/H1777926', 'https://www.zlatestranky.cz/profil/H1912289', 'https://www.zlatestranky.cz/profil/H2054402', 'https://www.zlatestranky.cz/profil/H2047805', 'https://www.zlatestranky.cz/profil/H1963879', 'https://www.zlatestranky.cz/profil/H1209891', 'https://www.zlatestranky.cz/profil/H954458', 'https://www.zlatestranky.cz/profil/H237232', 'https://www.zlatestranky.cz/profil/H1656444', 'https://www.zlatestranky.cz/profil/T840746', 'https://www.zlatestranky.cz/profil/H2057412', 'https://www.zlatestranky.cz/profil/H119943', 'https://www.zlatestranky.cz/profil/H519404', 'https://www.zlatestranky.cz/profil/H1958697', 'https://www.zlatestranky.cz/profil/H1013118', 'https://www.zlatestranky.cz/profil/H585341', 'https://www.zlatestranky.cz/profil/H1220159', 'https://www.zlatestranky.cz/profil/H1912278', 'https://www.zlatestranky.cz/profil/H997959', 'https://www.zlatestranky.cz/profil/T1933521', 'https://www.zlatestranky.cz/profil/H104160', 'https://www.zlatestranky.cz/profil/H1160840', 'https://www.zlatestranky.cz/profil/T1639709', 'https://www.zlatestranky.cz/profil/H262691', 'https://www.zlatestranky.cz/profil/H1393875', 'https://www.zlatestranky.cz/profil/T1277366', 'https://www.zlatestranky.cz/profil/H2019293', 'https://www.zlatestranky.cz/profil/H1317240', 'https://www.zlatestranky.cz/profil/H1203724', 'https://www.zlatestranky.cz/profil/H905561', 'https://www.zlatestranky.cz/profil/H1588115', 'https://www.zlatestranky.cz/profil/H1911692', 'https://www.zlatestranky.cz/profil/H629332', 'https://www.zlatestranky.cz/profil/H1913174', 'https://www.zlatestranky.cz/profil/H827261', 'https://www.zlatestranky.cz/profil/H2057027', 'https://www.zlatestranky.cz/profil/H1040623', 'https://www.zlatestranky.cz/profil/H1958689', 'https://www.zlatestranky.cz/profil/H2038494', 'https://www.zlatestranky.cz/profil/H977608', 'https://www.zlatestranky.cz/profil/H2055657', 'https://www.zlatestranky.cz/profil/H561985', 'https://www.zlatestranky.cz/profil/H304603', 'https://www.zlatestranky.cz/profil/N8769', 'https://www.zlatestranky.cz/profil/H1963331', 'https://www.zlatestranky.cz/profil/H703849', 'https://www.zlatestranky.cz/profil/H447323', 'https://www.zlatestranky.cz/profil/H1109033', 'https://www.zlatestranky.cz/profil/H491418', 'https://www.zlatestranky.cz/profil/T687431', 'https://www.zlatestranky.cz/profil/H567110', 'https://www.zlatestranky.cz/profil/H1968906', 'https://www.zlatestranky.cz/profil/H1912232', 'https://www.zlatestranky.cz/profil/T1672992', 'https://www.zlatestranky.cz/profil/T780627', 'https://www.zlatestranky.cz/profil/H1749650', 'https://www.zlatestranky.cz/profil/H1078760', 'https://www.zlatestranky.cz/profil/H2060333', 'https://www.zlatestranky.cz/profil/H68408', 'https://www.zlatestranky.cz/profil/H1656982', 'https://www.zlatestranky.cz/profil/H1733569', 'https://www.zlatestranky.cz/profil/T2760797', 'https://www.zlatestranky.cz/profil/T826525', 'https://www.zlatestranky.cz/profil/H1441301', 'https://www.zlatestranky.cz/profil/H2058515', 'https://www.zlatestranky.cz/profil/N9102', 'https://www.zlatestranky.cz/profil/N9103', 'https://www.zlatestranky.cz/profil/H1482385', 'https://www.zlatestranky.cz/profil/H2058825', 'https://www.zlatestranky.cz/profil/H777181', 'https://www.zlatestranky.cz/profil/H568604', 'https://www.zlatestranky.cz/profil/H659009']\n"
     ]
    }
   ],
   "source": [
    "#Extracting the link for each restaurant\n",
    "links=[]\n",
    "for i in titles_soup:\n",
    "    links.append(f'https://www.zlatestranky.cz{i.find(\"a\")[\"href\"]}')"
   ]
  },
  {
   "cell_type": "code",
   "execution_count": 5,
   "metadata": {},
   "outputs": [
    {
     "data": {
      "text/plain": [
       "<address itemprop=\"address\" itemscope=\"\" itemtype=\"https://schema.org/PostalAddress\">\n",
       "<meta content=\"Nekázanka 4/857\" itemprop=\"streetAddress\"/>\n",
       "<meta content=\"Praha\" itemprop=\"addressLocality\"/>\n",
       "<meta content=\"110 00\" itemprop=\"postalCode\"/>\n",
       "<span itemprop=\"description\">Nekázanka 4/857, 110 00 Praha 1-Nové Město<br/><small>okres Hlavní město Praha, Hlavní město Praha</small></span>\n",
       "</address>"
      ]
     },
     "execution_count": 5,
     "metadata": {},
     "output_type": "execute_result"
    }
   ],
   "source": [
    "#Request for a single restaurant page\n",
    "request_profil=requests.get('https://www.zlatestranky.cz/profil/H270008')"
   ]
  },
  {
   "cell_type": "code",
   "execution_count": 13,
   "metadata": {},
   "outputs": [
    {
     "data": {
      "text/plain": [
       "'Praha 1'"
      ]
     },
     "execution_count": 13,
     "metadata": {},
     "output_type": "execute_result"
    }
   ],
   "source": [
    "#Extracting the district \n",
    "profil_soup=BeautifulSoup(request_profil.content)\n",
    "address=profil_soup.find('address').find('span').text\n",
    "re.search('Praha [0-9]{1,2}',address).group(0)"
   ]
  },
  {
   "cell_type": "code",
   "execution_count": 15,
   "metadata": {},
   "outputs": [
    {
     "data": {
      "text/plain": [
       "'0'"
      ]
     },
     "execution_count": 15,
     "metadata": {},
     "output_type": "execute_result"
    }
   ],
   "source": [
    "#Extracting the ratings\n",
    "profil_soup.find('span',{'itemprop':'ratingValue'}).text"
   ]
  },
  {
   "cell_type": "code",
   "execution_count": 16,
   "metadata": {},
   "outputs": [
    {
     "data": {
      "text/plain": [
       "'0'"
      ]
     },
     "execution_count": 16,
     "metadata": {},
     "output_type": "execute_result"
    }
   ],
   "source": [
    "#Extracting the number of reviews\n",
    "profil_soup.find('span',{'itemprop':'reviewCount'}).text"
   ]
  },
  {
   "cell_type": "code",
   "execution_count": 31,
   "metadata": {},
   "outputs": [
    {
     "name": "stdout",
     "output_type": "stream",
     "text": [
      "['Po', '10:30 - 23', 'Út', '10:30 - 23', 'St', '10:30 - 23', 'Čt', '10:30 - 23', 'Pá', '10:30 - 23', 'So', '12 - 23']\n",
      "{'Po': '10:30 - 23', 'Út': '10:30 - 23', 'St': '10:30 - 23', 'Čt': '10:30 - 23', 'Pá': '10:30 - 23', 'So': '12 - 23'}\n"
     ]
    }
   ],
   "source": [
    "### Extracting the opening hours ###\n",
    "opening_hours_table=profil_soup.find('table',{'class':'table table-condensed'}).find_all('td') \n",
    "opening_hours_table_text=[] #empty list\n",
    "#extract only day and hours\n",
    "for i in opening_hours_table:\n",
    "    if re.match('Dnes|\\n',i.text):\n",
    "        pass\n",
    "    else:\n",
    "        opening_hours_table_text.append(i.text)\n",
    "print(opening_hours_table_text)\n",
    "#creating a dictionary (key=day,value=opening hours)\n",
    "opening_hours_dict={}\n",
    "for i in range(0,len(opening_hours_table_text),2):\n",
    "    opening_hours_dict[opening_hours_table_text[i]]=opening_hours_table_text[i+1]\n",
    "print(opening_hours_dict)\n"
   ]
  },
  {
   "cell_type": "code",
   "execution_count": 48,
   "metadata": {},
   "outputs": [
    {
     "name": "stdout",
     "output_type": "stream",
     "text": [
      "{'Po': 12.5, 'Út': 12.5, 'St': 12.5, 'Čt': 12.5, 'Pá': 12.5, 'So': 11.0}\n"
     ]
    }
   ],
   "source": [
    "### Calculating the opening time span for each day ###\n",
    "#Writing a function to convert the time span into a number\n",
    "def time_span_to_number(time_span):\n",
    "    hours=[time_span.split()[i] for i in [0,2]] #splitting by space and disregarding \"-\"\n",
    "    start_end=[] #empty list for converted starting and ending values\n",
    "    for i in hours:\n",
    "        if re.search(':',i): #if the string is not a whole hour, convert it\n",
    "            splits=i.split(':')\n",
    "            start_end.append(float(splits[0])+float(splits[1])/60)\n",
    "        else:\n",
    "            start_end.append(float(i))\n",
    "    return round(start_end[1] - start_end[0],2)\n",
    "\n",
    "time_span_dict={key:time_span_to_number(value) for (key,value) in opening_hours_dict.items()}\n",
    "print(time_span_dict)"
   ]
  },
  {
   "cell_type": "code",
   "execution_count": null,
   "metadata": {},
   "outputs": [],
   "source": [
    "#requests for all pages !!! NOT TESTED YET !!!\n",
    "request_list=[]\n",
    "i=1\n",
    "while request.status_code == 200:\n",
    "    request=requests.get(f'https://www.zlatestranky.cz/firmy/rubrika/Restaurace/kraj/Hlavn%C3%AD%20m%C4%9Bsto%20Praha/{i}')\n",
    "    if request.status_code == 200:\n",
    "        request_list.append(request.content)\n",
    "        i += 1\n",
    "    else:\n",
    "        print(f'Successfuly requested {i-1} pages')\n",
    "        "
   ]
  }
 ],
 "metadata": {
  "interpreter": {
   "hash": "7b4b4feff2f24a0f0a34464dbe537a36fda679851528fb8735cb41fa49dffb2d"
  },
  "kernelspec": {
   "display_name": "Python 3.9.7 64-bit ('base': conda)",
   "language": "python",
   "name": "python3"
  },
  "language_info": {
   "codemirror_mode": {
    "name": "ipython",
    "version": 3
   },
   "file_extension": ".py",
   "mimetype": "text/x-python",
   "name": "python",
   "nbconvert_exporter": "python",
   "pygments_lexer": "ipython3",
   "version": "3.9.7"
  },
  "orig_nbformat": 4
 },
 "nbformat": 4,
 "nbformat_minor": 2
}
