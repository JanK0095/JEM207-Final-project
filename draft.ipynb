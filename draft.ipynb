{
 "cells": [
  {
   "cell_type": "code",
   "execution_count": 1,
   "metadata": {},
   "outputs": [],
   "source": [
    "import requests\n",
    "from bs4 import BeautifulSoup\n",
    "import re #regular expressions\n",
    "import time #for delaying the while loop"
   ]
  },
  {
   "cell_type": "code",
   "execution_count": 2,
   "metadata": {},
   "outputs": [
    {
     "name": "stdout",
     "output_type": "stream",
     "text": [
      "200\n"
     ]
    }
   ],
   "source": [
    "#Sending the request\n",
    "request=requests.get('https://www.zlatestranky.cz/firmy/rubrika/Restaurace/kraj/Hlavn%C3%AD%20m%C4%9Bsto%20Praha')\n",
    "print(request.status_code)"
   ]
  },
  {
   "cell_type": "code",
   "execution_count": 3,
   "metadata": {},
   "outputs": [
    {
     "name": "stdout",
     "output_type": "stream",
     "text": [
      "['Repre restaurant', 'Restaurace Nad Ledem', 'SRI LANKAN CURRY HOUSE', 'Restaurace HOOTERS Vodičkova', '1. MEXICKÁ RESTAURACE', 'A.H.W. a.s.', 'Abri s.r.o.', 'ABSOLUT s.r.o.', 'ADAMOVÁ IVA', 'Adeta Service, s.r.o.']\n"
     ]
    }
   ],
   "source": [
    "#Making a soup\n",
    "soup=BeautifulSoup(request.content) #why use .content instead of .text?\n",
    "#Extracting restaurant titles\n",
    "titles_soup=soup.find_all('h3')\n",
    "titles=[]\n",
    "for i in titles_soup:\n",
    "    titles.append(i.find('a').text)\n",
    "\n",
    "print(titles[:10])"
   ]
  },
  {
   "cell_type": "code",
   "execution_count": 6,
   "metadata": {},
   "outputs": [
    {
     "name": "stdout",
     "output_type": "stream",
     "text": [
      "['https://www.zlatestranky.cz/profil/H270008', 'https://www.zlatestranky.cz/profil/H2052564', 'https://www.zlatestranky.cz/profil/H2028609', 'https://www.zlatestranky.cz/profil/H2056923', 'https://www.zlatestranky.cz/profil/H952175', 'https://www.zlatestranky.cz/profil/T1488202', 'https://www.zlatestranky.cz/profil/H731735', 'https://www.zlatestranky.cz/profil/T678796', 'https://www.zlatestranky.cz/profil/H217233', 'https://www.zlatestranky.cz/profil/H1909419']\n"
     ]
    }
   ],
   "source": [
    "#Extracting the link for each restaurant\n",
    "links=[]\n",
    "for i in titles_soup:\n",
    "    links.append(f'https://www.zlatestranky.cz{i.find(\"a\")[\"href\"]}')\n",
    "\n",
    "print(links[:10])"
   ]
  },
  {
   "cell_type": "code",
   "execution_count": 17,
   "metadata": {},
   "outputs": [],
   "source": [
    "#Request for a single restaurant page\n",
    "\n",
    "#H270008 #original one, well defined restaurant\n",
    "#H1778453 #this rest. has more than one tel. number, less services\n",
    "#H1391009 #has no link, opening hours, email\n",
    "request_profil=requests.get('https://www.zlatestranky.cz/profil/H1391009')"
   ]
  },
  {
   "cell_type": "code",
   "execution_count": 18,
   "metadata": {},
   "outputs": [
    {
     "name": "stdout",
     "output_type": "stream",
     "text": [
      "Štupartská 9/745, 110 00 Praha 1-Staré Městookres Hlavní město Praha, Hlavní město Praha\n"
     ]
    },
    {
     "data": {
      "text/plain": [
       "'Praha 1'"
      ]
     },
     "execution_count": 18,
     "metadata": {},
     "output_type": "execute_result"
    }
   ],
   "source": [
    "#Extracting the district \n",
    "profil_soup=BeautifulSoup(request_profil.content)\n",
    "#address=profil_soup.find('address').find('span').text\n",
    "address=profil_soup.find('span',{'itemprop':'description'}).text\n",
    "print(address)\n",
    "re.search('Praha [0-9]{1,2}',address).group(0)"
   ]
  },
  {
   "cell_type": "code",
   "execution_count": 8,
   "metadata": {},
   "outputs": [
    {
     "data": {
      "text/plain": [
       "'0'"
      ]
     },
     "execution_count": 8,
     "metadata": {},
     "output_type": "execute_result"
    }
   ],
   "source": [
    "#Extracting the ratings\n",
    "profil_soup.find('span',{'itemprop':'ratingValue'}).text"
   ]
  },
  {
   "cell_type": "code",
   "execution_count": 9,
   "metadata": {},
   "outputs": [
    {
     "data": {
      "text/plain": [
       "'0'"
      ]
     },
     "execution_count": 9,
     "metadata": {},
     "output_type": "execute_result"
    }
   ],
   "source": [
    "#Extracting the number of reviews\n",
    "profil_soup.find('span',{'itemprop':'reviewCount'}).text"
   ]
  },
  {
   "cell_type": "code",
   "execution_count": 10,
   "metadata": {},
   "outputs": [
    {
     "name": "stdout",
     "output_type": "stream",
     "text": [
      "['Po', '10:30 - 23', 'Út', '10:30 - 23', 'St', '10:30 - 23', 'Čt', '10:30 - 23', 'Pá', '10:30 - 23', 'So', '12 - 23']\n",
      "{'Po': '10:30 - 23', 'Út': '10:30 - 23', 'St': '10:30 - 23', 'Čt': '10:30 - 23', 'Pá': '10:30 - 23', 'So': '12 - 23'}\n"
     ]
    }
   ],
   "source": [
    "### Extracting the opening hours ###\n",
    "opening_hours_table=profil_soup.find('table',{'class':'table table-condensed'}).find_all('td') \n",
    "opening_hours_table_text=[] #empty list\n",
    "#extract only day and hours\n",
    "for i in opening_hours_table:\n",
    "    if re.match('Dnes|\\n',i.text):\n",
    "        pass\n",
    "    else:\n",
    "        opening_hours_table_text.append(i.text)\n",
    "print(opening_hours_table_text)\n",
    "#creating a dictionary (key=day,value=opening hours)\n",
    "opening_hours_dict={}\n",
    "for i in range(0,len(opening_hours_table_text),2):\n",
    "    opening_hours_dict[opening_hours_table_text[i]]=opening_hours_table_text[i+1]\n",
    "print(opening_hours_dict)"
   ]
  },
  {
   "cell_type": "code",
   "execution_count": 11,
   "metadata": {},
   "outputs": [
    {
     "name": "stdout",
     "output_type": "stream",
     "text": [
      "{'Po': 12.5, 'Út': 12.5, 'St': 12.5, 'Čt': 12.5, 'Pá': 12.5, 'So': 11.0}\n"
     ]
    }
   ],
   "source": [
    "### Calculating the opening time span for each day ###\n",
    "#Writing a function to convert the time span into a number\n",
    "def time_span_to_number(time_span):\n",
    "    hours=[time_span.split()[i] for i in [0,2]] #splitting by space and disregarding \"-\"\n",
    "    start_end=[] #empty list for converted starting and ending values\n",
    "    for i in hours:\n",
    "        if re.search(':',i): #if the string is not a whole hour, convert it\n",
    "            splits=i.split(':')\n",
    "            start_end.append(float(splits[0])+float(splits[1])/60)\n",
    "        else:\n",
    "            start_end.append(float(i))\n",
    "    return round(start_end[1] - start_end[0],2)\n",
    "\n",
    "time_span_dict={key:time_span_to_number(value) for (key,value) in opening_hours_dict.items()}\n",
    "print(time_span_dict)"
   ]
  },
  {
   "cell_type": "code",
   "execution_count": 12,
   "metadata": {},
   "outputs": [
    {
     "name": "stdout",
     "output_type": "stream",
     "text": [
      "Successfuly requested 22 pages\n"
     ]
    }
   ],
   "source": [
    "#requests for all pages\n",
    "request_list=[]\n",
    "i=1 #initializing the first iteration\n",
    "indicator=200 #initializing the while loop\n",
    "while indicator == 200:\n",
    "    request=requests.get(f'https://www.zlatestranky.cz/firmy/rubrika/Restaurace/kraj/Hlavn%C3%AD%20m%C4%9Bsto%20Praha/{i}')\n",
    "    indicator=request.status_code\n",
    "    time.sleep(0.2)\n",
    "    if indicator == 200:\n",
    "        request_list.append(request.content)\n",
    "        i += 1\n",
    "    else:\n",
    "        print(f'Successfuly requested {i-1} pages')\n",
    "\n",
    "#Note: tested and works well, it tok me 22 second (i added a sleep delayer)        \n",
    "#Note: added the loop initiator (it did not work in another file since request was not defined)        "
   ]
  },
  {
   "cell_type": "code",
   "execution_count": 29,
   "metadata": {},
   "outputs": [
    {
     "name": "stdout",
     "output_type": "stream",
     "text": [
      "+420 222 314 308\n",
      "['+420 222 314 308', '+420 222 315 185']\n",
      "['hlavní telefon', 'další telefon']\n",
      "{'hlavní telefon': '+420 222 314 308', 'další telefon': '+420 222 315 185'}\n"
     ]
    }
   ],
   "source": [
    "#Extracting the phone number\n",
    "\n",
    "print(profil_soup.find('td', {'itemprop':'telephone'}).text) #finds only the first telephone\n",
    "\n",
    "#Finding of all tel. numbers\n",
    "#result is a dictionary {name of telephone: number}\n",
    "\n",
    "if profil_soup.find('td', {'itemprop':'telephone'}).text == None:\n",
    "    print(None)\n",
    "else:\n",
    "    telephone_numbers = []\n",
    "    telephone_names = []\n",
    "\n",
    "    #extracting telephone numbers:\n",
    "    all_telephones = profil_soup.find_all('td', {'itemprop':'telephone'})\n",
    "    for i in all_telephones:\n",
    "        telephone_numbers.append(i.text)\n",
    "\n",
    "    #extracting telephone names:\n",
    "    telephone_names = []\n",
    "    for i in telephone_numbers:\n",
    "        telephone_names.append(profil_soup.find('td', text=i).find_next_sibling('td').text)\n",
    "\n",
    "    telephones = {telephone_names[i]: telephone_numbers[i] for i in range(len(telephone_numbers))}\n",
    "\n",
    "    print(telephone_numbers) #just for verification\n",
    "    print(telephone_names) #just for verification\n",
    "    print(telephones)\n",
    "    \n"
   ]
  },
  {
   "cell_type": "code",
   "execution_count": 14,
   "metadata": {},
   "outputs": [
    {
     "name": "stdout",
     "output_type": "stream",
     "text": [
      "rezervace@repre-restaurant.cz\n"
     ]
    }
   ],
   "source": [
    "#Extracting email adress\n",
    "print(profil_soup.find('a', {'data-ta':'EmailClick'}).text)\n",
    "\n",
    "#similiarly as in the case of telephones, could be email_dict={'name of email':'email'}\n",
    "#but it looks like there usually is only one email, so perhaps redundant"
   ]
  },
  {
   "cell_type": "code",
   "execution_count": 15,
   "metadata": {},
   "outputs": [
    {
     "name": "stdout",
     "output_type": "stream",
     "text": [
      "http://www.repre-restaurant.cz\n"
     ]
    }
   ],
   "source": [
    "#Extracting link for the restaurant's web page\n",
    "\n",
    "if profil_soup.find('a', {'data-ta':'LinkClick'}) == None: #condition, that is useful when the restaurant has no web\n",
    "    print(None)\n",
    "else:\n",
    "    print(profil_soup.find('a', {'data-ta':'LinkClick'})['href']) #simply printing the link\n"
   ]
  },
  {
   "cell_type": "code",
   "execution_count": 16,
   "metadata": {},
   "outputs": [
    {
     "name": "stdout",
     "output_type": "stream",
     "text": [
      "['faktura', 'hotově', 'VISA', 'MASTERCARD', 'CHEQUEDEJEUNER', 'TICKETRESTAURANT', 'SODEXO', 'American Express']\n"
     ]
    }
   ],
   "source": [
    "#Extracting payment methods\n",
    "list_payment_methods_raw = profil_soup.find('h2', text='Platební metody').find_next_sibling('ul', {'class':'list-inline'}).find_all('li') #finding list of payment methods (wraped in <li><\\li>)\n",
    "list_payment_methods = [] #empty list to be used in the next for loop\n",
    "\n",
    "for i in list_payment_methods_raw: #unwraping the <li>\n",
    "    list_payment_methods.append(i.text)\n",
    "\n",
    "print(list_payment_methods) #list containing strings, representing individual payment methods"
   ]
  },
  {
   "cell_type": "code",
   "execution_count": 76,
   "metadata": {},
   "outputs": [
    {
     "name": "stdout",
     "output_type": "stream",
     "text": [
      "['Produkty', 'taneční parket', 'Služby', 'česká kuchyně', 'mezinárodní kuchyně', 'nekuřácký prostor', 'Značky', 'salónek', 'klimatizace', 'bezbariérový přístup']\n"
     ]
    }
   ],
   "source": [
    "#Extracting the Services (and other) tags\n",
    "services_raw = profil_soup.find('div', {'class':'col-sm-12 tagcloud'}).find_all() #finding all children of the panel \"Produkty+Služby+Značky\"\n",
    "services = []\n",
    "\n",
    "for i in services_raw:\n",
    "    services.append(i.text)\n",
    "\n",
    "print(services) #list of all three categories together\n",
    "\n",
    "#Separating by categories\n",
    "#services_prodcuts = services[services.index('Produkty')+1:services.index('Služby')]# previously separated manually like this\n",
    "#now coded dynamically further"
   ]
  },
  {
   "cell_type": "code",
   "execution_count": 74,
   "metadata": {},
   "outputs": [],
   "source": [
    "#Just for verifying that the code below works (the order was mixed)\n",
    "#services = ['Značky', 'salónek', 'klimatizace', 'bezbariérový přístup', 'Produkty', 'taneční parket', 'Služby', 'česká kuchyně', 'mezinárodní kuchyně', 'nekuřácký prostor']"
   ]
  },
  {
   "cell_type": "code",
   "execution_count": 55,
   "metadata": {},
   "outputs": [],
   "source": [
    "#Defining function for separating Servicies by category:\n",
    "def services_separator(category):\n",
    "    '''This function separates list of all services names and items into particular item-sets\n",
    "\n",
    "     Args: The function expects imput category to be equal one of the three: 'Produkty', 'Služby', 'Značky'\n",
    "\n",
    "     Other info: The function assumes that list services containing all services and items together already exists.\n",
    "                 Additionaly, it assumes that there are at most these three categories of services\n",
    "                 In case we discover more categories, they would have to be added manually.\n",
    "    '''\n",
    "    try:\n",
    "        ##defining the helper list of positions of categories\n",
    "        services_index_list = []\n",
    "\n",
    "        for i in ['Produkty', 'Služby', 'Značky']: #<-- in case of more categories, add here!\n",
    "            if i in services:\n",
    "                services_index_list.append(services.index(i))     \n",
    "\n",
    "        services_index_list.sort()\n",
    "\n",
    "        ##selecting particular items\n",
    "        if services.index(category) == max(services_index_list):\n",
    "            services_category = services[services.index(category)+1:] #case when the given category is last in the services list\n",
    "        else:\n",
    "            services_category = services[services.index(category)+1:services_index_list[services_index_list.index(services.index(category))+1]]\n",
    "            #when the given category is not last, subset the part of services list between the given category and the next category\n",
    "    \n",
    "    except ValueError: #In case that retaurant does not have given category specified, None will return\n",
    "        return(None)\n",
    "\n",
    "    else: #when the category is specified, the items will return\n",
    "        return(services_category)"
   ]
  },
  {
   "cell_type": "code",
   "execution_count": 77,
   "metadata": {},
   "outputs": [
    {
     "name": "stdout",
     "output_type": "stream",
     "text": [
      "['taneční parket']\n",
      "['česká kuchyně', 'mezinárodní kuchyně', 'nekuřácký prostor']\n",
      "['salónek', 'klimatizace', 'bezbariérový přístup']\n"
     ]
    }
   ],
   "source": [
    "#The function defined above put to use, just for example\n",
    "services_prodcuts = services_separator('Produkty')\n",
    "services_services = services_separator('Služby')\n",
    "services_marks = services_separator('Značky')\n",
    "print(services_prodcuts) \n",
    "print(services_services) \n",
    "print(services_marks) "
   ]
  },
  {
   "cell_type": "code",
   "execution_count": 6,
   "metadata": {},
   "outputs": [
    {
     "name": "stdout",
     "output_type": "stream",
     "text": [
      "Repre restaurant\n"
     ]
    }
   ],
   "source": [
    "#Extracting restaurants name\n",
    "restaurant_name=profil_soup.find('h1',{'itemprop':'name'}).text\n",
    "print(restaurant_name) "
   ]
  }
 ],
 "metadata": {
  "interpreter": {
   "hash": "7b4b4feff2f24a0f0a34464dbe537a36fda679851528fb8735cb41fa49dffb2d"
  },
  "kernelspec": {
   "display_name": "Python 3.9.7 64-bit ('base': conda)",
   "language": "python",
   "name": "python3"
  },
  "language_info": {
   "codemirror_mode": {
    "name": "ipython",
    "version": 3
   },
   "file_extension": ".py",
   "mimetype": "text/x-python",
   "name": "python",
   "nbconvert_exporter": "python",
   "pygments_lexer": "ipython3",
   "version": "3.9.7"
  },
  "orig_nbformat": 4
 },
 "nbformat": 4,
 "nbformat_minor": 2
}
