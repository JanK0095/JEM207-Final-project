{
 "cells": [
  {
   "cell_type": "code",
   "execution_count": 1,
   "metadata": {},
   "outputs": [],
   "source": [
    "import pandas as pd\n",
    "import matplotlib.pyplot as plt\n",
    "import numpy as np\n",
    "import json\n",
    "import ast #conversion of strings to python objects\n",
    "from collections import Counter #count a number of occurences of items in a list\n",
    "from DatasetCompiler import DatasetCompiler\n",
    "import re"
   ]
  },
  {
   "cell_type": "code",
   "execution_count": 2,
   "metadata": {},
   "outputs": [],
   "source": [
    "### Importing the data set ###\n",
    "df=DatasetCompiler(existing=True).dataset #Does not generate a new one, only reads an existing one"
   ]
  },
  {
   "cell_type": "code",
   "execution_count": 9,
   "metadata": {},
   "outputs": [
    {
     "name": "stdout",
     "output_type": "stream",
     "text": [
      "78 duplicates\n",
      "192 duplicate rows in total\n"
     ]
    }
   ],
   "source": [
    "#It appears that we have some non-unique values in our data set\n",
    "non_unique=[]\n",
    "for i in df['name']:\n",
    "    if sum(df['name']==i)>1:\n",
    "        non_unique.append(i)\n",
    "    else:\n",
    "        pass\n",
    "print(f'{len(set(non_unique))} duplicates') #We have 78 duplicates\n",
    "print(f'{len(df.loc[df[\"name\"].isin(non_unique),:])} duplicate rows in total') #Which makes 192 rows total\n",
    "#We cannot use the name column as an index"
   ]
  },
  {
   "cell_type": "code",
   "execution_count": 10,
   "metadata": {},
   "outputs": [
    {
     "data": {
      "text/html": [
       "<div>\n",
       "<style scoped>\n",
       "    .dataframe tbody tr th:only-of-type {\n",
       "        vertical-align: middle;\n",
       "    }\n",
       "\n",
       "    .dataframe tbody tr th {\n",
       "        vertical-align: top;\n",
       "    }\n",
       "\n",
       "    .dataframe thead th {\n",
       "        text-align: right;\n",
       "    }\n",
       "</style>\n",
       "<table border=\"1\" class=\"dataframe\">\n",
       "  <thead>\n",
       "    <tr style=\"text-align: right;\">\n",
       "      <th></th>\n",
       "      <th>name</th>\n",
       "      <th>address</th>\n",
       "      <th>district</th>\n",
       "      <th>ratings</th>\n",
       "      <th>review_count</th>\n",
       "      <th>opening_hours</th>\n",
       "      <th>opening_hours_span</th>\n",
       "      <th>email_address</th>\n",
       "      <th>phones</th>\n",
       "      <th>web_page</th>\n",
       "      <th>payment_methods</th>\n",
       "      <th>products</th>\n",
       "      <th>services</th>\n",
       "      <th>marks</th>\n",
       "      <th>coordinates</th>\n",
       "    </tr>\n",
       "  </thead>\n",
       "  <tbody>\n",
       "    <tr>\n",
       "      <th>52</th>\n",
       "      <td>AP TRUST a.s.</td>\n",
       "      <td>nám. Republiky 1/1078, 110 00 Praha 1-Nové Město</td>\n",
       "      <td>Praha 1</td>\n",
       "      <td>0.0</td>\n",
       "      <td>0</td>\n",
       "      <td>NaN</td>\n",
       "      <td>NaN</td>\n",
       "      <td>NaN</td>\n",
       "      <td>{'hlavní telefon': '+420 222 311 221'}</td>\n",
       "      <td>NaN</td>\n",
       "      <td>NaN</td>\n",
       "      <td>NaN</td>\n",
       "      <td>NaN</td>\n",
       "      <td>NaN</td>\n",
       "      <td>{'latitude': 50.089204, 'longitude': 14.428594}</td>\n",
       "    </tr>\n",
       "    <tr>\n",
       "      <th>53</th>\n",
       "      <td>AP TRUST a.s.</td>\n",
       "      <td>Hybernská 24/1009, 110 00 Praha 1-Nové Město</td>\n",
       "      <td>Praha 1</td>\n",
       "      <td>0.0</td>\n",
       "      <td>0</td>\n",
       "      <td>NaN</td>\n",
       "      <td>NaN</td>\n",
       "      <td>NaN</td>\n",
       "      <td>{'hlavní telefon': '+420 378 121 301'}</td>\n",
       "      <td>NaN</td>\n",
       "      <td>NaN</td>\n",
       "      <td>NaN</td>\n",
       "      <td>NaN</td>\n",
       "      <td>NaN</td>\n",
       "      <td>{'latitude': 50.086917, 'longitude': 14.433777}</td>\n",
       "    </tr>\n",
       "    <tr>\n",
       "      <th>87</th>\n",
       "      <td>Balbínova poetická spol. s r.o.</td>\n",
       "      <td>Balbínova 3/224, 120 00 Praha-Vinohrady</td>\n",
       "      <td>Praha 1</td>\n",
       "      <td>100.0</td>\n",
       "      <td>1</td>\n",
       "      <td>NaN</td>\n",
       "      <td>NaN</td>\n",
       "      <td>NaN</td>\n",
       "      <td>{'hlavní telefon': '+420 222 363 205'}</td>\n",
       "      <td>NaN</td>\n",
       "      <td>NaN</td>\n",
       "      <td>NaN</td>\n",
       "      <td>NaN</td>\n",
       "      <td>NaN</td>\n",
       "      <td>{'latitude': 50.077236, 'longitude': 14.433388}</td>\n",
       "    </tr>\n",
       "    <tr>\n",
       "      <th>89</th>\n",
       "      <td>Balbínova poetická spol. s r.o.</td>\n",
       "      <td>Jungmannova 22/742, 110 00 Praha-Nové Město</td>\n",
       "      <td>Praha 1</td>\n",
       "      <td>0.0</td>\n",
       "      <td>0</td>\n",
       "      <td>NaN</td>\n",
       "      <td>NaN</td>\n",
       "      <td>NaN</td>\n",
       "      <td>{'hlavní telefon': '+420 226 804 980', 'další ...</td>\n",
       "      <td>NaN</td>\n",
       "      <td>NaN</td>\n",
       "      <td>NaN</td>\n",
       "      <td>NaN</td>\n",
       "      <td>NaN</td>\n",
       "      <td>{'latitude': 50.081603, 'longitude': 14.422662}</td>\n",
       "    </tr>\n",
       "    <tr>\n",
       "      <th>92</th>\n",
       "      <td>BANYAN - čajovna Praha Vinohrady</td>\n",
       "      <td>Jana Masaryka 312/46, 120 00 Praha 2-Vinohrady</td>\n",
       "      <td>Praha 2</td>\n",
       "      <td>0.0</td>\n",
       "      <td>0</td>\n",
       "      <td>{'Po': '14 - 23:59', 'Út': '14 - 23:59', 'St':...</td>\n",
       "      <td>{'Po': 9.98, 'Út': 9.98, 'St': 9.98, 'Čt': 9.9...</td>\n",
       "      <td>NaN</td>\n",
       "      <td>{'hlavní telefon': '+420 722 779 133'}</td>\n",
       "      <td>http://www.cajovnabanyan.cz</td>\n",
       "      <td>[hotově]</td>\n",
       "      <td>NaN</td>\n",
       "      <td>NaN</td>\n",
       "      <td>NaN</td>\n",
       "      <td>{'latitude': 50.0722723, 'longitude': 14.4404889}</td>\n",
       "    </tr>\n",
       "    <tr>\n",
       "      <th>...</th>\n",
       "      <td>...</td>\n",
       "      <td>...</td>\n",
       "      <td>...</td>\n",
       "      <td>...</td>\n",
       "      <td>...</td>\n",
       "      <td>...</td>\n",
       "      <td>...</td>\n",
       "      <td>...</td>\n",
       "      <td>...</td>\n",
       "      <td>...</td>\n",
       "      <td>...</td>\n",
       "      <td>...</td>\n",
       "      <td>...</td>\n",
       "      <td>...</td>\n",
       "      <td>...</td>\n",
       "    </tr>\n",
       "    <tr>\n",
       "      <th>2163</th>\n",
       "      <td>Restaurace Globus</td>\n",
       "      <td>Chlumecká 765/6, 198 00 Praha 9-Černý Most</td>\n",
       "      <td>Praha 9</td>\n",
       "      <td>0.0</td>\n",
       "      <td>0</td>\n",
       "      <td>{'Po': '7 - 21', 'Út': '7 - 21', 'St': '7 - 21...</td>\n",
       "      <td>{'Po': 14.0, 'Út': 14.0, 'St': 14.0, 'Čt': 14....</td>\n",
       "      <td>NaN</td>\n",
       "      <td>{'Main': '+420 800 241 242'}</td>\n",
       "      <td>https://www.globus.cz/cerny-most/nabidka/resta...</td>\n",
       "      <td>[American Express, hotově, DINERSCLUB, faktura...</td>\n",
       "      <td>[Vegetariánská jídla, Bezlepková jídla, Vegans...</td>\n",
       "      <td>[Restaurace, Každý den čerstvé, Týdenní menu, ...</td>\n",
       "      <td>NaN</td>\n",
       "      <td>{'latitude': 50.10962677001953, 'longitude': 1...</td>\n",
       "    </tr>\n",
       "    <tr>\n",
       "      <th>2164</th>\n",
       "      <td>Restaurace Globus</td>\n",
       "      <td>Kostelecká 822/75, 196 00 Praha-Čakovice</td>\n",
       "      <td>Praha 9</td>\n",
       "      <td>0.0</td>\n",
       "      <td>0</td>\n",
       "      <td>{'Po': '7 - 21', 'Út': '7 - 21', 'St': '7 - 21...</td>\n",
       "      <td>{'Po': 14.0, 'Út': 14.0, 'St': 14.0, 'Čt': 14....</td>\n",
       "      <td>NaN</td>\n",
       "      <td>{'Main': '+420 800 241 242'}</td>\n",
       "      <td>https://www.globus.cz/praha-cakovice/nabidka/r...</td>\n",
       "      <td>[American Express, hotově, DINERSCLUB, faktura...</td>\n",
       "      <td>[Vegetariánská jídla, Bezlepková jídla, Vegans...</td>\n",
       "      <td>[Restaurace, Každý den čerstvé, Týdenní menu, ...</td>\n",
       "      <td>NaN</td>\n",
       "      <td>{'latitude': 50.15133285522461, 'longitude': 1...</td>\n",
       "    </tr>\n",
       "    <tr>\n",
       "      <th>2183</th>\n",
       "      <td>Subway</td>\n",
       "      <td>Jindrišská 30, Prague</td>\n",
       "      <td>Not found</td>\n",
       "      <td>0.0</td>\n",
       "      <td>0</td>\n",
       "      <td>{'Po': '8 - 18', 'Út': '8 - 18', 'St': '8 - 18...</td>\n",
       "      <td>{'Po': 10.0, 'Út': 10.0, 'St': 10.0, 'Čt': 10....</td>\n",
       "      <td>NaN</td>\n",
       "      <td>{'Main': '+420 739 767 952'}</td>\n",
       "      <td>https://restaurants.subway.com/cs/cesko/prague...</td>\n",
       "      <td>NaN</td>\n",
       "      <td>NaN</td>\n",
       "      <td>NaN</td>\n",
       "      <td>NaN</td>\n",
       "      <td>{'latitude': 50.0848274230957, 'longitude': 14...</td>\n",
       "    </tr>\n",
       "    <tr>\n",
       "      <th>2184</th>\n",
       "      <td>Subway</td>\n",
       "      <td>Prague Main Train Station</td>\n",
       "      <td>Not found</td>\n",
       "      <td>0.0</td>\n",
       "      <td>0</td>\n",
       "      <td>{'Po': '8 - 18', 'Út': '8 - 18', 'St': '8 - 18...</td>\n",
       "      <td>{'Po': 10.0, 'Út': 10.0, 'St': 10.0, 'Čt': 10....</td>\n",
       "      <td>NaN</td>\n",
       "      <td>{'Main': '+420 604 777 595'}</td>\n",
       "      <td>https://restaurants.subway.com/cs/ceska-republ...</td>\n",
       "      <td>NaN</td>\n",
       "      <td>NaN</td>\n",
       "      <td>NaN</td>\n",
       "      <td>NaN</td>\n",
       "      <td>{'latitude': 50.08316421508789, 'longitude': 1...</td>\n",
       "    </tr>\n",
       "    <tr>\n",
       "      <th>2185</th>\n",
       "      <td>Subway</td>\n",
       "      <td>The Business Park Chodov</td>\n",
       "      <td>Praha 4</td>\n",
       "      <td>0.0</td>\n",
       "      <td>0</td>\n",
       "      <td>NaN</td>\n",
       "      <td>NaN</td>\n",
       "      <td>NaN</td>\n",
       "      <td>{'Main': '+420 775 402 976'}</td>\n",
       "      <td>https://restaurants.subway.com/cs/ceska-republ...</td>\n",
       "      <td>NaN</td>\n",
       "      <td>NaN</td>\n",
       "      <td>NaN</td>\n",
       "      <td>NaN</td>\n",
       "      <td>{'latitude': 50.026466369628906, 'longitude': ...</td>\n",
       "    </tr>\n",
       "  </tbody>\n",
       "</table>\n",
       "<p>192 rows × 15 columns</p>\n",
       "</div>"
      ],
      "text/plain": [
       "                                  name  \\\n",
       "52                       AP TRUST a.s.   \n",
       "53                       AP TRUST a.s.   \n",
       "87     Balbínova poetická spol. s r.o.   \n",
       "89     Balbínova poetická spol. s r.o.   \n",
       "92    BANYAN - čajovna Praha Vinohrady   \n",
       "...                                ...   \n",
       "2163                 Restaurace Globus   \n",
       "2164                 Restaurace Globus   \n",
       "2183                            Subway   \n",
       "2184                            Subway   \n",
       "2185                            Subway   \n",
       "\n",
       "                                               address   district  ratings  \\\n",
       "52    nám. Republiky 1/1078, 110 00 Praha 1-Nové Město    Praha 1      0.0   \n",
       "53        Hybernská 24/1009, 110 00 Praha 1-Nové Město    Praha 1      0.0   \n",
       "87             Balbínova 3/224, 120 00 Praha-Vinohrady    Praha 1    100.0   \n",
       "89         Jungmannova 22/742, 110 00 Praha-Nové Město    Praha 1      0.0   \n",
       "92      Jana Masaryka 312/46, 120 00 Praha 2-Vinohrady    Praha 2      0.0   \n",
       "...                                                ...        ...      ...   \n",
       "2163        Chlumecká 765/6, 198 00 Praha 9-Černý Most    Praha 9      0.0   \n",
       "2164          Kostelecká 822/75, 196 00 Praha-Čakovice    Praha 9      0.0   \n",
       "2183                             Jindrišská 30, Prague  Not found      0.0   \n",
       "2184                         Prague Main Train Station  Not found      0.0   \n",
       "2185                          The Business Park Chodov    Praha 4      0.0   \n",
       "\n",
       "      review_count                                      opening_hours  \\\n",
       "52               0                                                NaN   \n",
       "53               0                                                NaN   \n",
       "87               1                                                NaN   \n",
       "89               0                                                NaN   \n",
       "92               0  {'Po': '14 - 23:59', 'Út': '14 - 23:59', 'St':...   \n",
       "...            ...                                                ...   \n",
       "2163             0  {'Po': '7 - 21', 'Út': '7 - 21', 'St': '7 - 21...   \n",
       "2164             0  {'Po': '7 - 21', 'Út': '7 - 21', 'St': '7 - 21...   \n",
       "2183             0  {'Po': '8 - 18', 'Út': '8 - 18', 'St': '8 - 18...   \n",
       "2184             0  {'Po': '8 - 18', 'Út': '8 - 18', 'St': '8 - 18...   \n",
       "2185             0                                                NaN   \n",
       "\n",
       "                                     opening_hours_span email_address  \\\n",
       "52                                                  NaN           NaN   \n",
       "53                                                  NaN           NaN   \n",
       "87                                                  NaN           NaN   \n",
       "89                                                  NaN           NaN   \n",
       "92    {'Po': 9.98, 'Út': 9.98, 'St': 9.98, 'Čt': 9.9...           NaN   \n",
       "...                                                 ...           ...   \n",
       "2163  {'Po': 14.0, 'Út': 14.0, 'St': 14.0, 'Čt': 14....           NaN   \n",
       "2164  {'Po': 14.0, 'Út': 14.0, 'St': 14.0, 'Čt': 14....           NaN   \n",
       "2183  {'Po': 10.0, 'Út': 10.0, 'St': 10.0, 'Čt': 10....           NaN   \n",
       "2184  {'Po': 10.0, 'Út': 10.0, 'St': 10.0, 'Čt': 10....           NaN   \n",
       "2185                                                NaN           NaN   \n",
       "\n",
       "                                                 phones  \\\n",
       "52               {'hlavní telefon': '+420 222 311 221'}   \n",
       "53               {'hlavní telefon': '+420 378 121 301'}   \n",
       "87               {'hlavní telefon': '+420 222 363 205'}   \n",
       "89    {'hlavní telefon': '+420 226 804 980', 'další ...   \n",
       "92               {'hlavní telefon': '+420 722 779 133'}   \n",
       "...                                                 ...   \n",
       "2163                       {'Main': '+420 800 241 242'}   \n",
       "2164                       {'Main': '+420 800 241 242'}   \n",
       "2183                       {'Main': '+420 739 767 952'}   \n",
       "2184                       {'Main': '+420 604 777 595'}   \n",
       "2185                       {'Main': '+420 775 402 976'}   \n",
       "\n",
       "                                               web_page  \\\n",
       "52                                                  NaN   \n",
       "53                                                  NaN   \n",
       "87                                                  NaN   \n",
       "89                                                  NaN   \n",
       "92                          http://www.cajovnabanyan.cz   \n",
       "...                                                 ...   \n",
       "2163  https://www.globus.cz/cerny-most/nabidka/resta...   \n",
       "2164  https://www.globus.cz/praha-cakovice/nabidka/r...   \n",
       "2183  https://restaurants.subway.com/cs/cesko/prague...   \n",
       "2184  https://restaurants.subway.com/cs/ceska-republ...   \n",
       "2185  https://restaurants.subway.com/cs/ceska-republ...   \n",
       "\n",
       "                                        payment_methods  \\\n",
       "52                                                  NaN   \n",
       "53                                                  NaN   \n",
       "87                                                  NaN   \n",
       "89                                                  NaN   \n",
       "92                                             [hotově]   \n",
       "...                                                 ...   \n",
       "2163  [American Express, hotově, DINERSCLUB, faktura...   \n",
       "2164  [American Express, hotově, DINERSCLUB, faktura...   \n",
       "2183                                                NaN   \n",
       "2184                                                NaN   \n",
       "2185                                                NaN   \n",
       "\n",
       "                                               products  \\\n",
       "52                                                  NaN   \n",
       "53                                                  NaN   \n",
       "87                                                  NaN   \n",
       "89                                                  NaN   \n",
       "92                                                  NaN   \n",
       "...                                                 ...   \n",
       "2163  [Vegetariánská jídla, Bezlepková jídla, Vegans...   \n",
       "2164  [Vegetariánská jídla, Bezlepková jídla, Vegans...   \n",
       "2183                                                NaN   \n",
       "2184                                                NaN   \n",
       "2185                                                NaN   \n",
       "\n",
       "                                               services marks  \\\n",
       "52                                                  NaN   NaN   \n",
       "53                                                  NaN   NaN   \n",
       "87                                                  NaN   NaN   \n",
       "89                                                  NaN   NaN   \n",
       "92                                                  NaN   NaN   \n",
       "...                                                 ...   ...   \n",
       "2163  [Restaurace, Každý den čerstvé, Týdenní menu, ...   NaN   \n",
       "2164  [Restaurace, Každý den čerstvé, Týdenní menu, ...   NaN   \n",
       "2183                                                NaN   NaN   \n",
       "2184                                                NaN   NaN   \n",
       "2185                                                NaN   NaN   \n",
       "\n",
       "                                            coordinates  \n",
       "52      {'latitude': 50.089204, 'longitude': 14.428594}  \n",
       "53      {'latitude': 50.086917, 'longitude': 14.433777}  \n",
       "87      {'latitude': 50.077236, 'longitude': 14.433388}  \n",
       "89      {'latitude': 50.081603, 'longitude': 14.422662}  \n",
       "92    {'latitude': 50.0722723, 'longitude': 14.4404889}  \n",
       "...                                                 ...  \n",
       "2163  {'latitude': 50.10962677001953, 'longitude': 1...  \n",
       "2164  {'latitude': 50.15133285522461, 'longitude': 1...  \n",
       "2183  {'latitude': 50.0848274230957, 'longitude': 14...  \n",
       "2184  {'latitude': 50.08316421508789, 'longitude': 1...  \n",
       "2185  {'latitude': 50.026466369628906, 'longitude': ...  \n",
       "\n",
       "[192 rows x 15 columns]"
      ]
     },
     "execution_count": 10,
     "metadata": {},
     "output_type": "execute_result"
    }
   ],
   "source": [
    "df[df['name'].isin(non_unique)]"
   ]
  },
  {
   "cell_type": "code",
   "execution_count": 6,
   "metadata": {},
   "outputs": [
    {
     "data": {
      "text/html": [
       "<div>\n",
       "<style scoped>\n",
       "    .dataframe tbody tr th:only-of-type {\n",
       "        vertical-align: middle;\n",
       "    }\n",
       "\n",
       "    .dataframe tbody tr th {\n",
       "        vertical-align: top;\n",
       "    }\n",
       "\n",
       "    .dataframe thead th {\n",
       "        text-align: right;\n",
       "    }\n",
       "</style>\n",
       "<table border=\"1\" class=\"dataframe\">\n",
       "  <thead>\n",
       "    <tr style=\"text-align: right;\">\n",
       "      <th></th>\n",
       "      <th>name</th>\n",
       "      <th>address</th>\n",
       "      <th>dist_dict</th>\n",
       "      <th>district</th>\n",
       "      <th>ratings</th>\n",
       "      <th>review_count</th>\n",
       "      <th>opening_hours</th>\n",
       "      <th>opening_hours_span</th>\n",
       "      <th>email_address</th>\n",
       "      <th>phones</th>\n",
       "      <th>web_page</th>\n",
       "      <th>payment_methods</th>\n",
       "      <th>products</th>\n",
       "      <th>services</th>\n",
       "      <th>marks</th>\n",
       "      <th>coordinates</th>\n",
       "    </tr>\n",
       "  </thead>\n",
       "  <tbody>\n",
       "    <tr>\n",
       "      <th>0</th>\n",
       "      <td>Repre restaurant</td>\n",
       "      <td>Nekázanka 4/857, 110 00 Praha 1-Nové Městookre...</td>\n",
       "      <td>{'Praha 1': ['Praha 1', 'Staré Město (Praha)',...</td>\n",
       "      <td>Praha 1</td>\n",
       "      <td>0.0</td>\n",
       "      <td>0</td>\n",
       "      <td>{'Po': '10:30 - 23', 'Út': '10:30 - 23', 'St':...</td>\n",
       "      <td>{'Po': 12.5, 'Út': 12.5, 'St': 12.5, 'Čt': 12....</td>\n",
       "      <td>rezervace@repre-restaurant.cz</td>\n",
       "      <td>{'Restaurace Praha 1': '+420 222 211 451'}</td>\n",
       "      <td>http://www.repre-restaurant.cz</td>\n",
       "      <td>[faktura, hotově, VISA, MASTERCARD, CHEQUEDEJE...</td>\n",
       "      <td>[taneční parket]</td>\n",
       "      <td>[česká kuchyně, mezinárodní kuchyně, nekuřácký...</td>\n",
       "      <td>[salónek, klimatizace, bezbariérový přístup]</td>\n",
       "      <td>{'latitude': 50.08553, 'longitude': 14.42718}</td>\n",
       "    </tr>\n",
       "    <tr>\n",
       "      <th>1</th>\n",
       "      <td>Restaurace Nad Ledem</td>\n",
       "      <td>Vladivostocká 1460/10, 100 00 Praha 10-Vršovic...</td>\n",
       "      <td>{'Praha 1': ['Praha 1', 'Staré Město (Praha)',...</td>\n",
       "      <td>Praha 10</td>\n",
       "      <td>100.0</td>\n",
       "      <td>1</td>\n",
       "      <td>{'Po': '10 - 23', 'Út': '10 - 23', 'St': '10 -...</td>\n",
       "      <td>{'Po': 13.0, 'Út': 13.0, 'St': 13.0, 'Čt': 13....</td>\n",
       "      <td>nadledem@seznam.cz</td>\n",
       "      <td>{'Restaurace Praha 10': '+420 728 464 824'}</td>\n",
       "      <td>https://restauracenadledem.cz/</td>\n",
       "      <td>[hotově, faktura, MASTERCARD, VISA]</td>\n",
       "      <td>[Denní menu, Pivo z tanku, Točené limonády, Ne...</td>\n",
       "      <td>[Restaurace, Bezbariérový vstup, Letní zahrádk...</td>\n",
       "      <td>[Kofola, Birell, Pilsner Urquell]</td>\n",
       "      <td>{'latitude': 50.068558, 'longitude': 14.4777165}</td>\n",
       "    </tr>\n",
       "    <tr>\n",
       "      <th>2</th>\n",
       "      <td>SRI LANKAN CURRY HOUSE</td>\n",
       "      <td>U vodárny 10/898, 130 00 Praha 3-Vinohradyokre...</td>\n",
       "      <td>{'Praha 1': ['Praha 1', 'Staré Město (Praha)',...</td>\n",
       "      <td>Praha 3</td>\n",
       "      <td>100.0</td>\n",
       "      <td>1</td>\n",
       "      <td>{'Po': '11 - 22', 'Út': '11 - 22', 'St': '11 -...</td>\n",
       "      <td>{'Po': 11.0, 'Út': 11.0, 'St': 11.0, 'Čt': 11....</td>\n",
       "      <td>srilankancurryhouse@gmail.com</td>\n",
       "      <td>{'hlavní telefon': '+420 603 118 707'}</td>\n",
       "      <td>https://srilankanrestaurant.cz/</td>\n",
       "      <td>[hotově, faktura, VISA, MASTERCARD]</td>\n",
       "      <td>[polévky, předkrmy, zeleninové kari, pikantní ...</td>\n",
       "      <td>[restaurace]</td>\n",
       "      <td>NaN</td>\n",
       "      <td>{'latitude': 50.07646, 'longitude': 14.44919}</td>\n",
       "    </tr>\n",
       "    <tr>\n",
       "      <th>3</th>\n",
       "      <td>Restaurace HOOTERS Vodičkova</td>\n",
       "      <td>Vodičkova 5/12, 120 00 Praha 2-Nové Městookres...</td>\n",
       "      <td>{'Praha 1': ['Praha 1', 'Staré Město (Praha)',...</td>\n",
       "      <td>Praha 2</td>\n",
       "      <td>0.0</td>\n",
       "      <td>0</td>\n",
       "      <td>{'Po': '11 - 23', 'Út': '11 - 23', 'St': '11 -...</td>\n",
       "      <td>{'Po': 12.0, 'Út': 12.0, 'St': 12.0, 'Čt': 12....</td>\n",
       "      <td>vodickova@hooters.cz</td>\n",
       "      <td>{'Rezervace': '+420 602 799 222'}</td>\n",
       "      <td>http://hooters.cz/cz/vodickova?utm_source=Mext...</td>\n",
       "      <td>[American Express, VISA, hotově, faktura, SODE...</td>\n",
       "      <td>[předkrmy, polévky, quesadillas, burgery, příl...</td>\n",
       "      <td>[restaurace, sportovní přenosy, rozlučky se sv...</td>\n",
       "      <td>[HOOTERS, Pilsner Urquell, Coca Cola]</td>\n",
       "      <td>{'latitude': 50.078701, 'longitude': 14.421425}</td>\n",
       "    </tr>\n",
       "    <tr>\n",
       "      <th>4</th>\n",
       "      <td>1. MEXICKÁ RESTAURACE</td>\n",
       "      <td>Újezd 38/430, 118 00 Praha 1-Malá Stranaokres ...</td>\n",
       "      <td>{'Praha 1': ['Praha 1', 'Staré Město (Praha)',...</td>\n",
       "      <td>Praha 1</td>\n",
       "      <td>89.0</td>\n",
       "      <td>2</td>\n",
       "      <td>{'Po': '11:30 - 23:59', 'Út': '11:30 - 23:59',...</td>\n",
       "      <td>{'Po': 12.48, 'Út': 12.48, 'St': 12.48, 'Čt': ...</td>\n",
       "      <td>NaN</td>\n",
       "      <td>{'hlavní telefon': '+420 257 317 173'}</td>\n",
       "      <td>NaN</td>\n",
       "      <td>[hotově]</td>\n",
       "      <td>NaN</td>\n",
       "      <td>NaN</td>\n",
       "      <td>NaN</td>\n",
       "      <td>{'latitude': 50.08294, 'longitude': 14.40461}</td>\n",
       "    </tr>\n",
       "  </tbody>\n",
       "</table>\n",
       "</div>"
      ],
      "text/plain": [
       "                           name  ...                                       coordinates\n",
       "0              Repre restaurant  ...     {'latitude': 50.08553, 'longitude': 14.42718}\n",
       "1          Restaurace Nad Ledem  ...  {'latitude': 50.068558, 'longitude': 14.4777165}\n",
       "2        SRI LANKAN CURRY HOUSE  ...     {'latitude': 50.07646, 'longitude': 14.44919}\n",
       "3  Restaurace HOOTERS Vodičkova  ...   {'latitude': 50.078701, 'longitude': 14.421425}\n",
       "4         1. MEXICKÁ RESTAURACE  ...     {'latitude': 50.08294, 'longitude': 14.40461}\n",
       "\n",
       "[5 rows x 16 columns]"
      ]
     },
     "execution_count": 6,
     "metadata": {},
     "output_type": "execute_result"
    }
   ],
   "source": [
    "df.head()"
   ]
  },
  {
   "cell_type": "code",
   "execution_count": 3,
   "metadata": {},
   "outputs": [
    {
     "data": {
      "text/html": [
       "<div>\n",
       "<style scoped>\n",
       "    .dataframe tbody tr th:only-of-type {\n",
       "        vertical-align: middle;\n",
       "    }\n",
       "\n",
       "    .dataframe tbody tr th {\n",
       "        vertical-align: top;\n",
       "    }\n",
       "\n",
       "    .dataframe thead th {\n",
       "        text-align: right;\n",
       "    }\n",
       "</style>\n",
       "<table border=\"1\" class=\"dataframe\">\n",
       "  <thead>\n",
       "    <tr style=\"text-align: right;\">\n",
       "      <th></th>\n",
       "      <th>name</th>\n",
       "      <th>address</th>\n",
       "      <th>district</th>\n",
       "      <th>ratings</th>\n",
       "      <th>review_count</th>\n",
       "      <th>opening_hours</th>\n",
       "      <th>opening_hours_span</th>\n",
       "      <th>email_address</th>\n",
       "      <th>phones</th>\n",
       "      <th>web_page</th>\n",
       "      <th>payment_methods</th>\n",
       "      <th>products</th>\n",
       "      <th>services</th>\n",
       "      <th>marks</th>\n",
       "      <th>coordinates</th>\n",
       "    </tr>\n",
       "  </thead>\n",
       "  <tbody>\n",
       "    <tr>\n",
       "      <th>745</th>\n",
       "      <td>Céleste</td>\n",
       "      <td>NaN</td>\n",
       "      <td>NaN</td>\n",
       "      <td>0.0</td>\n",
       "      <td>0</td>\n",
       "      <td>NaN</td>\n",
       "      <td>NaN</td>\n",
       "      <td>NaN</td>\n",
       "      <td>NaN</td>\n",
       "      <td>NaN</td>\n",
       "      <td>NaN</td>\n",
       "      <td>NaN</td>\n",
       "      <td>NaN</td>\n",
       "      <td>NaN</td>\n",
       "      <td>NaN</td>\n",
       "    </tr>\n",
       "  </tbody>\n",
       "</table>\n",
       "</div>"
      ],
      "text/plain": [
       "        name address district  ratings  review_count opening_hours  \\\n",
       "745  Céleste     NaN      NaN      0.0             0           NaN   \n",
       "\n",
       "    opening_hours_span email_address phones web_page payment_methods products  \\\n",
       "745                NaN           NaN    NaN      NaN             NaN      NaN   \n",
       "\n",
       "    services marks coordinates  \n",
       "745      NaN   NaN         NaN  "
      ]
     },
     "execution_count": 3,
     "metadata": {},
     "output_type": "execute_result"
    }
   ],
   "source": [
    "df[pd.isna(df.coordinates)] #Only one single restaurant does not have coordinates "
   ]
  },
  {
   "cell_type": "code",
   "execution_count": 4,
   "metadata": {},
   "outputs": [],
   "source": [
    "#It is closed => we will drop it\n",
    "try:\n",
    "    ind=list(pd.isna(df.coordinates)).index(True) #index to be dropped\n",
    "    df.drop(ind,inplace=True)\n",
    "except IndexError:\n",
    "    print('The value has been already removed')"
   ]
  },
  {
   "cell_type": "code",
   "execution_count": 5,
   "metadata": {},
   "outputs": [
    {
     "data": {
      "text/plain": [
       "Praha 1      664\n",
       "Praha 2      215\n",
       "Praha 5      214\n",
       "Praha 4      206\n",
       "Praha 6      157\n",
       "Praha 10     140\n",
       "Praha 3      129\n",
       "Praha 9      125\n",
       "Praha 8      124\n",
       "Not found    112\n",
       "Praha 7      105\n",
       "Name: district, dtype: int64"
      ]
     },
     "execution_count": 5,
     "metadata": {},
     "output_type": "execute_result"
    }
   ],
   "source": [
    "district_counts=df.district.value_counts() #Currently administrative district => maybe should aggregate to municipal districts\n",
    "district_counts"
   ]
  },
  {
   "cell_type": "code",
   "execution_count": 6,
   "metadata": {},
   "outputs": [],
   "source": [
    "#inspecting 'Not found' district\n",
    "problematic_addresses=list(df[df.district=='Not found']['address']) #We are left with addresses containg only a street number => cannot get the district\n",
    "#IDEA! match PSČ to districts!"
   ]
  },
  {
   "cell_type": "code",
   "execution_count": 19,
   "metadata": {},
   "outputs": [],
   "source": [
    "zip_codes=[]\n",
    "for address in problematic_addresses:\n",
    "    try:\n",
    "        zip_codes.append(re.search('[0-9]{3} [0-9]{2}',address).group(0))\n",
    "    except AttributeError:\n",
    "        zip_codes.append(None)"
   ]
  },
  {
   "cell_type": "code",
   "execution_count": 20,
   "metadata": {},
   "outputs": [],
   "source": [
    "district_from_zip=[]\n",
    "for zip_code in zip_codes:\n",
    "    if zip_code:\n",
    "        if zip_code[1]=='0':\n",
    "            value='10'\n",
    "        else:\n",
    "            value=zip_code[1]\n",
    "        district_from_zip.append('Praha '+value)\n",
    "    else:\n",
    "        district_from_zip.append(None)"
   ]
  },
  {
   "cell_type": "code",
   "execution_count": 25,
   "metadata": {},
   "outputs": [
    {
     "data": {
      "text/plain": [
       "56"
      ]
     },
     "execution_count": 25,
     "metadata": {},
     "output_type": "execute_result"
    }
   ],
   "source": [
    "len([j for i,j in enumerate(problematic_addresses) if zip_codes[i]==None])"
   ]
  },
  {
   "cell_type": "code",
   "execution_count": 17,
   "metadata": {},
   "outputs": [
    {
     "data": {
      "text/plain": [
       "<matplotlib.legend.Legend at 0x1c0bb3097f0>"
      ]
     },
     "execution_count": 17,
     "metadata": {},
     "output_type": "execute_result"
    },
    {
     "data": {
      "image/png": "[encoded data removed]",
      "text/plain": [
       "<Figure size 504x504 with 1 Axes>"
      ]
     },
     "metadata": {},
     "output_type": "display_data"
    }
   ],
   "source": [
    "fig_size=plt.figure(figsize=(7,7))\n",
    "#district_pie=plt.pie(district_counts.values,labels=district_counts.index,labeldistance=None)\n",
    "#title=plt.title('Number of restaurants by districts')\n",
    "#legend=plt.legend()\n",
    "district_counts.plot.pie(labeldistance=None, autopct='%1.2f%%')\n",
    "plt.title('Number of restaurants by districts')\n",
    "plt.ylabel('')\n",
    "plt.legend()"
   ]
  },
  {
   "cell_type": "code",
   "execution_count": 18,
   "metadata": {},
   "outputs": [
    {
     "data": {
      "image/png": "[encoded data removed]",
      "text/plain": [
       "<Figure size 432x288 with 1 Axes>"
      ]
     },
     "metadata": {
      "needs_background": "light"
     },
     "output_type": "display_data"
    }
   ],
   "source": [
    "#fig_size=plt.figure(figsize=(8,8))\n",
    "district_counts.plot.barh(color='orange').invert_yaxis()"
   ]
  },
  {
   "cell_type": "code",
   "execution_count": 19,
   "metadata": {},
   "outputs": [],
   "source": [
    "#Summing the spans\n",
    "list_of_sums_of_spans=[]\n",
    "for dict in df.opening_hours_span:\n",
    "    if pd.isna(dict):\n",
    "        value=np.NaN\n",
    "    else:\n",
    "        value=sum(filter(None,list(dict.values()))) #we make a list from the dicts values, filter out the None values and sum it\n",
    "    list_of_sums_of_spans.append(value)"
   ]
  },
  {
   "cell_type": "code",
   "execution_count": 20,
   "metadata": {},
   "outputs": [
    {
     "name": "stdout",
     "output_type": "stream",
     "text": [
      "26 nonstop restaurants in Prague\n",
      "82.32 is the mean number of opening hours in a week\n",
      "84.0 is the median number of opening hours in a week\n",
      "Opening hours available for 881 restaurants\n",
      "Opening hours span available for 881 restaurants\n",
      "Lowest opening span (17.5): Momento\n"
     ]
    }
   ],
   "source": [
    "array_of_sums_of_spans=np.array(list_of_sums_of_spans)\n",
    "print(str(np.sum(array_of_sums_of_spans==max(array_of_sums_of_spans)))+' '+'nonstop restaurants in Prague')\n",
    "print(str(np.around(np.mean(array_of_sums_of_spans,where=[not i for i in np.isnan(array_of_sums_of_spans)]),2))+' '+'is the mean number of opening hours in a week')\n",
    "print(str(np.around(np.median(array_of_sums_of_spans[[not i for i in np.isnan(array_of_sums_of_spans)]]),2))+' '+'is the median number of opening hours in a week')\n",
    "print('Opening hours available for '+str(sum([not i for i in pd.isna(df.opening_hours)]))+' restaurants')\n",
    "print('Opening hours span available for '+str(sum([not i for i in pd.isna(df.opening_hours_span)]))+' restaurants')\n",
    "min_span=np.around(np.min(array_of_sums_of_spans[([not i for i in np.isnan(array_of_sums_of_spans)]) & (array_of_sums_of_spans!=0)]),2)\n",
    "print(f'Lowest opening span ({min_span}): {df.name[array_of_sums_of_spans==min_span].values[0]}')"
   ]
  },
  {
   "cell_type": "code",
   "execution_count": 21,
   "metadata": {},
   "outputs": [
    {
     "data": {
      "text/html": [
       "<div>\n",
       "<style scoped>\n",
       "    .dataframe tbody tr th:only-of-type {\n",
       "        vertical-align: middle;\n",
       "    }\n",
       "\n",
       "    .dataframe tbody tr th {\n",
       "        vertical-align: top;\n",
       "    }\n",
       "\n",
       "    .dataframe thead th {\n",
       "        text-align: right;\n",
       "    }\n",
       "</style>\n",
       "<table border=\"1\" class=\"dataframe\">\n",
       "  <thead>\n",
       "    <tr style=\"text-align: right;\">\n",
       "      <th></th>\n",
       "      <th>name</th>\n",
       "      <th>address</th>\n",
       "      <th>district</th>\n",
       "      <th>ratings</th>\n",
       "      <th>review_count</th>\n",
       "      <th>opening_hours</th>\n",
       "      <th>opening_hours_span</th>\n",
       "      <th>email_address</th>\n",
       "      <th>phones</th>\n",
       "      <th>web_page</th>\n",
       "      <th>payment_methods</th>\n",
       "      <th>products</th>\n",
       "      <th>services</th>\n",
       "      <th>marks</th>\n",
       "      <th>coordinates</th>\n",
       "    </tr>\n",
       "  </thead>\n",
       "  <tbody>\n",
       "    <tr>\n",
       "      <th>109</th>\n",
       "      <td>Be Bop Lobby Bar</td>\n",
       "      <td>Štěpánská 40, 110 00 Praha 1-Nové Město</td>\n",
       "      <td>Praha 1</td>\n",
       "      <td>0.0</td>\n",
       "      <td>0</td>\n",
       "      <td>{'Po': None, 'Út': None, 'St': None, 'Čt': Non...</td>\n",
       "      <td>{'Po': None, 'Út': None, 'St': None, 'Čt': Non...</td>\n",
       "      <td>bebopbar@radissonblu.com</td>\n",
       "      <td>{'hlavní telefon': '+420 222 820 420', 'Telefo...</td>\n",
       "      <td>https://www.bebopbar.cz/</td>\n",
       "      <td>[hotově]</td>\n",
       "      <td>[Koktejly a drinky, BeBop Signatures, Be Drive...</td>\n",
       "      <td>[Lobby Bar, Moderní gastronomie, Barmanské akc...</td>\n",
       "      <td>[Royal Oporto, Fonseca Bin, Cinzano Bianco, Gr...</td>\n",
       "      <td>{'latitude': 50.0800654, 'longitude': 14.426618}</td>\n",
       "    </tr>\n",
       "    <tr>\n",
       "      <th>262</th>\n",
       "      <td>ČÍNSKÁ RESTAURACE</td>\n",
       "      <td>Kubánské nám. 2/1283, 100 00 Praha 10-Vršovice</td>\n",
       "      <td>Praha 10</td>\n",
       "      <td>0.0</td>\n",
       "      <td>0</td>\n",
       "      <td>{'Po': None, 'Út': None, 'St': None, 'Čt': Non...</td>\n",
       "      <td>{'Po': None, 'Út': None, 'St': None, 'Čt': Non...</td>\n",
       "      <td>NaN</td>\n",
       "      <td>{'hlavní telefon': '+420 267 311 492'}</td>\n",
       "      <td>NaN</td>\n",
       "      <td>[hotově]</td>\n",
       "      <td>[čínská kuchyně, nápoje]</td>\n",
       "      <td>[restaurace]</td>\n",
       "      <td>NaN</td>\n",
       "      <td>{'latitude': 50.071238, 'longitude': 14.47675}</td>\n",
       "    </tr>\n",
       "    <tr>\n",
       "      <th>405</th>\n",
       "      <td>Forbidden Taste Prague, s.r.o.</td>\n",
       "      <td>Služská 15/1865, 182 00 Praha 8-Kobylisy</td>\n",
       "      <td>Praha 8</td>\n",
       "      <td>0.0</td>\n",
       "      <td>0</td>\n",
       "      <td>{'Po': None, 'Út': None, 'St': None, 'Čt': Non...</td>\n",
       "      <td>{'Po': None, 'Út': None, 'St': None, 'Čt': Non...</td>\n",
       "      <td>popup@forbiddentaste.com</td>\n",
       "      <td>{'hlavní telefon': '+420 732 334 322'}</td>\n",
       "      <td>http://forbiddentaste.com</td>\n",
       "      <td>NaN</td>\n",
       "      <td>NaN</td>\n",
       "      <td>[restaurace, umění, gastronomický zážitek]</td>\n",
       "      <td>NaN</td>\n",
       "      <td>{'latitude': 50.12404, 'longitude': 14.44935}</td>\n",
       "    </tr>\n",
       "    <tr>\n",
       "      <th>767</th>\n",
       "      <td>Lehká hlava - vegetariánská restaurace</td>\n",
       "      <td>Boršov 280/2, 110 00 Praha 1-Staré Město</td>\n",
       "      <td>Praha 1</td>\n",
       "      <td>82.0</td>\n",
       "      <td>1</td>\n",
       "      <td>{'Po': None, 'Út': None, 'St': None, 'Čt': Non...</td>\n",
       "      <td>{'Po': None, 'Út': None, 'St': None, 'Čt': Non...</td>\n",
       "      <td>info@lehkahlava.cz</td>\n",
       "      <td>{'Main': '+420 222 220 665'}</td>\n",
       "      <td>http://www.lehkahlava.cz</td>\n",
       "      <td>[hotově, faktura, MASTERCARD, VISA]</td>\n",
       "      <td>[Vegetariánská kuchyně, Předkrmy, Polévky, Sal...</td>\n",
       "      <td>[Nekuřácká restaurace, Unikátní interiér, Přát...</td>\n",
       "      <td>[Pilsner Urquell, Bernard, Birell, Cider, Aper...</td>\n",
       "      <td>{'latitude': 50.08409118652344, 'longitude': 1...</td>\n",
       "    </tr>\n",
       "    <tr>\n",
       "      <th>1007</th>\n",
       "      <td>PIVNICE SPARTA</td>\n",
       "      <td>Cíglerova 1142, 193 00 Praha</td>\n",
       "      <td>Not found</td>\n",
       "      <td>0.0</td>\n",
       "      <td>0</td>\n",
       "      <td>{'Po': None, 'Út': None, 'St': None, 'Čt': Non...</td>\n",
       "      <td>{'Po': None, 'Út': None, 'St': None, 'Čt': Non...</td>\n",
       "      <td>moravec.martin@inmail.cz</td>\n",
       "      <td>{'hlavní telefon': '+420 608 319 611'}</td>\n",
       "      <td>http://www.salonek-praha-9.cz</td>\n",
       "      <td>[TICKETRESTAURANT, hotově]</td>\n",
       "      <td>[firemní rauty, firemní večírky, pořádání svat...</td>\n",
       "      <td>[společesnké akce]</td>\n",
       "      <td>[Gambrinus, Kozel]</td>\n",
       "      <td>{'latitude': 50.106742, 'longitude': 14.562658}</td>\n",
       "    </tr>\n",
       "  </tbody>\n",
       "</table>\n",
       "</div>"
      ],
      "text/plain": [
       "                                        name  \\\n",
       "109                         Be Bop Lobby Bar   \n",
       "262                        ČÍNSKÁ RESTAURACE   \n",
       "405           Forbidden Taste Prague, s.r.o.   \n",
       "767   Lehká hlava - vegetariánská restaurace   \n",
       "1007                          PIVNICE SPARTA   \n",
       "\n",
       "                                             address   district  ratings  \\\n",
       "109          Štěpánská 40, 110 00 Praha 1-Nové Město    Praha 1      0.0   \n",
       "262   Kubánské nám. 2/1283, 100 00 Praha 10-Vršovice   Praha 10      0.0   \n",
       "405         Služská 15/1865, 182 00 Praha 8-Kobylisy    Praha 8      0.0   \n",
       "767         Boršov 280/2, 110 00 Praha 1-Staré Město    Praha 1     82.0   \n",
       "1007                    Cíglerova 1142, 193 00 Praha  Not found      0.0   \n",
       "\n",
       "      review_count                                      opening_hours  \\\n",
       "109              0  {'Po': None, 'Út': None, 'St': None, 'Čt': Non...   \n",
       "262              0  {'Po': None, 'Út': None, 'St': None, 'Čt': Non...   \n",
       "405              0  {'Po': None, 'Út': None, 'St': None, 'Čt': Non...   \n",
       "767              1  {'Po': None, 'Út': None, 'St': None, 'Čt': Non...   \n",
       "1007             0  {'Po': None, 'Út': None, 'St': None, 'Čt': Non...   \n",
       "\n",
       "                                     opening_hours_span  \\\n",
       "109   {'Po': None, 'Út': None, 'St': None, 'Čt': Non...   \n",
       "262   {'Po': None, 'Út': None, 'St': None, 'Čt': Non...   \n",
       "405   {'Po': None, 'Út': None, 'St': None, 'Čt': Non...   \n",
       "767   {'Po': None, 'Út': None, 'St': None, 'Čt': Non...   \n",
       "1007  {'Po': None, 'Út': None, 'St': None, 'Čt': Non...   \n",
       "\n",
       "                 email_address  \\\n",
       "109   bebopbar@radissonblu.com   \n",
       "262                        NaN   \n",
       "405   popup@forbiddentaste.com   \n",
       "767         info@lehkahlava.cz   \n",
       "1007  moravec.martin@inmail.cz   \n",
       "\n",
       "                                                 phones  \\\n",
       "109   {'hlavní telefon': '+420 222 820 420', 'Telefo...   \n",
       "262              {'hlavní telefon': '+420 267 311 492'}   \n",
       "405              {'hlavní telefon': '+420 732 334 322'}   \n",
       "767                        {'Main': '+420 222 220 665'}   \n",
       "1007             {'hlavní telefon': '+420 608 319 611'}   \n",
       "\n",
       "                           web_page                      payment_methods  \\\n",
       "109        https://www.bebopbar.cz/                             [hotově]   \n",
       "262                             NaN                             [hotově]   \n",
       "405       http://forbiddentaste.com                                  NaN   \n",
       "767        http://www.lehkahlava.cz  [hotově, faktura, MASTERCARD, VISA]   \n",
       "1007  http://www.salonek-praha-9.cz           [TICKETRESTAURANT, hotově]   \n",
       "\n",
       "                                               products  \\\n",
       "109   [Koktejly a drinky, BeBop Signatures, Be Drive...   \n",
       "262                            [čínská kuchyně, nápoje]   \n",
       "405                                                 NaN   \n",
       "767   [Vegetariánská kuchyně, Předkrmy, Polévky, Sal...   \n",
       "1007  [firemní rauty, firemní večírky, pořádání svat...   \n",
       "\n",
       "                                               services  \\\n",
       "109   [Lobby Bar, Moderní gastronomie, Barmanské akc...   \n",
       "262                                        [restaurace]   \n",
       "405          [restaurace, umění, gastronomický zážitek]   \n",
       "767   [Nekuřácká restaurace, Unikátní interiér, Přát...   \n",
       "1007                                 [společesnké akce]   \n",
       "\n",
       "                                                  marks  \\\n",
       "109   [Royal Oporto, Fonseca Bin, Cinzano Bianco, Gr...   \n",
       "262                                                 NaN   \n",
       "405                                                 NaN   \n",
       "767   [Pilsner Urquell, Bernard, Birell, Cider, Aper...   \n",
       "1007                                 [Gambrinus, Kozel]   \n",
       "\n",
       "                                            coordinates  \n",
       "109    {'latitude': 50.0800654, 'longitude': 14.426618}  \n",
       "262      {'latitude': 50.071238, 'longitude': 14.47675}  \n",
       "405       {'latitude': 50.12404, 'longitude': 14.44935}  \n",
       "767   {'latitude': 50.08409118652344, 'longitude': 1...  \n",
       "1007    {'latitude': 50.106742, 'longitude': 14.562658}  "
      ]
     },
     "execution_count": 21,
     "metadata": {},
     "output_type": "execute_result"
    }
   ],
   "source": [
    "df[array_of_sums_of_spans==0] \n",
    "#weird opening hours (computed as 0)\n",
    "#https://www.zlatestranky.cz/profil/H757493\n",
    "#https://www.zlatestranky.cz/profil/H14470\n",
    "#https://www.zlatestranky.cz/profil/H2048283\n",
    "#https://www.zlatestranky.cz/profil/H1433739\n",
    "#https://www.zlatestranky.cz/profil/H1441575"
   ]
  },
  {
   "cell_type": "code",
   "execution_count": 22,
   "metadata": {},
   "outputs": [
    {
     "data": {
      "image/png": "[encoded data removed]",
      "text/plain": [
       "<Figure size 432x288 with 1 Axes>"
      ]
     },
     "metadata": {
      "needs_background": "light"
     },
     "output_type": "display_data"
    }
   ],
   "source": [
    "spans_hist=plt.hist(array_of_sums_of_spans)"
   ]
  },
  {
   "cell_type": "code",
   "execution_count": 23,
   "metadata": {},
   "outputs": [
    {
     "name": "stdout",
     "output_type": "stream",
     "text": [
      "Missing values of review_count: 0\n",
      "Missing values of ratings: 0\n",
      "At least one review:  180\n",
      "Highest number of reviews: 8\n",
      "Mean average of available ratings: 82.83 out of 100\n",
      "Restaurants with the lowest rating: (10.0) Culinary Aroma, RESTAURACE NA JEZERCE, RESTAURACE TERASY, Špejchar - staročeský restaurant\n",
      "Restaurants with the highest rating: (100.0) Restaurace Nad Ledem, SRI LANKAN CURRY HOUSE, ART&FOOD Had, Balbínova poetická spol. s r.o., CAFE DE PARIS, CAFFEINE s.r.o., ČÍNSKÁ RESTAURACE CHONG FA JIU DIAN, EURO HOT DOG spol. s r.o., Hostinec U Rozcestí, KLUB LÁVKA, Lavande Restaurant, MANU Risto & Lounge, Pinta - pivní steakhouse, Příčný Řez, RESTAURACE CORLEONE, RESTAURACE CHMELNICE, Restaurace K-CLUB, RESTAURACE RETRO KAVÁRNA, Restaurace Selský statek, RESTAURACE TLUSTÁ KOALA, RESTAURACE U BRÁZDŮ, Restaurace U Dědka, Restaurace U Kristiána, Restaurace U Lípy, RESTAURACE U PECKŮ, RESTAURACE U SV. FILIPA A JAKUBA, RESTAURACE U VAZAČŮ, Restaurace Zubajda - Smíchov, Restaurant PEKLO, Restaurant U Kašpara, Serial Burgers, ŠIMI GASTRO s.r.o., VINIČNÍ ALTÁN, XL Restaurant Grill & Bar, Yamato Restaurant, Zlaté služby s.r.o., Art Restaurant Mánes, KFC Praha I. P. Pavlova, METRO - PALÁC, s.r.o., Plzeňská pivnice a restaurace U Rudolfina, s.r.o.\n"
     ]
    }
   ],
   "source": [
    "print('Missing values of review_count: '+str(sum(pd.isna(df.review_count))))\n",
    "print('Missing values of ratings: '+str(sum(pd.isna(df.ratings))))\n",
    "print('At least one review: ',str(sum(df.review_count!=0)))\n",
    "print(f'Highest number of reviews: {max(df.review_count)}')\n",
    "available_ratings=df.ratings[df.review_count!=0]\n",
    "print('Mean average of available ratings: '+str(np.around(np.mean(available_ratings),2))+' out of 100')\n",
    "print('Restaurants with the lowest rating: '+'('+str(min(available_ratings))+') '+\", \".join(list(df.name[df.ratings==min(available_ratings)])))\n",
    "print('Restaurants with the highest rating: '+'('+str(max(available_ratings))+') '+\", \".join(list(df.name[df.ratings==max(available_ratings)])))"
   ]
  },
  {
   "cell_type": "code",
   "execution_count": 24,
   "metadata": {},
   "outputs": [
    {
     "data": {
      "image/png": "[encoded data removed]",
      "text/plain": [
       "<Figure size 432x288 with 1 Axes>"
      ]
     },
     "metadata": {
      "needs_background": "light"
     },
     "output_type": "display_data"
    }
   ],
   "source": [
    "ratings_hist=df.ratings[df.ratings!=0].hist(color='red')"
   ]
  },
  {
   "cell_type": "code",
   "execution_count": 25,
   "metadata": {},
   "outputs": [],
   "source": [
    "payment_methods=[]\n",
    "for payment_method in df.payment_methods:\n",
    "    if type(payment_method)==type([]): #if its a list we need to unpack it\n",
    "        payment_methods.extend(payment_method)\n",
    "    elif pd.isna(payment_method): #if it is nan, we do not need it\n",
    "        pass\n",
    "    else:\n",
    "        payment_methods.append(payment_method) #if it is a single value, we append it"
   ]
  },
  {
   "cell_type": "code",
   "execution_count": 26,
   "metadata": {},
   "outputs": [],
   "source": [
    "payment_methods_counts=Counter(payment_methods)\n",
    "payment_methods_counts_filtered={key:value for key, value in payment_methods_counts.items() if value>=10} #Filtering out low values"
   ]
  },
  {
   "cell_type": "code",
   "execution_count": 27,
   "metadata": {},
   "outputs": [
    {
     "data": {
      "image/png": "[encoded data removed]",
      "text/plain": [
       "<Figure size 504x504 with 1 Axes>"
      ]
     },
     "metadata": {},
     "output_type": "display_data"
    }
   ],
   "source": [
    "#Pie is probably not the best idea for this kind of data\n",
    "fig_size=plt.figure(figsize=(7,7))\n",
    "payment_methods_pie=plt.pie(payment_methods_counts_filtered.values(),labels=payment_methods_counts_filtered.keys(),labeldistance=None, autopct='%1.2f%%')\n",
    "legend=plt.legend()"
   ]
  },
  {
   "cell_type": "code",
   "execution_count": 28,
   "metadata": {},
   "outputs": [],
   "source": [
    "items_sorted=sorted(payment_methods_counts_filtered.items(),key=lambda x:x[1]) #sorting the items in the dictionary\n",
    "payment_methods_counts_filtered_sorted={key:value for key, value in items_sorted} #creating a new dictionary from sorted items"
   ]
  },
  {
   "cell_type": "code",
   "execution_count": 29,
   "metadata": {},
   "outputs": [
    {
     "data": {
      "text/plain": [
       "Text(0.5, 1.0, 'Payment methods')"
      ]
     },
     "execution_count": 29,
     "metadata": {},
     "output_type": "execute_result"
    },
    {
     "data": {
      "image/png": "[encoded data removed]",
      "text/plain": [
       "<Figure size 432x288 with 1 Axes>"
      ]
     },
     "metadata": {
      "needs_background": "light"
     },
     "output_type": "display_data"
    }
   ],
   "source": [
    "plt.barh(list(payment_methods_counts_filtered_sorted.keys()),payment_methods_counts_filtered_sorted.values(),color='darkgreen') #plotting\n",
    "plt.title('Payment methods')"
   ]
  },
  {
   "cell_type": "code",
   "execution_count": 30,
   "metadata": {},
   "outputs": [],
   "source": [
    "#Creating a dictionary with 'products', 'services', and 'marks' as keys and with list containing respective values from each column as values\n",
    "pro_ser_mar_dict={}\n",
    "for column in ['products', 'services', 'marks']:\n",
    "    demo_list=[]\n",
    "    for value in df[column]:\n",
    "        if type(value)==type([]): #if its a list we need to unpack it\n",
    "            demo_list.extend(value)\n",
    "        elif pd.isna(value): #if it is nan, we do not need it\n",
    "            pass\n",
    "        else:\n",
    "            demo_list.append(value) #if it is a single value, we append it\n",
    "    pro_ser_mar_dict[column]=demo_list"
   ]
  },
  {
   "cell_type": "code",
   "execution_count": 48,
   "metadata": {},
   "outputs": [],
   "source": [
    "#Converting the values to lowercase to avoid duplicates\n",
    "pro_ser_mar_dict_lower={key:[value.lower() for value in values] for key, values in pro_ser_mar_dict.items()}"
   ]
  },
  {
   "cell_type": "code",
   "execution_count": 49,
   "metadata": {},
   "outputs": [],
   "source": [
    "#Computing value counts\n",
    "pro_ser_mar_counter={key:Counter(value) for key, value in pro_ser_mar_dict_lower.items()}"
   ]
  },
  {
   "cell_type": "code",
   "execution_count": 51,
   "metadata": {},
   "outputs": [],
   "source": [
    "#Filtering out low occurrences\n",
    "pro_ser_mar_counter_filtered={}\n",
    "for item in pro_ser_mar_counter.keys():\n",
    "    pro_ser_mar_counter_filtered[item]={key:value for key, value in pro_ser_mar_counter[item].items() if value>=10}"
   ]
  },
  {
   "cell_type": "code",
   "execution_count": 52,
   "metadata": {},
   "outputs": [],
   "source": [
    "#Sorting the values from highest to lowest\n",
    "pro_ser_mar_counter_filtered_sorted={}\n",
    "for item in pro_ser_mar_counter_filtered.keys():\n",
    "    items_sorted=sorted(pro_ser_mar_counter_filtered[item].items(),key=lambda x:x[1]) #sorting the items in the dictionary\n",
    "    pro_ser_mar_counter_filtered_sorted[item]={key:value for key, value in items_sorted} #creating a new dictionary from sorted items\n"
   ]
  },
  {
   "cell_type": "code",
   "execution_count": 53,
   "metadata": {},
   "outputs": [
    {
     "data": {
      "text/plain": [
       "Text(0.5, 1.0, 'Products')"
      ]
     },
     "execution_count": 53,
     "metadata": {},
     "output_type": "execute_result"
    },
    {
     "data": {
      "image/png": "[encoded data removed]",
      "text/plain": [
       "<Figure size 504x504 with 1 Axes>"
      ]
     },
     "metadata": {
      "needs_background": "light"
     },
     "output_type": "display_data"
    }
   ],
   "source": [
    "plt.figure(figsize=(7,7))\n",
    "plt.barh(list(pro_ser_mar_counter_filtered_sorted['products'].keys()),pro_ser_mar_counter_filtered_sorted['products'].values(),color='darkgreen') #plotting\n",
    "plt.title('Products')"
   ]
  },
  {
   "cell_type": "code",
   "execution_count": 54,
   "metadata": {},
   "outputs": [
    {
     "data": {
      "text/plain": [
       "Text(0.5, 1.0, 'Services')"
      ]
     },
     "execution_count": 54,
     "metadata": {},
     "output_type": "execute_result"
    },
    {
     "data": {
      "image/png": "[encoded data removed]",
      "text/plain": [
       "<Figure size 504x504 with 1 Axes>"
      ]
     },
     "metadata": {
      "needs_background": "light"
     },
     "output_type": "display_data"
    }
   ],
   "source": [
    "plt.figure(figsize=(7,7))\n",
    "plt.barh(list(pro_ser_mar_counter_filtered_sorted['services'].keys()),pro_ser_mar_counter_filtered_sorted['services'].values(),color='darkgreen') #plotting\n",
    "plt.title('Services')"
   ]
  },
  {
   "cell_type": "code",
   "execution_count": 55,
   "metadata": {},
   "outputs": [
    {
     "data": {
      "text/plain": [
       "Text(0.5, 1.0, 'Marks')"
      ]
     },
     "execution_count": 55,
     "metadata": {},
     "output_type": "execute_result"
    },
    {
     "data": {
      "image/png": "[encoded data removed]",
      "text/plain": [
       "<Figure size 432x288 with 1 Axes>"
      ]
     },
     "metadata": {
      "needs_background": "light"
     },
     "output_type": "display_data"
    }
   ],
   "source": [
    "#plt.figure(figsize=(7,7))\n",
    "plt.barh(list(pro_ser_mar_counter_filtered_sorted['marks'].keys()),pro_ser_mar_counter_filtered_sorted['marks'].values(),color='darkgreen') #plotting\n",
    "plt.title('Marks')"
   ]
  },
  {
   "cell_type": "code",
   "execution_count": 56,
   "metadata": {},
   "outputs": [],
   "source": [
    "#Number of phones available by restaurant\n",
    "no_of_phones=[]\n",
    "for phones_dict in df['phones']:\n",
    "    no_of_phones.append(len(phones_dict))"
   ]
  },
  {
   "cell_type": "code",
   "execution_count": 57,
   "metadata": {},
   "outputs": [],
   "source": [
    "#Counting the occurences\n",
    "no_of_phones_counts=Counter(no_of_phones)"
   ]
  },
  {
   "cell_type": "code",
   "execution_count": 58,
   "metadata": {},
   "outputs": [
    {
     "data": {
      "text/plain": [
       "Text(0.5, 1.0, 'Number of phones available')"
      ]
     },
     "execution_count": 58,
     "metadata": {},
     "output_type": "execute_result"
    },
    {
     "data": {
      "image/png": "[encoded data removed]",
      "text/plain": [
       "<Figure size 432x288 with 1 Axes>"
      ]
     },
     "metadata": {
      "needs_background": "light"
     },
     "output_type": "display_data"
    }
   ],
   "source": [
    "#Plotting\n",
    "plt.barh(list([str(key) for key in no_of_phones_counts.keys()]),no_of_phones_counts.values(),color='pink')\n",
    "plt.gca().invert_yaxis() #to sort it from highest to lowest\n",
    "plt.title('Number of phones available')"
   ]
  }
 ],
 "metadata": {
  "interpreter": {
   "hash": "1f2e975888e86c326e42558cd0245e721b17a19f2abd9ef3d2679d2ce5d88c35"
  },
  "kernelspec": {
   "display_name": "Python 3.9.7 64-bit ('my_env': conda)",
   "language": "python",
   "name": "python3"
  },
  "language_info": {
   "codemirror_mode": {
    "name": "ipython",
    "version": 3
   },
   "file_extension": ".py",
   "mimetype": "text/x-python",
   "name": "python",
   "nbconvert_exporter": "python",
   "pygments_lexer": "ipython3",
   "version": "3.9.7"
  },
  "orig_nbformat": 4
 },
 "nbformat": 4,
 "nbformat_minor": 2
}
