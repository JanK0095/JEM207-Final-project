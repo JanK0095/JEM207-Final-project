{
 "cells": [
  {
   "cell_type": "code",
   "execution_count": 1,
   "metadata": {},
   "outputs": [],
   "source": [
    "from LinkGetter import LinkGetter"
   ]
  },
  {
   "cell_type": "code",
   "execution_count": 2,
   "metadata": {},
   "outputs": [
    {
     "name": "stdout",
     "output_type": "stream",
     "text": [
      "Successfuly requested 22 pages\n"
     ]
    }
   ],
   "source": [
    "links_hopefully=LinkGetter()"
   ]
  },
  {
   "cell_type": "code",
   "execution_count": 3,
   "metadata": {},
   "outputs": [
    {
     "name": "stdout",
     "output_type": "stream",
     "text": [
      "['https://www.zlatestranky.cz/profil/H270008', 'https://www.zlatestranky.cz/profil/H2052564', 'https://www.zlatestranky.cz/profil/H2028609', 'https://www.zlatestranky.cz/profil/H2056923', 'https://www.zlatestranky.cz/profil/H952175', 'https://www.zlatestranky.cz/profil/T1488202', 'https://www.zlatestranky.cz/profil/H731735', 'https://www.zlatestranky.cz/profil/T678796', 'https://www.zlatestranky.cz/profil/H217233', 'https://www.zlatestranky.cz/profil/H1909419']\n"
     ]
    }
   ],
   "source": [
    "print(links_hopefully.links[:10])"
   ]
  },
  {
   "cell_type": "code",
   "execution_count": 1,
   "metadata": {},
   "outputs": [],
   "source": [
    "from Restaurant import Restaurant"
   ]
  },
  {
   "cell_type": "code",
   "execution_count": 4,
   "metadata": {},
   "outputs": [],
   "source": [
    "restaurant_1=Restaurant('https://www.zlatestranky.cz/profil/H952175')\n",
    "#H1778453\n",
    "#H270008\n",
    "#H952175 have opening hours but no email address\n",
    "#H731735 no opening hours"
   ]
  },
  {
   "cell_type": "code",
   "execution_count": 5,
   "metadata": {},
   "outputs": [
    {
     "name": "stdout",
     "output_type": "stream",
     "text": [
      "1. MEXICKÁ RESTAURACE\n",
      "2 ratings,    89.0 stars\n",
      "{'Po': '11:30 - 23:59', 'Út': '11:30 - 23:59', 'St': '11:30 - 23:59', 'Čt': '11:30 - 23:59', 'Pá': '11:30 - 23:59', 'So': '11:30 - 23:59', 'Ne': '11:30 - 23:59'}\n",
      "{'Po': 12.48, 'Út': 12.48, 'St': 12.48, 'Čt': 12.48, 'Pá': 12.48, 'So': 12.48, 'Ne': 12.48}\n",
      "None\n",
      "{'hlavní telefon': '+420 257 317 173'}\n",
      "None\n",
      "Payment methods:    ['hotově']\n",
      "Services:   None\n",
      "Products:   None\n",
      "Marks:   None\n",
      "{'latitude': 50.08294, 'longitude': 14.40461}\n"
     ]
    }
   ],
   "source": [
    "print(restaurant_1.name)\n",
    "print(restaurant_1.review_count,\"ratings,   \", restaurant_1.ratings, \"stars\")\n",
    "print(restaurant_1.opening_hours)\n",
    "print(restaurant_1.opening_hours_span)\n",
    "print(restaurant_1.email_address)\n",
    "print(restaurant_1.phones)\n",
    "print(restaurant_1.web_page)\n",
    "print(\"Payment methods:   \", restaurant_1.payment_methods)\n",
    "print(\"Services:  \", restaurant_1.services)\n",
    "print(\"Products:  \", restaurant_1.products)\n",
    "print(\"Marks:  \", restaurant_1.marks)\n",
    "print(restaurant_1.coordinates)"
   ]
  },
  {
   "cell_type": "code",
   "execution_count": 7,
   "metadata": {},
   "outputs": [
    {
     "data": {
      "text/plain": [
       "{'Po': '10 - 23',\n",
       " 'Út': '10 - 23',\n",
       " 'St': '10 - 23',\n",
       " 'Čt': '10 - 23',\n",
       " 'Pá': '10 - 23',\n",
       " 'So': '10:30 - 23',\n",
       " 'Ne': '10:30 - 23'}"
      ]
     },
     "execution_count": 7,
     "metadata": {},
     "output_type": "execute_result"
    }
   ],
   "source": [
    "restaurant_1.getOpeningHours(restaurant_1.soup)"
   ]
  }
 ],
 "metadata": {
  "interpreter": {
   "hash": "1f2e975888e86c326e42558cd0245e721b17a19f2abd9ef3d2679d2ce5d88c35"
  },
  "kernelspec": {
   "display_name": "Python 3.9.7 64-bit ('my_env': conda)",
   "language": "python",
   "name": "python3"
  },
  "language_info": {
   "codemirror_mode": {
    "name": "ipython",
    "version": 3
   },
   "file_extension": ".py",
   "mimetype": "text/x-python",
   "name": "python",
   "nbconvert_exporter": "python",
   "pygments_lexer": "ipython3",
   "version": "3.9.7"
  },
  "orig_nbformat": 4
 },
 "nbformat": 4,
 "nbformat_minor": 2
}
