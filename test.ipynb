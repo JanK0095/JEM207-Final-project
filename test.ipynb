{
 "cells": [
  {
   "cell_type": "code",
   "execution_count": 1,
   "metadata": {},
   "outputs": [],
   "source": [
    "from LinkGetter import LinkGetter"
   ]
  },
  {
   "cell_type": "code",
   "execution_count": 2,
   "metadata": {},
   "outputs": [
    {
     "name": "stdout",
     "output_type": "stream",
     "text": [
      "Successfuly requested 22 pages\n"
     ]
    }
   ],
   "source": [
    "links_hopefully=LinkGetter()"
   ]
  },
  {
   "cell_type": "code",
   "execution_count": 3,
   "metadata": {},
   "outputs": [
    {
     "name": "stdout",
     "output_type": "stream",
     "text": [
      "['https://www.zlatestranky.cz/profil/H270008', 'https://www.zlatestranky.cz/profil/H2052564', 'https://www.zlatestranky.cz/profil/H2028609', 'https://www.zlatestranky.cz/profil/H2056923', 'https://www.zlatestranky.cz/profil/H952175', 'https://www.zlatestranky.cz/profil/T1488202', 'https://www.zlatestranky.cz/profil/H731735', 'https://www.zlatestranky.cz/profil/T678796', 'https://www.zlatestranky.cz/profil/H217233', 'https://www.zlatestranky.cz/profil/H1909419']\n"
     ]
    }
   ],
   "source": [
    "print(links_hopefully.links[:10])"
   ]
  },
  {
   "cell_type": "code",
   "execution_count": 1,
   "metadata": {},
   "outputs": [],
   "source": [
    "from Restaurant import Restaurant"
   ]
  },
  {
   "cell_type": "code",
   "execution_count": 9,
   "metadata": {},
   "outputs": [],
   "source": [
    "restaurant_1=Restaurant('https://www.zlatestranky.cz/profil/H270008')\n",
    "#H1778453\n",
    "#H270008"
   ]
  },
  {
   "cell_type": "code",
   "execution_count": 10,
   "metadata": {},
   "outputs": [
    {
     "data": {
      "text/plain": [
       "{'Po': 12.5, 'Út': 12.5, 'St': 12.5, 'Čt': 12.5, 'Pá': 12.5, 'So': 11.0}"
      ]
     },
     "execution_count": 10,
     "metadata": {},
     "output_type": "execute_result"
    }
   ],
   "source": [
    "restaurant_1.opening_hours_span"
   ]
  },
  {
   "cell_type": "code",
   "execution_count": 11,
   "metadata": {},
   "outputs": [
    {
     "data": {
      "text/plain": [
       "'rezervace@repre-restaurant.cz'"
      ]
     },
     "execution_count": 11,
     "metadata": {},
     "output_type": "execute_result"
    }
   ],
   "source": [
    "restaurant_1.email_address"
   ]
  }
 ],
 "metadata": {
  "interpreter": {
   "hash": "1f2e975888e86c326e42558cd0245e721b17a19f2abd9ef3d2679d2ce5d88c35"
  },
  "kernelspec": {
   "display_name": "Python 3.9.7 64-bit ('my_env': conda)",
   "language": "python",
   "name": "python3"
  },
  "language_info": {
   "codemirror_mode": {
    "name": "ipython",
    "version": 3
   },
   "file_extension": ".py",
   "mimetype": "text/x-python",
   "name": "python",
   "nbconvert_exporter": "python",
   "pygments_lexer": "ipython3",
   "version": "3.9.7"
  },
  "orig_nbformat": 4
 },
 "nbformat": 4,
 "nbformat_minor": 2
}
