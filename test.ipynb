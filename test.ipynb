{
 "cells": [
  {
   "cell_type": "code",
   "execution_count": 1,
   "metadata": {},
   "outputs": [],
   "source": [
    "from LinkGetter import LinkGetter"
   ]
  },
  {
   "cell_type": "code",
   "execution_count": 2,
   "metadata": {},
   "outputs": [
    {
     "name": "stdout",
     "output_type": "stream",
     "text": [
      "Successfuly requested 22 pages\n"
     ]
    }
   ],
   "source": [
    "links_hopefully=LinkGetter()"
   ]
  },
  {
   "cell_type": "code",
   "execution_count": 3,
   "metadata": {},
   "outputs": [
    {
     "name": "stdout",
     "output_type": "stream",
     "text": [
      "['https://www.zlatestranky.cz/profil/H270008', 'https://www.zlatestranky.cz/profil/H2052564', 'https://www.zlatestranky.cz/profil/H2028609', 'https://www.zlatestranky.cz/profil/H2056923', 'https://www.zlatestranky.cz/profil/H952175', 'https://www.zlatestranky.cz/profil/T1488202', 'https://www.zlatestranky.cz/profil/H731735', 'https://www.zlatestranky.cz/profil/T678796', 'https://www.zlatestranky.cz/profil/H217233', 'https://www.zlatestranky.cz/profil/H1909419']\n"
     ]
    }
   ],
   "source": [
    "print(links_hopefully.links[:10])"
   ]
  },
  {
   "cell_type": "code",
   "execution_count": 24,
   "metadata": {},
   "outputs": [
    {
     "name": "stdout",
     "output_type": "stream",
     "text": [
      "Successfuly requested 22 pages\n",
      "['https://www.zlatestranky.cz/profil/H270008', 'https://www.zlatestranky.cz/profil/H2052564', 'https://www.zlatestranky.cz/profil/H2028609', 'https://www.zlatestranky.cz/profil/H2056923', 'https://www.zlatestranky.cz/profil/H952175', 'https://www.zlatestranky.cz/profil/T1488202', 'https://www.zlatestranky.cz/profil/H731735', 'https://www.zlatestranky.cz/profil/T678796', 'https://www.zlatestranky.cz/profil/H217233', 'https://www.zlatestranky.cz/profil/H1909419']\n"
     ]
    }
   ],
   "source": [
    "import time\n",
    "import requests\n",
    "from bs4 import BeautifulSoup\n",
    "def getRequestsFromAllPages():\n",
    "    request_list=[]\n",
    "    i=1 #initializing the first iteration\n",
    "    indicator=200 #initializing the while loop\n",
    "    while indicator == 200:\n",
    "        request=requests.get(f'https://www.zlatestranky.cz/firmy/rubrika/Restaurace/kraj/Hlavn%C3%AD%20m%C4%9Bsto%20Praha/{i}')\n",
    "        indicator=request.status_code\n",
    "        time.sleep(0.2)\n",
    "        if indicator == 200:\n",
    "            request_list.append(request.content)\n",
    "            i += 1\n",
    "        else:\n",
    "            print(f'Successfuly requested {i-1} pages')\n",
    "    return request_list\n",
    "\n",
    "request_list=getRequestsFromAllPages()\n",
    "soup_list=[]\n",
    "for request in request_list:\n",
    "    soup_list.append(BeautifulSoup(request))\n",
    "titles_soup=[]\n",
    "for soup in soup_list:\n",
    "    titles_soup.extend(soup.find_all(\"h3\"))\n",
    "links=[]\n",
    "for title in titles_soup:\n",
    "    links.append(f'https://www.zlatestranky.cz{title.find(\"a\")[\"href\"]}')\n",
    "print(links[:10])\n"
   ]
  },
  {
   "cell_type": "code",
   "execution_count": 21,
   "metadata": {},
   "outputs": [
    {
     "data": {
      "text/plain": [
       "bs4.BeautifulSoup"
      ]
     },
     "execution_count": 21,
     "metadata": {},
     "output_type": "execute_result"
    }
   ],
   "source": [
    "type(soup_list[0])"
   ]
  }
 ],
 "metadata": {
  "interpreter": {
   "hash": "1f2e975888e86c326e42558cd0245e721b17a19f2abd9ef3d2679d2ce5d88c35"
  },
  "kernelspec": {
   "display_name": "Python 3.9.7 64-bit ('my_env': conda)",
   "language": "python",
   "name": "python3"
  },
  "language_info": {
   "codemirror_mode": {
    "name": "ipython",
    "version": 3
   },
   "file_extension": ".py",
   "mimetype": "text/x-python",
   "name": "python",
   "nbconvert_exporter": "python",
   "pygments_lexer": "ipython3",
   "version": "3.9.7"
  },
  "orig_nbformat": 4
 },
 "nbformat": 4,
 "nbformat_minor": 2
}
