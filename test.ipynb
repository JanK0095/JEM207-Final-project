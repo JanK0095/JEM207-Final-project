{
 "cells": [
  {
   "cell_type": "code",
   "execution_count": 1,
   "metadata": {},
   "outputs": [],
   "source": [
    "from LinkGetter import LinkGetter"
   ]
  },
  {
   "cell_type": "code",
   "execution_count": 2,
   "metadata": {},
   "outputs": [
    {
     "name": "stdout",
     "output_type": "stream",
     "text": [
      "Successfuly requested 22 pages\n"
     ]
    }
   ],
   "source": [
    "links_hopefully=LinkGetter()"
   ]
  },
  {
   "cell_type": "code",
   "execution_count": 3,
   "metadata": {},
   "outputs": [
    {
     "name": "stdout",
     "output_type": "stream",
     "text": [
      "['https://www.zlatestranky.cz/profil/H270008', 'https://www.zlatestranky.cz/profil/H2052564', 'https://www.zlatestranky.cz/profil/H2028609', 'https://www.zlatestranky.cz/profil/H2056923', 'https://www.zlatestranky.cz/profil/H952175', 'https://www.zlatestranky.cz/profil/T1488202', 'https://www.zlatestranky.cz/profil/H731735', 'https://www.zlatestranky.cz/profil/T678796', 'https://www.zlatestranky.cz/profil/H217233', 'https://www.zlatestranky.cz/profil/H1909419']\n"
     ]
    }
   ],
   "source": [
    "print(links_hopefully.links[:10])"
   ]
  },
  {
   "cell_type": "code",
   "execution_count": 13,
   "metadata": {},
   "outputs": [],
   "source": [
    "from Restaurant import Restaurant"
   ]
  },
  {
   "cell_type": "code",
   "execution_count": 26,
   "metadata": {},
   "outputs": [
    {
     "ename": "IndexError",
     "evalue": "list index out of range",
     "output_type": "error",
     "traceback": [
      "\u001b[1;31m---------------------------------------------------------------------------\u001b[0m",
      "\u001b[1;31mIndexError\u001b[0m                                Traceback (most recent call last)",
      "\u001b[1;32m~\\AppData\\Local\\Temp/ipykernel_5528/2592688867.py\u001b[0m in \u001b[0;36m<module>\u001b[1;34m\u001b[0m\n\u001b[1;32m----> 1\u001b[1;33m \u001b[0mrestaurant_1\u001b[0m\u001b[1;33m=\u001b[0m\u001b[0mRestaurant\u001b[0m\u001b[1;33m(\u001b[0m\u001b[1;34m'https://www.zlatestranky.cz/profil/H2028609'\u001b[0m\u001b[1;33m)\u001b[0m\u001b[1;33m\u001b[0m\u001b[1;33m\u001b[0m\u001b[0m\n\u001b[0m\u001b[0;32m      2\u001b[0m \u001b[1;31m#H1778453\u001b[0m\u001b[1;33m\u001b[0m\u001b[1;33m\u001b[0m\u001b[0m\n\u001b[0;32m      3\u001b[0m \u001b[1;31m#H270008\u001b[0m\u001b[1;33m\u001b[0m\u001b[1;33m\u001b[0m\u001b[0m\n\u001b[0;32m      4\u001b[0m \u001b[1;31m#H952175 have opening hours but no email address\u001b[0m\u001b[1;33m\u001b[0m\u001b[1;33m\u001b[0m\u001b[0m\n\u001b[0;32m      5\u001b[0m \u001b[1;31m#H731735 no opening hours\u001b[0m\u001b[1;33m\u001b[0m\u001b[1;33m\u001b[0m\u001b[0m\n",
      "\u001b[1;32md:\\Dokumenty\\Vejška\\Magisterské studium\\Data Processing in Python\\Project\\JEM207-Final-project\\Restaurant.py\u001b[0m in \u001b[0;36m__init__\u001b[1;34m(self, link)\u001b[0m\n\u001b[0;32m    120\u001b[0m         \u001b[0mself\u001b[0m\u001b[1;33m.\u001b[0m\u001b[0mreview_count\u001b[0m\u001b[1;33m=\u001b[0m\u001b[0mself\u001b[0m\u001b[1;33m.\u001b[0m\u001b[0mgetReviewCount\u001b[0m\u001b[1;33m(\u001b[0m\u001b[0mself\u001b[0m\u001b[1;33m.\u001b[0m\u001b[0msoup\u001b[0m\u001b[1;33m)\u001b[0m\u001b[1;33m\u001b[0m\u001b[1;33m\u001b[0m\u001b[0m\n\u001b[0;32m    121\u001b[0m         \u001b[0mself\u001b[0m\u001b[1;33m.\u001b[0m\u001b[0mopening_hours\u001b[0m\u001b[1;33m=\u001b[0m\u001b[0mself\u001b[0m\u001b[1;33m.\u001b[0m\u001b[0mgetOpeningHours\u001b[0m\u001b[1;33m(\u001b[0m\u001b[0mself\u001b[0m\u001b[1;33m.\u001b[0m\u001b[0msoup\u001b[0m\u001b[1;33m)\u001b[0m\u001b[1;33m\u001b[0m\u001b[1;33m\u001b[0m\u001b[0m\n\u001b[1;32m--> 122\u001b[1;33m         \u001b[0mself\u001b[0m\u001b[1;33m.\u001b[0m\u001b[0mopening_hours_span\u001b[0m\u001b[1;33m=\u001b[0m\u001b[0mself\u001b[0m\u001b[1;33m.\u001b[0m\u001b[0mopeningHoursToSpan\u001b[0m\u001b[1;33m(\u001b[0m\u001b[0mself\u001b[0m\u001b[1;33m.\u001b[0m\u001b[0mopening_hours\u001b[0m\u001b[1;33m)\u001b[0m\u001b[1;33m\u001b[0m\u001b[1;33m\u001b[0m\u001b[0m\n\u001b[0m\u001b[0;32m    123\u001b[0m         \u001b[0mself\u001b[0m\u001b[1;33m.\u001b[0m\u001b[0memail_address\u001b[0m\u001b[1;33m=\u001b[0m\u001b[0mself\u001b[0m\u001b[1;33m.\u001b[0m\u001b[0mgetEmail\u001b[0m\u001b[1;33m(\u001b[0m\u001b[0mself\u001b[0m\u001b[1;33m.\u001b[0m\u001b[0msoup\u001b[0m\u001b[1;33m)\u001b[0m\u001b[1;33m\u001b[0m\u001b[1;33m\u001b[0m\u001b[0m\n\u001b[0;32m    124\u001b[0m         \u001b[0mself\u001b[0m\u001b[1;33m.\u001b[0m\u001b[0mphones\u001b[0m\u001b[1;33m=\u001b[0m\u001b[0mself\u001b[0m\u001b[1;33m.\u001b[0m\u001b[0mgetPhone\u001b[0m\u001b[1;33m(\u001b[0m\u001b[0mself\u001b[0m\u001b[1;33m.\u001b[0m\u001b[0msoup\u001b[0m\u001b[1;33m)\u001b[0m\u001b[1;33m\u001b[0m\u001b[1;33m\u001b[0m\u001b[0m\n",
      "\u001b[1;32md:\\Dokumenty\\Vejška\\Magisterské studium\\Data Processing in Python\\Project\\JEM207-Final-project\\Restaurant.py\u001b[0m in \u001b[0;36mopeningHoursToSpan\u001b[1;34m(self, opening_hours)\u001b[0m\n\u001b[0;32m    308\u001b[0m             \u001b[1;32mreturn\u001b[0m \u001b[0mspan_dict\u001b[0m\u001b[1;33m\u001b[0m\u001b[1;33m\u001b[0m\u001b[0m\n\u001b[0;32m    309\u001b[0m         \u001b[1;32melse\u001b[0m\u001b[1;33m:\u001b[0m\u001b[1;33m\u001b[0m\u001b[1;33m\u001b[0m\u001b[0m\n\u001b[1;32m--> 310\u001b[1;33m             \u001b[0mspan_dict\u001b[0m\u001b[1;33m=\u001b[0m\u001b[1;33m{\u001b[0m\u001b[0mkey\u001b[0m\u001b[1;33m:\u001b[0m\u001b[0mself\u001b[0m\u001b[1;33m.\u001b[0m\u001b[0mrangeToNumber\u001b[0m\u001b[1;33m(\u001b[0m\u001b[0mvalue\u001b[0m\u001b[1;33m)\u001b[0m \u001b[1;32mfor\u001b[0m \u001b[1;33m(\u001b[0m\u001b[0mkey\u001b[0m\u001b[1;33m,\u001b[0m\u001b[0mvalue\u001b[0m\u001b[1;33m)\u001b[0m \u001b[1;32min\u001b[0m \u001b[0mopening_hours\u001b[0m\u001b[1;33m.\u001b[0m\u001b[0mitems\u001b[0m\u001b[1;33m(\u001b[0m\u001b[1;33m)\u001b[0m\u001b[1;33m}\u001b[0m\u001b[1;33m\u001b[0m\u001b[1;33m\u001b[0m\u001b[0m\n\u001b[0m\u001b[0;32m    311\u001b[0m             \u001b[1;32mreturn\u001b[0m \u001b[0mspan_dict\u001b[0m\u001b[1;33m\u001b[0m\u001b[1;33m\u001b[0m\u001b[0m\n\u001b[0;32m    312\u001b[0m \u001b[1;33m\u001b[0m\u001b[0m\n",
      "\u001b[1;32md:\\Dokumenty\\Vejška\\Magisterské studium\\Data Processing in Python\\Project\\JEM207-Final-project\\Restaurant.py\u001b[0m in \u001b[0;36m<dictcomp>\u001b[1;34m(.0)\u001b[0m\n\u001b[0;32m    308\u001b[0m             \u001b[1;32mreturn\u001b[0m \u001b[0mspan_dict\u001b[0m\u001b[1;33m\u001b[0m\u001b[1;33m\u001b[0m\u001b[0m\n\u001b[0;32m    309\u001b[0m         \u001b[1;32melse\u001b[0m\u001b[1;33m:\u001b[0m\u001b[1;33m\u001b[0m\u001b[1;33m\u001b[0m\u001b[0m\n\u001b[1;32m--> 310\u001b[1;33m             \u001b[0mspan_dict\u001b[0m\u001b[1;33m=\u001b[0m\u001b[1;33m{\u001b[0m\u001b[0mkey\u001b[0m\u001b[1;33m:\u001b[0m\u001b[0mself\u001b[0m\u001b[1;33m.\u001b[0m\u001b[0mrangeToNumber\u001b[0m\u001b[1;33m(\u001b[0m\u001b[0mvalue\u001b[0m\u001b[1;33m)\u001b[0m \u001b[1;32mfor\u001b[0m \u001b[1;33m(\u001b[0m\u001b[0mkey\u001b[0m\u001b[1;33m,\u001b[0m\u001b[0mvalue\u001b[0m\u001b[1;33m)\u001b[0m \u001b[1;32min\u001b[0m \u001b[0mopening_hours\u001b[0m\u001b[1;33m.\u001b[0m\u001b[0mitems\u001b[0m\u001b[1;33m(\u001b[0m\u001b[1;33m)\u001b[0m\u001b[1;33m}\u001b[0m\u001b[1;33m\u001b[0m\u001b[1;33m\u001b[0m\u001b[0m\n\u001b[0m\u001b[0;32m    311\u001b[0m             \u001b[1;32mreturn\u001b[0m \u001b[0mspan_dict\u001b[0m\u001b[1;33m\u001b[0m\u001b[1;33m\u001b[0m\u001b[0m\n\u001b[0;32m    312\u001b[0m \u001b[1;33m\u001b[0m\u001b[0m\n",
      "\u001b[1;32md:\\Dokumenty\\Vejška\\Magisterské studium\\Data Processing in Python\\Project\\JEM207-Final-project\\Restaurant.py\u001b[0m in \u001b[0;36mrangeToNumber\u001b[1;34m(self, time_range)\u001b[0m\n\u001b[0;32m    280\u001b[0m             \u001b[0mA\u001b[0m \u001b[0mnumber\u001b[0m \u001b[0mrepresenting\u001b[0m \u001b[0mthe\u001b[0m \u001b[0mtime\u001b[0m \u001b[0mspan\u001b[0m \u001b[0mof\u001b[0m \u001b[0mthe\u001b[0m \u001b[0mgiven\u001b[0m \u001b[0mtime\u001b[0m \u001b[0mrange\u001b[0m\u001b[1;33m\u001b[0m\u001b[1;33m\u001b[0m\u001b[0m\n\u001b[0;32m    281\u001b[0m         \"\"\"\n\u001b[1;32m--> 282\u001b[1;33m         \u001b[0mhours\u001b[0m\u001b[1;33m=\u001b[0m\u001b[1;33m[\u001b[0m\u001b[0mtime_range\u001b[0m\u001b[1;33m.\u001b[0m\u001b[0msplit\u001b[0m\u001b[1;33m(\u001b[0m\u001b[1;33m)\u001b[0m\u001b[1;33m[\u001b[0m\u001b[0mi\u001b[0m\u001b[1;33m]\u001b[0m \u001b[1;32mfor\u001b[0m \u001b[0mi\u001b[0m \u001b[1;32min\u001b[0m \u001b[1;33m[\u001b[0m\u001b[1;36m0\u001b[0m\u001b[1;33m,\u001b[0m\u001b[1;36m2\u001b[0m\u001b[1;33m]\u001b[0m\u001b[1;33m]\u001b[0m \u001b[1;31m#splitting by space and disregarding \"-\"\u001b[0m\u001b[1;33m\u001b[0m\u001b[1;33m\u001b[0m\u001b[0m\n\u001b[0m\u001b[0;32m    283\u001b[0m         \u001b[0mstart_end\u001b[0m\u001b[1;33m=\u001b[0m\u001b[1;33m[\u001b[0m\u001b[1;33m]\u001b[0m \u001b[1;31m#empty list for converted starting and ending values\u001b[0m\u001b[1;33m\u001b[0m\u001b[1;33m\u001b[0m\u001b[0m\n\u001b[0;32m    284\u001b[0m         \u001b[1;32mfor\u001b[0m \u001b[0mi\u001b[0m \u001b[1;32min\u001b[0m \u001b[0mhours\u001b[0m\u001b[1;33m:\u001b[0m\u001b[1;33m\u001b[0m\u001b[1;33m\u001b[0m\u001b[0m\n",
      "\u001b[1;32md:\\Dokumenty\\Vejška\\Magisterské studium\\Data Processing in Python\\Project\\JEM207-Final-project\\Restaurant.py\u001b[0m in \u001b[0;36m<listcomp>\u001b[1;34m(.0)\u001b[0m\n\u001b[0;32m    280\u001b[0m             \u001b[0mA\u001b[0m \u001b[0mnumber\u001b[0m \u001b[0mrepresenting\u001b[0m \u001b[0mthe\u001b[0m \u001b[0mtime\u001b[0m \u001b[0mspan\u001b[0m \u001b[0mof\u001b[0m \u001b[0mthe\u001b[0m \u001b[0mgiven\u001b[0m \u001b[0mtime\u001b[0m \u001b[0mrange\u001b[0m\u001b[1;33m\u001b[0m\u001b[1;33m\u001b[0m\u001b[0m\n\u001b[0;32m    281\u001b[0m         \"\"\"\n\u001b[1;32m--> 282\u001b[1;33m         \u001b[0mhours\u001b[0m\u001b[1;33m=\u001b[0m\u001b[1;33m[\u001b[0m\u001b[0mtime_range\u001b[0m\u001b[1;33m.\u001b[0m\u001b[0msplit\u001b[0m\u001b[1;33m(\u001b[0m\u001b[1;33m)\u001b[0m\u001b[1;33m[\u001b[0m\u001b[0mi\u001b[0m\u001b[1;33m]\u001b[0m \u001b[1;32mfor\u001b[0m \u001b[0mi\u001b[0m \u001b[1;32min\u001b[0m \u001b[1;33m[\u001b[0m\u001b[1;36m0\u001b[0m\u001b[1;33m,\u001b[0m\u001b[1;36m2\u001b[0m\u001b[1;33m]\u001b[0m\u001b[1;33m]\u001b[0m \u001b[1;31m#splitting by space and disregarding \"-\"\u001b[0m\u001b[1;33m\u001b[0m\u001b[1;33m\u001b[0m\u001b[0m\n\u001b[0m\u001b[0;32m    283\u001b[0m         \u001b[0mstart_end\u001b[0m\u001b[1;33m=\u001b[0m\u001b[1;33m[\u001b[0m\u001b[1;33m]\u001b[0m \u001b[1;31m#empty list for converted starting and ending values\u001b[0m\u001b[1;33m\u001b[0m\u001b[1;33m\u001b[0m\u001b[0m\n\u001b[0;32m    284\u001b[0m         \u001b[1;32mfor\u001b[0m \u001b[0mi\u001b[0m \u001b[1;32min\u001b[0m \u001b[0mhours\u001b[0m\u001b[1;33m:\u001b[0m\u001b[1;33m\u001b[0m\u001b[1;33m\u001b[0m\u001b[0m\n",
      "\u001b[1;31mIndexError\u001b[0m: list index out of range"
     ]
    }
   ],
   "source": [
    "restaurant_1=Restaurant('https://www.zlatestranky.cz/profil/H2028609')\n",
    "#H1778453\n",
    "#H270008\n",
    "#H952175 have opening hours but no email address\n",
    "#H731735 no opening hours"
   ]
  },
  {
   "cell_type": "code",
   "execution_count": 15,
   "metadata": {},
   "outputs": [
    {
     "name": "stdout",
     "output_type": "stream",
     "text": [
      "1. MEXICKÁ RESTAURACE\n",
      "2 ratings,    89.0 stars\n",
      "{'Po': '11:30 - 23:59', 'Út': '11:30 - 23:59', 'St': '11:30 - 23:59', 'Čt': '11:30 - 23:59', 'Pá': '11:30 - 23:59', 'So': '11:30 - 23:59', 'Ne': '11:30 - 23:59'}\n",
      "{'Po': 12.48, 'Út': 12.48, 'St': 12.48, 'Čt': 12.48, 'Pá': 12.48, 'So': 12.48, 'Ne': 12.48}\n",
      "None\n",
      "{'hlavní telefon': '+420 257 317 173'}\n",
      "None\n",
      "Payment methods:    ['hotově']\n",
      "Services:   None\n",
      "Products:   None\n",
      "Marks:   None\n",
      "{'latitude': 50.08294, 'longitude': 14.40461}\n"
     ]
    }
   ],
   "source": [
    "print(restaurant_1.name)\n",
    "print(restaurant_1.review_count,\"ratings,   \", restaurant_1.ratings, \"stars\")\n",
    "print(restaurant_1.opening_hours)\n",
    "print(restaurant_1.opening_hours_span)\n",
    "print(restaurant_1.email_address)\n",
    "print(restaurant_1.phones)\n",
    "print(restaurant_1.web_page)\n",
    "print(\"Payment methods:   \", restaurant_1.payment_methods)\n",
    "print(\"Services:  \", restaurant_1.services)\n",
    "print(\"Products:  \", restaurant_1.products)\n",
    "print(\"Marks:  \", restaurant_1.marks)\n",
    "print(restaurant_1.coordinates)"
   ]
  },
  {
   "cell_type": "code",
   "execution_count": 16,
   "metadata": {},
   "outputs": [
    {
     "data": {
      "text/plain": [
       "{'Po': '11:30 - 23:59',\n",
       " 'Út': '11:30 - 23:59',\n",
       " 'St': '11:30 - 23:59',\n",
       " 'Čt': '11:30 - 23:59',\n",
       " 'Pá': '11:30 - 23:59',\n",
       " 'So': '11:30 - 23:59',\n",
       " 'Ne': '11:30 - 23:59'}"
      ]
     },
     "execution_count": 16,
     "metadata": {},
     "output_type": "execute_result"
    }
   ],
   "source": [
    "restaurant_1.getOpeningHours(restaurant_1.soup)"
   ]
  },
  {
   "cell_type": "code",
   "execution_count": 25,
   "metadata": {},
   "outputs": [
    {
     "data": {
      "text/plain": [
       "['https://www.zlatestranky.cz/profil/H270008',\n",
       " 'https://www.zlatestranky.cz/profil/H2052564',\n",
       " 'https://www.zlatestranky.cz/profil/H2028609',\n",
       " 'https://www.zlatestranky.cz/profil/H2056923',\n",
       " 'https://www.zlatestranky.cz/profil/H952175',\n",
       " 'https://www.zlatestranky.cz/profil/T1488202',\n",
       " 'https://www.zlatestranky.cz/profil/H731735',\n",
       " 'https://www.zlatestranky.cz/profil/T678796',\n",
       " 'https://www.zlatestranky.cz/profil/H217233',\n",
       " 'https://www.zlatestranky.cz/profil/H1909419',\n",
       " 'https://www.zlatestranky.cz/profil/H1477102',\n",
       " 'https://www.zlatestranky.cz/profil/T745675',\n",
       " 'https://www.zlatestranky.cz/profil/T2784508',\n",
       " 'https://www.zlatestranky.cz/profil/H1365763',\n",
       " 'https://www.zlatestranky.cz/profil/H1205046',\n",
       " 'https://www.zlatestranky.cz/profil/H826759',\n",
       " 'https://www.zlatestranky.cz/profil/H1587208',\n",
       " 'https://www.zlatestranky.cz/profil/H1908905',\n",
       " 'https://www.zlatestranky.cz/profil/H2052606',\n",
       " 'https://www.zlatestranky.cz/profil/H2054309',\n",
       " 'https://www.zlatestranky.cz/profil/H168141',\n",
       " 'https://www.zlatestranky.cz/profil/H771750',\n",
       " 'https://www.zlatestranky.cz/profil/H638903',\n",
       " 'https://www.zlatestranky.cz/profil/H1368972',\n",
       " 'https://www.zlatestranky.cz/profil/H2052616',\n",
       " 'https://www.zlatestranky.cz/profil/H1110070',\n",
       " 'https://www.zlatestranky.cz/profil/H565097',\n",
       " 'https://www.zlatestranky.cz/profil/H1391009',\n",
       " 'https://www.zlatestranky.cz/profil/H1777926',\n",
       " 'https://www.zlatestranky.cz/profil/H1912289',\n",
       " 'https://www.zlatestranky.cz/profil/H2054402',\n",
       " 'https://www.zlatestranky.cz/profil/H2047805',\n",
       " 'https://www.zlatestranky.cz/profil/H1963879',\n",
       " 'https://www.zlatestranky.cz/profil/H1209891',\n",
       " 'https://www.zlatestranky.cz/profil/H954458',\n",
       " 'https://www.zlatestranky.cz/profil/H237232',\n",
       " 'https://www.zlatestranky.cz/profil/H1656444',\n",
       " 'https://www.zlatestranky.cz/profil/T840746',\n",
       " 'https://www.zlatestranky.cz/profil/H2057412',\n",
       " 'https://www.zlatestranky.cz/profil/H119943',\n",
       " 'https://www.zlatestranky.cz/profil/H519404',\n",
       " 'https://www.zlatestranky.cz/profil/H1958697',\n",
       " 'https://www.zlatestranky.cz/profil/H1013118',\n",
       " 'https://www.zlatestranky.cz/profil/H585341',\n",
       " 'https://www.zlatestranky.cz/profil/H1220159',\n",
       " 'https://www.zlatestranky.cz/profil/H1912278',\n",
       " 'https://www.zlatestranky.cz/profil/H997959',\n",
       " 'https://www.zlatestranky.cz/profil/T1933521',\n",
       " 'https://www.zlatestranky.cz/profil/H104160',\n",
       " 'https://www.zlatestranky.cz/profil/H1160840',\n",
       " 'https://www.zlatestranky.cz/profil/T1639709',\n",
       " 'https://www.zlatestranky.cz/profil/H262691',\n",
       " 'https://www.zlatestranky.cz/profil/H1393875',\n",
       " 'https://www.zlatestranky.cz/profil/T1277366',\n",
       " 'https://www.zlatestranky.cz/profil/H2019293',\n",
       " 'https://www.zlatestranky.cz/profil/H1317240',\n",
       " 'https://www.zlatestranky.cz/profil/H1203724',\n",
       " 'https://www.zlatestranky.cz/profil/H905561',\n",
       " 'https://www.zlatestranky.cz/profil/H1588115',\n",
       " 'https://www.zlatestranky.cz/profil/H1911692',\n",
       " 'https://www.zlatestranky.cz/profil/H629332',\n",
       " 'https://www.zlatestranky.cz/profil/H1913174',\n",
       " 'https://www.zlatestranky.cz/profil/H827261',\n",
       " 'https://www.zlatestranky.cz/profil/H2057027',\n",
       " 'https://www.zlatestranky.cz/profil/H1040623',\n",
       " 'https://www.zlatestranky.cz/profil/H1958689',\n",
       " 'https://www.zlatestranky.cz/profil/H2038494',\n",
       " 'https://www.zlatestranky.cz/profil/H977608',\n",
       " 'https://www.zlatestranky.cz/profil/H2055657',\n",
       " 'https://www.zlatestranky.cz/profil/H561985',\n",
       " 'https://www.zlatestranky.cz/profil/H304603',\n",
       " 'https://www.zlatestranky.cz/profil/N8769',\n",
       " 'https://www.zlatestranky.cz/profil/H1963331',\n",
       " 'https://www.zlatestranky.cz/profil/H703849',\n",
       " 'https://www.zlatestranky.cz/profil/H447323',\n",
       " 'https://www.zlatestranky.cz/profil/H1109033',\n",
       " 'https://www.zlatestranky.cz/profil/H491418',\n",
       " 'https://www.zlatestranky.cz/profil/T687431',\n",
       " 'https://www.zlatestranky.cz/profil/H567110',\n",
       " 'https://www.zlatestranky.cz/profil/H1968906',\n",
       " 'https://www.zlatestranky.cz/profil/T1672992',\n",
       " 'https://www.zlatestranky.cz/profil/T780627',\n",
       " 'https://www.zlatestranky.cz/profil/H1749650',\n",
       " 'https://www.zlatestranky.cz/profil/H1078760',\n",
       " 'https://www.zlatestranky.cz/profil/H2060333',\n",
       " 'https://www.zlatestranky.cz/profil/H68408',\n",
       " 'https://www.zlatestranky.cz/profil/H1656982',\n",
       " 'https://www.zlatestranky.cz/profil/H1733569',\n",
       " 'https://www.zlatestranky.cz/profil/T826525',\n",
       " 'https://www.zlatestranky.cz/profil/T2760797',\n",
       " 'https://www.zlatestranky.cz/profil/H1441301',\n",
       " 'https://www.zlatestranky.cz/profil/H2058515',\n",
       " 'https://www.zlatestranky.cz/profil/N9102',\n",
       " 'https://www.zlatestranky.cz/profil/N9103',\n",
       " 'https://www.zlatestranky.cz/profil/H1482385',\n",
       " 'https://www.zlatestranky.cz/profil/H2058825',\n",
       " 'https://www.zlatestranky.cz/profil/H777181',\n",
       " 'https://www.zlatestranky.cz/profil/H568604',\n",
       " 'https://www.zlatestranky.cz/profil/H659009',\n",
       " 'https://www.zlatestranky.cz/profil/T1954927']"
      ]
     },
     "execution_count": 25,
     "metadata": {},
     "output_type": "execute_result"
    }
   ],
   "source": [
    "links_sample"
   ]
  },
  {
   "cell_type": "code",
   "execution_count": 24,
   "metadata": {},
   "outputs": [
    {
     "name": "stdout",
     "output_type": "stream",
     "text": [
      "Restaurant 1 : Repre restaurant\n",
      "0 ratings,    89.0 stars\n",
      "Restaurant 2 : Restaurace Nad Ledem\n",
      "1 ratings,    89.0 stars\n"
     ]
    },
    {
     "ename": "IndexError",
     "evalue": "list index out of range",
     "output_type": "error",
     "traceback": [
      "\u001b[1;31m---------------------------------------------------------------------------\u001b[0m",
      "\u001b[1;31mIndexError\u001b[0m                                Traceback (most recent call last)",
      "\u001b[1;32m~\\AppData\\Local\\Temp/ipykernel_5528/3867252464.py\u001b[0m in \u001b[0;36m<module>\u001b[1;34m\u001b[0m\n\u001b[0;32m      6\u001b[0m \u001b[0mn\u001b[0m \u001b[1;33m=\u001b[0m \u001b[1;36m1\u001b[0m\u001b[1;33m\u001b[0m\u001b[1;33m\u001b[0m\u001b[0m\n\u001b[0;32m      7\u001b[0m \u001b[1;32mfor\u001b[0m \u001b[0mi\u001b[0m \u001b[1;32min\u001b[0m \u001b[0mlinks_sample\u001b[0m\u001b[1;33m:\u001b[0m\u001b[1;33m\u001b[0m\u001b[1;33m\u001b[0m\u001b[0m\n\u001b[1;32m----> 8\u001b[1;33m     \u001b[0mrest\u001b[0m \u001b[1;33m=\u001b[0m \u001b[0mRestaurant\u001b[0m\u001b[1;33m(\u001b[0m\u001b[0mi\u001b[0m\u001b[1;33m)\u001b[0m\u001b[1;33m\u001b[0m\u001b[1;33m\u001b[0m\u001b[0m\n\u001b[0m\u001b[0;32m      9\u001b[0m     \u001b[0mprint\u001b[0m\u001b[1;33m(\u001b[0m\u001b[1;34m\"Restaurant\"\u001b[0m\u001b[1;33m,\u001b[0m \u001b[0mn\u001b[0m\u001b[1;33m,\u001b[0m \u001b[1;34m\":\"\u001b[0m\u001b[1;33m,\u001b[0m \u001b[0mrest\u001b[0m\u001b[1;33m.\u001b[0m\u001b[0mname\u001b[0m\u001b[1;33m)\u001b[0m\u001b[1;33m\u001b[0m\u001b[1;33m\u001b[0m\u001b[0m\n\u001b[0;32m     10\u001b[0m     \u001b[0mprint\u001b[0m\u001b[1;33m(\u001b[0m\u001b[0mrest\u001b[0m\u001b[1;33m.\u001b[0m\u001b[0mreview_count\u001b[0m\u001b[1;33m,\u001b[0m\u001b[1;34m\"ratings,   \"\u001b[0m\u001b[1;33m,\u001b[0m \u001b[0mrestaurant_1\u001b[0m\u001b[1;33m.\u001b[0m\u001b[0mratings\u001b[0m\u001b[1;33m,\u001b[0m \u001b[1;34m\"stars\"\u001b[0m\u001b[1;33m)\u001b[0m\u001b[1;33m\u001b[0m\u001b[1;33m\u001b[0m\u001b[0m\n",
      "\u001b[1;32md:\\Dokumenty\\Vejška\\Magisterské studium\\Data Processing in Python\\Project\\JEM207-Final-project\\Restaurant.py\u001b[0m in \u001b[0;36m__init__\u001b[1;34m(self, link)\u001b[0m\n\u001b[0;32m    120\u001b[0m         \u001b[0mself\u001b[0m\u001b[1;33m.\u001b[0m\u001b[0mreview_count\u001b[0m\u001b[1;33m=\u001b[0m\u001b[0mself\u001b[0m\u001b[1;33m.\u001b[0m\u001b[0mgetReviewCount\u001b[0m\u001b[1;33m(\u001b[0m\u001b[0mself\u001b[0m\u001b[1;33m.\u001b[0m\u001b[0msoup\u001b[0m\u001b[1;33m)\u001b[0m\u001b[1;33m\u001b[0m\u001b[1;33m\u001b[0m\u001b[0m\n\u001b[0;32m    121\u001b[0m         \u001b[0mself\u001b[0m\u001b[1;33m.\u001b[0m\u001b[0mopening_hours\u001b[0m\u001b[1;33m=\u001b[0m\u001b[0mself\u001b[0m\u001b[1;33m.\u001b[0m\u001b[0mgetOpeningHours\u001b[0m\u001b[1;33m(\u001b[0m\u001b[0mself\u001b[0m\u001b[1;33m.\u001b[0m\u001b[0msoup\u001b[0m\u001b[1;33m)\u001b[0m\u001b[1;33m\u001b[0m\u001b[1;33m\u001b[0m\u001b[0m\n\u001b[1;32m--> 122\u001b[1;33m         \u001b[0mself\u001b[0m\u001b[1;33m.\u001b[0m\u001b[0mopening_hours_span\u001b[0m\u001b[1;33m=\u001b[0m\u001b[0mself\u001b[0m\u001b[1;33m.\u001b[0m\u001b[0mopeningHoursToSpan\u001b[0m\u001b[1;33m(\u001b[0m\u001b[0mself\u001b[0m\u001b[1;33m.\u001b[0m\u001b[0mopening_hours\u001b[0m\u001b[1;33m)\u001b[0m\u001b[1;33m\u001b[0m\u001b[1;33m\u001b[0m\u001b[0m\n\u001b[0m\u001b[0;32m    123\u001b[0m         \u001b[0mself\u001b[0m\u001b[1;33m.\u001b[0m\u001b[0memail_address\u001b[0m\u001b[1;33m=\u001b[0m\u001b[0mself\u001b[0m\u001b[1;33m.\u001b[0m\u001b[0mgetEmail\u001b[0m\u001b[1;33m(\u001b[0m\u001b[0mself\u001b[0m\u001b[1;33m.\u001b[0m\u001b[0msoup\u001b[0m\u001b[1;33m)\u001b[0m\u001b[1;33m\u001b[0m\u001b[1;33m\u001b[0m\u001b[0m\n\u001b[0;32m    124\u001b[0m         \u001b[0mself\u001b[0m\u001b[1;33m.\u001b[0m\u001b[0mphones\u001b[0m\u001b[1;33m=\u001b[0m\u001b[0mself\u001b[0m\u001b[1;33m.\u001b[0m\u001b[0mgetPhone\u001b[0m\u001b[1;33m(\u001b[0m\u001b[0mself\u001b[0m\u001b[1;33m.\u001b[0m\u001b[0msoup\u001b[0m\u001b[1;33m)\u001b[0m\u001b[1;33m\u001b[0m\u001b[1;33m\u001b[0m\u001b[0m\n",
      "\u001b[1;32md:\\Dokumenty\\Vejška\\Magisterské studium\\Data Processing in Python\\Project\\JEM207-Final-project\\Restaurant.py\u001b[0m in \u001b[0;36mopeningHoursToSpan\u001b[1;34m(self, opening_hours)\u001b[0m\n\u001b[0;32m    308\u001b[0m             \u001b[1;32mreturn\u001b[0m \u001b[0mspan_dict\u001b[0m\u001b[1;33m\u001b[0m\u001b[1;33m\u001b[0m\u001b[0m\n\u001b[0;32m    309\u001b[0m         \u001b[1;32melse\u001b[0m\u001b[1;33m:\u001b[0m\u001b[1;33m\u001b[0m\u001b[1;33m\u001b[0m\u001b[0m\n\u001b[1;32m--> 310\u001b[1;33m             \u001b[0mspan_dict\u001b[0m\u001b[1;33m=\u001b[0m\u001b[1;33m{\u001b[0m\u001b[0mkey\u001b[0m\u001b[1;33m:\u001b[0m\u001b[0mself\u001b[0m\u001b[1;33m.\u001b[0m\u001b[0mrangeToNumber\u001b[0m\u001b[1;33m(\u001b[0m\u001b[0mvalue\u001b[0m\u001b[1;33m)\u001b[0m \u001b[1;32mfor\u001b[0m \u001b[1;33m(\u001b[0m\u001b[0mkey\u001b[0m\u001b[1;33m,\u001b[0m\u001b[0mvalue\u001b[0m\u001b[1;33m)\u001b[0m \u001b[1;32min\u001b[0m \u001b[0mopening_hours\u001b[0m\u001b[1;33m.\u001b[0m\u001b[0mitems\u001b[0m\u001b[1;33m(\u001b[0m\u001b[1;33m)\u001b[0m\u001b[1;33m}\u001b[0m\u001b[1;33m\u001b[0m\u001b[1;33m\u001b[0m\u001b[0m\n\u001b[0m\u001b[0;32m    311\u001b[0m             \u001b[1;32mreturn\u001b[0m \u001b[0mspan_dict\u001b[0m\u001b[1;33m\u001b[0m\u001b[1;33m\u001b[0m\u001b[0m\n\u001b[0;32m    312\u001b[0m \u001b[1;33m\u001b[0m\u001b[0m\n",
      "\u001b[1;32md:\\Dokumenty\\Vejška\\Magisterské studium\\Data Processing in Python\\Project\\JEM207-Final-project\\Restaurant.py\u001b[0m in \u001b[0;36m<dictcomp>\u001b[1;34m(.0)\u001b[0m\n\u001b[0;32m    308\u001b[0m             \u001b[1;32mreturn\u001b[0m \u001b[0mspan_dict\u001b[0m\u001b[1;33m\u001b[0m\u001b[1;33m\u001b[0m\u001b[0m\n\u001b[0;32m    309\u001b[0m         \u001b[1;32melse\u001b[0m\u001b[1;33m:\u001b[0m\u001b[1;33m\u001b[0m\u001b[1;33m\u001b[0m\u001b[0m\n\u001b[1;32m--> 310\u001b[1;33m             \u001b[0mspan_dict\u001b[0m\u001b[1;33m=\u001b[0m\u001b[1;33m{\u001b[0m\u001b[0mkey\u001b[0m\u001b[1;33m:\u001b[0m\u001b[0mself\u001b[0m\u001b[1;33m.\u001b[0m\u001b[0mrangeToNumber\u001b[0m\u001b[1;33m(\u001b[0m\u001b[0mvalue\u001b[0m\u001b[1;33m)\u001b[0m \u001b[1;32mfor\u001b[0m \u001b[1;33m(\u001b[0m\u001b[0mkey\u001b[0m\u001b[1;33m,\u001b[0m\u001b[0mvalue\u001b[0m\u001b[1;33m)\u001b[0m \u001b[1;32min\u001b[0m \u001b[0mopening_hours\u001b[0m\u001b[1;33m.\u001b[0m\u001b[0mitems\u001b[0m\u001b[1;33m(\u001b[0m\u001b[1;33m)\u001b[0m\u001b[1;33m}\u001b[0m\u001b[1;33m\u001b[0m\u001b[1;33m\u001b[0m\u001b[0m\n\u001b[0m\u001b[0;32m    311\u001b[0m             \u001b[1;32mreturn\u001b[0m \u001b[0mspan_dict\u001b[0m\u001b[1;33m\u001b[0m\u001b[1;33m\u001b[0m\u001b[0m\n\u001b[0;32m    312\u001b[0m \u001b[1;33m\u001b[0m\u001b[0m\n",
      "\u001b[1;32md:\\Dokumenty\\Vejška\\Magisterské studium\\Data Processing in Python\\Project\\JEM207-Final-project\\Restaurant.py\u001b[0m in \u001b[0;36mrangeToNumber\u001b[1;34m(self, time_range)\u001b[0m\n\u001b[0;32m    280\u001b[0m             \u001b[0mA\u001b[0m \u001b[0mnumber\u001b[0m \u001b[0mrepresenting\u001b[0m \u001b[0mthe\u001b[0m \u001b[0mtime\u001b[0m \u001b[0mspan\u001b[0m \u001b[0mof\u001b[0m \u001b[0mthe\u001b[0m \u001b[0mgiven\u001b[0m \u001b[0mtime\u001b[0m \u001b[0mrange\u001b[0m\u001b[1;33m\u001b[0m\u001b[1;33m\u001b[0m\u001b[0m\n\u001b[0;32m    281\u001b[0m         \"\"\"\n\u001b[1;32m--> 282\u001b[1;33m         \u001b[0mhours\u001b[0m\u001b[1;33m=\u001b[0m\u001b[1;33m[\u001b[0m\u001b[0mtime_range\u001b[0m\u001b[1;33m.\u001b[0m\u001b[0msplit\u001b[0m\u001b[1;33m(\u001b[0m\u001b[1;33m)\u001b[0m\u001b[1;33m[\u001b[0m\u001b[0mi\u001b[0m\u001b[1;33m]\u001b[0m \u001b[1;32mfor\u001b[0m \u001b[0mi\u001b[0m \u001b[1;32min\u001b[0m \u001b[1;33m[\u001b[0m\u001b[1;36m0\u001b[0m\u001b[1;33m,\u001b[0m\u001b[1;36m2\u001b[0m\u001b[1;33m]\u001b[0m\u001b[1;33m]\u001b[0m \u001b[1;31m#splitting by space and disregarding \"-\"\u001b[0m\u001b[1;33m\u001b[0m\u001b[1;33m\u001b[0m\u001b[0m\n\u001b[0m\u001b[0;32m    283\u001b[0m         \u001b[0mstart_end\u001b[0m\u001b[1;33m=\u001b[0m\u001b[1;33m[\u001b[0m\u001b[1;33m]\u001b[0m \u001b[1;31m#empty list for converted starting and ending values\u001b[0m\u001b[1;33m\u001b[0m\u001b[1;33m\u001b[0m\u001b[0m\n\u001b[0;32m    284\u001b[0m         \u001b[1;32mfor\u001b[0m \u001b[0mi\u001b[0m \u001b[1;32min\u001b[0m \u001b[0mhours\u001b[0m\u001b[1;33m:\u001b[0m\u001b[1;33m\u001b[0m\u001b[1;33m\u001b[0m\u001b[0m\n",
      "\u001b[1;32md:\\Dokumenty\\Vejška\\Magisterské studium\\Data Processing in Python\\Project\\JEM207-Final-project\\Restaurant.py\u001b[0m in \u001b[0;36m<listcomp>\u001b[1;34m(.0)\u001b[0m\n\u001b[0;32m    280\u001b[0m             \u001b[0mA\u001b[0m \u001b[0mnumber\u001b[0m \u001b[0mrepresenting\u001b[0m \u001b[0mthe\u001b[0m \u001b[0mtime\u001b[0m \u001b[0mspan\u001b[0m \u001b[0mof\u001b[0m \u001b[0mthe\u001b[0m \u001b[0mgiven\u001b[0m \u001b[0mtime\u001b[0m \u001b[0mrange\u001b[0m\u001b[1;33m\u001b[0m\u001b[1;33m\u001b[0m\u001b[0m\n\u001b[0;32m    281\u001b[0m         \"\"\"\n\u001b[1;32m--> 282\u001b[1;33m         \u001b[0mhours\u001b[0m\u001b[1;33m=\u001b[0m\u001b[1;33m[\u001b[0m\u001b[0mtime_range\u001b[0m\u001b[1;33m.\u001b[0m\u001b[0msplit\u001b[0m\u001b[1;33m(\u001b[0m\u001b[1;33m)\u001b[0m\u001b[1;33m[\u001b[0m\u001b[0mi\u001b[0m\u001b[1;33m]\u001b[0m \u001b[1;32mfor\u001b[0m \u001b[0mi\u001b[0m \u001b[1;32min\u001b[0m \u001b[1;33m[\u001b[0m\u001b[1;36m0\u001b[0m\u001b[1;33m,\u001b[0m\u001b[1;36m2\u001b[0m\u001b[1;33m]\u001b[0m\u001b[1;33m]\u001b[0m \u001b[1;31m#splitting by space and disregarding \"-\"\u001b[0m\u001b[1;33m\u001b[0m\u001b[1;33m\u001b[0m\u001b[0m\n\u001b[0m\u001b[0;32m    283\u001b[0m         \u001b[0mstart_end\u001b[0m\u001b[1;33m=\u001b[0m\u001b[1;33m[\u001b[0m\u001b[1;33m]\u001b[0m \u001b[1;31m#empty list for converted starting and ending values\u001b[0m\u001b[1;33m\u001b[0m\u001b[1;33m\u001b[0m\u001b[0m\n\u001b[0;32m    284\u001b[0m         \u001b[1;32mfor\u001b[0m \u001b[0mi\u001b[0m \u001b[1;32min\u001b[0m \u001b[0mhours\u001b[0m\u001b[1;33m:\u001b[0m\u001b[1;33m\u001b[0m\u001b[1;33m\u001b[0m\u001b[0m\n",
      "\u001b[1;31mIndexError\u001b[0m: list index out of range"
     ]
    }
   ],
   "source": [
    "###Tyring to call Restaurant on larget nimber of links\n",
    "\n",
    "len(links_hopefully.links)\n",
    "\n",
    "links_sample = links_hopefully.links[:100]\n",
    "n = 1\n",
    "for i in links_sample:\n",
    "    rest = Restaurant(i)\n",
    "    print(\"Restaurant\", n, \":\", rest.name)\n",
    "    print(rest.review_count,\"ratings,   \", restaurant_1.ratings, \"stars\")   \n",
    "    n += 1\n"
   ]
  }
 ],
 "metadata": {
  "interpreter": {
   "hash": "1f2e975888e86c326e42558cd0245e721b17a19f2abd9ef3d2679d2ce5d88c35"
  },
  "kernelspec": {
   "display_name": "Python 3.9.7 64-bit ('my_env': conda)",
   "language": "python",
   "name": "python3"
  },
  "language_info": {
   "codemirror_mode": {
    "name": "ipython",
    "version": 3
   },
   "file_extension": ".py",
   "mimetype": "text/x-python",
   "name": "python",
   "nbconvert_exporter": "python",
   "pygments_lexer": "ipython3",
   "version": "3.9.7"
  },
  "orig_nbformat": 4
 },
 "nbformat": 4,
 "nbformat_minor": 2
}
