{
 "cells": [
  {
   "cell_type": "code",
   "execution_count": 1,
   "metadata": {},
   "outputs": [],
   "source": [
    "from LinkGetter import LinkGetter"
   ]
  },
  {
   "cell_type": "code",
   "execution_count": 2,
   "metadata": {},
   "outputs": [
    {
     "name": "stdout",
     "output_type": "stream",
     "text": [
      "Successfuly requested 22 pages\n"
     ]
    }
   ],
   "source": [
    "links_hopefully=LinkGetter()"
   ]
  },
  {
   "cell_type": "code",
   "execution_count": 3,
   "metadata": {},
   "outputs": [
    {
     "name": "stdout",
     "output_type": "stream",
     "text": [
      "['https://www.zlatestranky.cz/profil/H270008', 'https://www.zlatestranky.cz/profil/H2052564', 'https://www.zlatestranky.cz/profil/H2028609', 'https://www.zlatestranky.cz/profil/H2056923', 'https://www.zlatestranky.cz/profil/H952175', 'https://www.zlatestranky.cz/profil/T1488202', 'https://www.zlatestranky.cz/profil/H731735', 'https://www.zlatestranky.cz/profil/T678796', 'https://www.zlatestranky.cz/profil/H217233', 'https://www.zlatestranky.cz/profil/H1909419']\n"
     ]
    }
   ],
   "source": [
    "print(links_hopefully.links[:10])"
   ]
  },
  {
   "cell_type": "code",
   "execution_count": 4,
   "metadata": {},
   "outputs": [],
   "source": [
    "from Restaurant import Restaurant"
   ]
  },
  {
   "cell_type": "code",
   "execution_count": 5,
   "metadata": {},
   "outputs": [],
   "source": [
    "restaurant_1=Restaurant('https://www.zlatestranky.cz/profil/H2056923')\n",
    "#H1778453\n",
    "#H270008\n",
    "#H952175 have opening hours but no email address\n",
    "#H731735 no opening hours\n",
    "#H2028609 'zavřeno' error\n",
    "#H2056923 HOOTERS error"
   ]
  },
  {
   "cell_type": "code",
   "execution_count": 6,
   "metadata": {},
   "outputs": [
    {
     "name": "stdout",
     "output_type": "stream",
     "text": [
      "Restaurace HOOTERS Vodičkova\n",
      "0 ratings,    0.0 stars\n",
      "{'Po': '11 - 23', 'Út': '11 - 23', 'St': '11 - 23', 'Čt': '11 - 23:59', 'Pá': ['0 - 1', '11 - 23:59'], 'So': ['0 - 1', '11 - 23:59'], 'Ne': ['0 - 1', '11 - 23']}\n",
      "{'Po': 12.0, 'Út': 12.0, 'St': 12.0, 'Čt': 12.98, 'Pá': 13.98, 'So': 13.98, 'Ne': 13.0}\n",
      "vodickova@hooters.cz\n",
      "{'Rezervace': '+420 602 799 222'}\n",
      "http://hooters.cz/cz/vodickova?utm_source=Mext&utm_campaign=Svoboda&utm_medium=online-portaly\n",
      "Payment methods:    ['American Express', 'VISA', 'hotově', 'faktura', 'SODEXO', 'MASTERCARD']\n",
      "Services:   ['restaurace', 'sportovní přenosy', 'rozlučky se svobodou', 'narozeniny', 'firemní eventy', 'catering', 'hostesky']\n",
      "Products:   ['předkrmy', 'polévky', 'quesadillas', 'burgery', 'přílohy', 'dezerty', 'místní speciality', 'světově proslulá kuřecí křídla', 'mořské plody', 'čerstvé saláty', 'sendviče', 'koktejly']\n",
      "Marks:   ['HOOTERS', 'Pilsner Urquell', 'Coca Cola']\n",
      "{'latitude': 50.078701, 'longitude': 14.421425}\n"
     ]
    }
   ],
   "source": [
    "print(restaurant_1.name)\n",
    "print(restaurant_1.review_count,\"ratings,   \", restaurant_1.ratings, \"stars\")\n",
    "print(restaurant_1.opening_hours)\n",
    "print(restaurant_1.opening_hours_span)\n",
    "print(restaurant_1.email_address)\n",
    "print(restaurant_1.phones)\n",
    "print(restaurant_1.web_page)\n",
    "print(\"Payment methods:   \", restaurant_1.payment_methods)\n",
    "print(\"Services:  \", restaurant_1.services)\n",
    "print(\"Products:  \", restaurant_1.products)\n",
    "print(\"Marks:  \", restaurant_1.marks)\n",
    "print(restaurant_1.coordinates)"
   ]
  },
  {
   "cell_type": "code",
   "execution_count": 7,
   "metadata": {},
   "outputs": [
    {
     "data": {
      "text/plain": [
       "{'Po': '11 - 23',\n",
       " 'Út': '11 - 23',\n",
       " 'St': '11 - 23',\n",
       " 'Čt': '11 - 23:59',\n",
       " 'Pá': ['0 - 1', '11 - 23:59'],\n",
       " 'So': ['0 - 1', '11 - 23:59'],\n",
       " 'Ne': ['0 - 1', '11 - 23']}"
      ]
     },
     "execution_count": 7,
     "metadata": {},
     "output_type": "execute_result"
    }
   ],
   "source": [
    "restaurant_1.getOpeningHours(restaurant_1.soup)"
   ]
  },
  {
   "cell_type": "code",
   "execution_count": 8,
   "metadata": {},
   "outputs": [
    {
     "name": "stdout",
     "output_type": "stream",
     "text": [
      "2192\n"
     ]
    },
    {
     "data": {
      "text/plain": [
       "100"
      ]
     },
     "execution_count": 8,
     "metadata": {},
     "output_type": "execute_result"
    }
   ],
   "source": [
    "###Tyring to call Restaurant on larger number of links\n",
    "print(len(links_hopefully.links))\n",
    "links_sample = links_hopefully.links[:100]\n",
    "len(links_sample)\n"
   ]
  },
  {
   "cell_type": "code",
   "execution_count": 9,
   "metadata": {},
   "outputs": [
    {
     "name": "stdout",
     "output_type": "stream",
     "text": [
      "Restaurant 1 : Repre restaurant\n",
      "0 ratings,    0.0 stars\n",
      "{'Po': 12.5, 'Út': 12.5, 'St': 12.5, 'Čt': 12.5, 'Pá': 12.5, 'So': 11.0, 'Ne': None}\n",
      "Restaurant 2 : Restaurace Nad Ledem\n",
      "1 ratings,    0.0 stars\n",
      "{'Po': 13.0, 'Út': 13.0, 'St': 13.0, 'Čt': 13.0, 'Pá': 13.0, 'So': 13.0, 'Ne': 13.0}\n",
      "Restaurant 3 : SRI LANKAN CURRY HOUSE\n",
      "1 ratings,    0.0 stars\n",
      "{'Po': 11.0, 'Út': 11.0, 'St': 11.0, 'Čt': 11.0, 'Pá': 11.0, 'So': 11.0, 'Ne': None}\n",
      "Restaurant 4 : Restaurace HOOTERS Vodičkova\n",
      "0 ratings,    0.0 stars\n",
      "{'Po': 12.0, 'Út': 12.0, 'St': 12.0, 'Čt': 12.98, 'Pá': 13.98, 'So': 13.98, 'Ne': 13.0}\n",
      "Restaurant 5 : 1. MEXICKÁ RESTAURACE\n",
      "2 ratings,    0.0 stars\n",
      "{'Po': 12.48, 'Út': 12.48, 'St': 12.48, 'Čt': 12.48, 'Pá': 12.48, 'So': 12.48, 'Ne': 12.48}\n",
      "Restaurant 6 : A.H.W. a.s.\n",
      "0 ratings,    0.0 stars\n",
      "None\n",
      "Restaurant 7 : Abri s.r.o.\n",
      "0 ratings,    0.0 stars\n",
      "None\n",
      "Restaurant 8 : ABSOLUT s.r.o.\n",
      "0 ratings,    0.0 stars\n",
      "None\n",
      "Restaurant 9 : ADAMOVÁ IVA\n",
      "0 ratings,    0.0 stars\n",
      "None\n",
      "Restaurant 10 : Adeta Service, s.r.o.\n",
      "0 ratings,    0.0 stars\n",
      "None\n",
      "Restaurant 11 : Adiscon Kampa s.r.o.\n",
      "0 ratings,    0.0 stars\n",
      "None\n",
      "Restaurant 12 : ADMIRÁL - RESTAURACE\n",
      "0 ratings,    0.0 stars\n",
      "None\n",
      "Restaurant 13 : Aftermath, s.r.o.\n",
      "0 ratings,    0.0 stars\n",
      "None\n",
      "Restaurant 14 : AGIOS s.r.o.\n",
      "0 ratings,    0.0 stars\n",
      "None\n",
      "Restaurant 15 : AGUATERRA s.r.o.\n",
      "0 ratings,    0.0 stars\n",
      "None\n",
      "Restaurant 16 : AIKYO FOODS CZECH\n",
      "0 ratings,    0.0 stars\n",
      "None\n",
      "Restaurant 17 : Air Pizza, s.r.o.\n",
      "0 ratings,    0.0 stars\n",
      "{'Po': 12.0, 'Út': 12.0, 'St': 12.0, 'Čt': 12.0, 'Pá': 12.0, 'So': 10.5, 'Ne': 10.5}\n",
      "Restaurant 18 : Aishel, s.r.o.\n",
      "0 ratings,    0.0 stars\n",
      "None\n",
      "Restaurant 19 : Al Karim\n",
      "0 ratings,    0.0 stars\n",
      "{'Po': 9.0, 'Út': 9.0, 'St': 9.0, 'Čt': 9.0, 'Pá': 9.0, 'So': 9.0, 'Ne': 9.0}\n",
      "Restaurant 20 : Al-Mare Těšnov s. r. o.\n",
      "0 ratings,    0.0 stars\n",
      "{'Po': 12.0, 'Út': 12.0, 'St': 12.0, 'Čt': 12.0, 'Pá': 12.0, 'So': 12.0, 'Ne': 12.0}\n",
      "Restaurant 21 : ALBIO\n",
      "0 ratings,    0.0 stars\n",
      "None\n",
      "Restaurant 22 : ALDEN\n",
      "0 ratings,    0.0 stars\n",
      "None\n",
      "Restaurant 23 : ALDENTE TRATTORIA ITALIANA\n",
      "0 ratings,    0.0 stars\n",
      "None\n"
     ]
    },
    {
     "ename": "AttributeError",
     "evalue": "'NoneType' object has no attribute 'group'",
     "output_type": "error",
     "traceback": [
      "\u001b[1;31m---------------------------------------------------------------------------\u001b[0m",
      "\u001b[1;31mAttributeError\u001b[0m                            Traceback (most recent call last)",
      "\u001b[1;32m~\\AppData\\Local\\Temp/ipykernel_12212/4258259072.py\u001b[0m in \u001b[0;36m<module>\u001b[1;34m\u001b[0m\n\u001b[0;32m      1\u001b[0m \u001b[0mn\u001b[0m \u001b[1;33m=\u001b[0m \u001b[1;36m1\u001b[0m\u001b[1;33m\u001b[0m\u001b[1;33m\u001b[0m\u001b[0m\n\u001b[0;32m      2\u001b[0m \u001b[1;32mfor\u001b[0m \u001b[0mi\u001b[0m \u001b[1;32min\u001b[0m \u001b[0mlinks_sample\u001b[0m\u001b[1;33m:\u001b[0m\u001b[1;33m\u001b[0m\u001b[1;33m\u001b[0m\u001b[0m\n\u001b[1;32m----> 3\u001b[1;33m     \u001b[0mrest\u001b[0m \u001b[1;33m=\u001b[0m \u001b[0mRestaurant\u001b[0m\u001b[1;33m(\u001b[0m\u001b[0mi\u001b[0m\u001b[1;33m)\u001b[0m\u001b[1;33m\u001b[0m\u001b[1;33m\u001b[0m\u001b[0m\n\u001b[0m\u001b[0;32m      4\u001b[0m     \u001b[0mprint\u001b[0m\u001b[1;33m(\u001b[0m\u001b[1;34m\"Restaurant\"\u001b[0m\u001b[1;33m,\u001b[0m \u001b[0mn\u001b[0m\u001b[1;33m,\u001b[0m \u001b[1;34m\":\"\u001b[0m\u001b[1;33m,\u001b[0m \u001b[0mrest\u001b[0m\u001b[1;33m.\u001b[0m\u001b[0mname\u001b[0m\u001b[1;33m)\u001b[0m\u001b[1;33m\u001b[0m\u001b[1;33m\u001b[0m\u001b[0m\n\u001b[0;32m      5\u001b[0m     \u001b[0mprint\u001b[0m\u001b[1;33m(\u001b[0m\u001b[0mrest\u001b[0m\u001b[1;33m.\u001b[0m\u001b[0mreview_count\u001b[0m\u001b[1;33m,\u001b[0m\u001b[1;34m\"ratings,   \"\u001b[0m\u001b[1;33m,\u001b[0m \u001b[0mrestaurant_1\u001b[0m\u001b[1;33m.\u001b[0m\u001b[0mratings\u001b[0m\u001b[1;33m,\u001b[0m \u001b[1;34m\"stars\"\u001b[0m\u001b[1;33m)\u001b[0m\u001b[1;33m\u001b[0m\u001b[1;33m\u001b[0m\u001b[0m\n",
      "\u001b[1;32md:\\Dokumenty\\Vejška\\Magisterské studium\\Data Processing in Python\\Project\\JEM207-Final-project\\Restaurant.py\u001b[0m in \u001b[0;36m__init__\u001b[1;34m(self, link)\u001b[0m\n\u001b[0;32m    116\u001b[0m         \u001b[0mself\u001b[0m\u001b[1;33m.\u001b[0m\u001b[0msoup\u001b[0m\u001b[1;33m=\u001b[0m\u001b[0mself\u001b[0m\u001b[1;33m.\u001b[0m\u001b[0mgetSoup\u001b[0m\u001b[1;33m(\u001b[0m\u001b[0mlink\u001b[0m\u001b[1;33m)\u001b[0m\u001b[1;33m\u001b[0m\u001b[1;33m\u001b[0m\u001b[0m\n\u001b[0;32m    117\u001b[0m         \u001b[0mself\u001b[0m\u001b[1;33m.\u001b[0m\u001b[0mname\u001b[0m\u001b[1;33m=\u001b[0m\u001b[0mself\u001b[0m\u001b[1;33m.\u001b[0m\u001b[0mgetName\u001b[0m\u001b[1;33m(\u001b[0m\u001b[0mself\u001b[0m\u001b[1;33m.\u001b[0m\u001b[0msoup\u001b[0m\u001b[1;33m)\u001b[0m\u001b[1;33m\u001b[0m\u001b[1;33m\u001b[0m\u001b[0m\n\u001b[1;32m--> 118\u001b[1;33m         \u001b[0mself\u001b[0m\u001b[1;33m.\u001b[0m\u001b[0mdistrict\u001b[0m\u001b[1;33m=\u001b[0m\u001b[0mself\u001b[0m\u001b[1;33m.\u001b[0m\u001b[0mgetDistrict\u001b[0m\u001b[1;33m(\u001b[0m\u001b[0mself\u001b[0m\u001b[1;33m.\u001b[0m\u001b[0msoup\u001b[0m\u001b[1;33m)\u001b[0m\u001b[1;33m\u001b[0m\u001b[1;33m\u001b[0m\u001b[0m\n\u001b[0m\u001b[0;32m    119\u001b[0m         \u001b[0mself\u001b[0m\u001b[1;33m.\u001b[0m\u001b[0mratings\u001b[0m\u001b[1;33m=\u001b[0m\u001b[0mself\u001b[0m\u001b[1;33m.\u001b[0m\u001b[0mgetRatings\u001b[0m\u001b[1;33m(\u001b[0m\u001b[0mself\u001b[0m\u001b[1;33m.\u001b[0m\u001b[0msoup\u001b[0m\u001b[1;33m)\u001b[0m\u001b[1;33m\u001b[0m\u001b[1;33m\u001b[0m\u001b[0m\n\u001b[0;32m    120\u001b[0m         \u001b[0mself\u001b[0m\u001b[1;33m.\u001b[0m\u001b[0mreview_count\u001b[0m\u001b[1;33m=\u001b[0m\u001b[0mself\u001b[0m\u001b[1;33m.\u001b[0m\u001b[0mgetReviewCount\u001b[0m\u001b[1;33m(\u001b[0m\u001b[0mself\u001b[0m\u001b[1;33m.\u001b[0m\u001b[0msoup\u001b[0m\u001b[1;33m)\u001b[0m\u001b[1;33m\u001b[0m\u001b[1;33m\u001b[0m\u001b[0m\n",
      "\u001b[1;32md:\\Dokumenty\\Vejška\\Magisterské studium\\Data Processing in Python\\Project\\JEM207-Final-project\\Restaurant.py\u001b[0m in \u001b[0;36mgetDistrict\u001b[1;34m(self, soup)\u001b[0m\n\u001b[0;32m    191\u001b[0m         \u001b[1;32melse\u001b[0m\u001b[1;33m:\u001b[0m\u001b[1;33m\u001b[0m\u001b[1;33m\u001b[0m\u001b[0m\n\u001b[0;32m    192\u001b[0m             \u001b[0maddress\u001b[0m\u001b[1;33m=\u001b[0m\u001b[0msoup\u001b[0m\u001b[1;33m.\u001b[0m\u001b[0mfind\u001b[0m\u001b[1;33m(\u001b[0m\u001b[1;34m'span'\u001b[0m\u001b[1;33m,\u001b[0m\u001b[1;33m{\u001b[0m\u001b[1;34m'itemprop'\u001b[0m\u001b[1;33m:\u001b[0m\u001b[1;34m'description'\u001b[0m\u001b[1;33m}\u001b[0m\u001b[1;33m)\u001b[0m\u001b[1;33m.\u001b[0m\u001b[0mtext\u001b[0m\u001b[1;33m\u001b[0m\u001b[1;33m\u001b[0m\u001b[0m\n\u001b[1;32m--> 193\u001b[1;33m             \u001b[0mdistrict\u001b[0m\u001b[1;33m=\u001b[0m\u001b[0mre\u001b[0m\u001b[1;33m.\u001b[0m\u001b[0msearch\u001b[0m\u001b[1;33m(\u001b[0m\u001b[1;34m'Praha [0-9]{1,2}'\u001b[0m\u001b[1;33m,\u001b[0m\u001b[0maddress\u001b[0m\u001b[1;33m)\u001b[0m\u001b[1;33m.\u001b[0m\u001b[0mgroup\u001b[0m\u001b[1;33m(\u001b[0m\u001b[1;36m0\u001b[0m\u001b[1;33m)\u001b[0m\u001b[1;33m\u001b[0m\u001b[1;33m\u001b[0m\u001b[0m\n\u001b[0m\u001b[0;32m    194\u001b[0m             \u001b[1;32mreturn\u001b[0m \u001b[0mdistrict\u001b[0m\u001b[1;33m\u001b[0m\u001b[1;33m\u001b[0m\u001b[0m\n\u001b[0;32m    195\u001b[0m \u001b[1;33m\u001b[0m\u001b[0m\n",
      "\u001b[1;31mAttributeError\u001b[0m: 'NoneType' object has no attribute 'group'"
     ]
    }
   ],
   "source": [
    "\n",
    "n = 1\n",
    "for i in links_sample:\n",
    "    rest = Restaurant(i)\n",
    "    print(\"Restaurant\", n, \":\", rest.name)\n",
    "    print(rest.review_count,\"ratings,   \", restaurant_1.ratings, \"stars\")\n",
    "    print(rest.opening_hours_span)\n",
    "    n += 1\n"
   ]
  }
 ],
 "metadata": {
  "interpreter": {
   "hash": "1f2e975888e86c326e42558cd0245e721b17a19f2abd9ef3d2679d2ce5d88c35"
  },
  "kernelspec": {
   "display_name": "Python 3.9.7 64-bit ('my_env': conda)",
   "language": "python",
   "name": "python3"
  },
  "language_info": {
   "codemirror_mode": {
    "name": "ipython",
    "version": 3
   },
   "file_extension": ".py",
   "mimetype": "text/x-python",
   "name": "python",
   "nbconvert_exporter": "python",
   "pygments_lexer": "ipython3",
   "version": "3.9.7"
  },
  "orig_nbformat": 4
 },
 "nbformat": 4,
 "nbformat_minor": 2
}
